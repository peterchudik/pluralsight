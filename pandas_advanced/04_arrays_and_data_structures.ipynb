{
 "cells": [
  {
   "cell_type": "code",
   "execution_count": 1,
   "metadata": {},
   "outputs": [
    {
     "name": "stderr",
     "output_type": "stream",
     "text": [
      "C:\\Users\\Pepo\\AppData\\Local\\Temp\\ipykernel_14108\\4080736814.py:1: DeprecationWarning: \n",
      "Pyarrow will become a required dependency of pandas in the next major release of pandas (pandas 3.0),\n",
      "(to allow more performant data types, such as the Arrow string type, and better interoperability with other libraries)\n",
      "but was not found to be installed on your system.\n",
      "If this would cause problems for you,\n",
      "please provide us feedback at https://github.com/pandas-dev/pandas/issues/54466\n",
      "        \n",
      "  import pandas as pd\n"
     ]
    }
   ],
   "source": [
    "import pandas as pd"
   ]
  },
  {
   "cell_type": "markdown",
   "metadata": {},
   "source": [
    "# Pandas arrays"
   ]
  },
  {
   "cell_type": "code",
   "execution_count": 9,
   "metadata": {},
   "outputs": [
    {
     "name": "stdout",
     "output_type": "stream",
     "text": [
      "<class 'pandas.core.arrays.integer.IntegerArray'>\n"
     ]
    },
    {
     "data": {
      "text/plain": [
       "<IntegerArray>\n",
       "[1, 2, 3, 4]\n",
       "Length: 4, dtype: Int64"
      ]
     },
     "execution_count": 9,
     "metadata": {},
     "output_type": "execute_result"
    }
   ],
   "source": [
    "# string array\n",
    "\n",
    "intArray = pd.array([1, 2, 3, 4])\n",
    "\n",
    "print(type(intArray))\n",
    "\n",
    "intArray"
   ]
  },
  {
   "cell_type": "code",
   "execution_count": 10,
   "metadata": {},
   "outputs": [
    {
     "name": "stdout",
     "output_type": "stream",
     "text": [
      "<class 'pandas.core.arrays.string_.StringArray'>\n"
     ]
    },
    {
     "data": {
      "text/plain": [
       "<StringArray>\n",
       "['1', '2', '3', '4']\n",
       "Length: 4, dtype: string"
      ]
     },
     "execution_count": 10,
     "metadata": {},
     "output_type": "execute_result"
    }
   ],
   "source": [
    "strArray = pd.array([\"1\", \"2\", \"3\", \"4\"])\n",
    "\n",
    "print(type(strArray))\n",
    "\n",
    "strArray"
   ]
  },
  {
   "cell_type": "code",
   "execution_count": 12,
   "metadata": {},
   "outputs": [
    {
     "name": "stdout",
     "output_type": "stream",
     "text": [
      "<class 'pandas.core.arrays.numpy_.NumpyExtensionArray'>\n"
     ]
    },
    {
     "data": {
      "text/plain": [
       "<NumpyExtensionArray>\n",
       "['1', '2', 'a', 'b']\n",
       "Length: 4, dtype: str352"
      ]
     },
     "execution_count": 12,
     "metadata": {},
     "output_type": "execute_result"
    }
   ],
   "source": [
    "mixedArray = pd.array([1, 2, \"a\", \"b\"])\n",
    "\n",
    "print(type(mixedArray))\n",
    "\n",
    "mixedArray"
   ]
  },
  {
   "cell_type": "code",
   "execution_count": 14,
   "metadata": {},
   "outputs": [
    {
     "name": "stdout",
     "output_type": "stream",
     "text": [
      "<class 'pandas.core.arrays.numpy_.NumpyExtensionArray'>\n"
     ]
    },
    {
     "data": {
      "text/plain": [
       "<NumpyExtensionArray>\n",
       "['1', '2', 'a', 'b']\n",
       "Length: 4, dtype: str32"
      ]
     },
     "execution_count": 14,
     "metadata": {},
     "output_type": "execute_result"
    }
   ],
   "source": [
    "# specify datatype, as best practice\n",
    "\n",
    "# dtype=object -> keep as they are\n",
    "# mixedArray = pd.array([1, 2, \"a\", \"b\"], dtype=object)\n",
    "\n",
    "mixedArray = pd.array([1, 2, \"a\", \"b\"], dtype=str)\n",
    "\n",
    "print(type(mixedArray))\n",
    "\n",
    "mixedArray"
   ]
  },
  {
   "cell_type": "markdown",
   "metadata": {},
   "source": [
    "# Pandas timestamp"
   ]
  },
  {
   "cell_type": "code",
   "execution_count": 18,
   "metadata": {},
   "outputs": [
    {
     "data": {
      "text/plain": [
       "Timestamp('2024-01-31 00:00:00')"
      ]
     },
     "execution_count": 18,
     "metadata": {},
     "output_type": "execute_result"
    }
   ],
   "source": [
    "ts1 = pd.Timestamp(\"2024-01-31\")\n",
    "\n",
    "ts1"
   ]
  },
  {
   "cell_type": "code",
   "execution_count": 19,
   "metadata": {},
   "outputs": [
    {
     "data": {
      "text/plain": [
       "Timestamp('2024-01-31 16:00:00')"
      ]
     },
     "execution_count": 19,
     "metadata": {},
     "output_type": "execute_result"
    }
   ],
   "source": [
    "ts2 = pd.Timestamp(\"2024-01-31 16:00:00\")\n",
    "\n",
    "ts2"
   ]
  },
  {
   "cell_type": "code",
   "execution_count": 20,
   "metadata": {},
   "outputs": [
    {
     "data": {
      "text/plain": [
       "Timestamp('2024-01-31 16:00:00')"
      ]
     },
     "execution_count": 20,
     "metadata": {},
     "output_type": "execute_result"
    }
   ],
   "source": [
    "ts3 = pd.Timestamp(year=2024, month=1, day=31, hour=16)\n",
    "\n",
    "ts3"
   ]
  },
  {
   "cell_type": "code",
   "execution_count": 22,
   "metadata": {},
   "outputs": [
    {
     "name": "stdout",
     "output_type": "stream",
     "text": [
      "2024\n",
      "1\n",
      "31\n",
      "2\n",
      "31\n",
      "31\n",
      "True\n"
     ]
    }
   ],
   "source": [
    "# Attributes\n",
    "print(ts1.year)\n",
    "print(ts1.month)\n",
    "print(ts1.day)\n",
    "print(ts1.day_of_week)\n",
    "print(ts1.day_of_year)\n",
    "print(ts1.days_in_month)\n",
    "print(ts1.is_month_end)"
   ]
  },
  {
   "cell_type": "code",
   "execution_count": 24,
   "metadata": {},
   "outputs": [
    {
     "data": {
      "text/plain": [
       "'2024-01-31 00-00-00'"
      ]
     },
     "execution_count": 24,
     "metadata": {},
     "output_type": "execute_result"
    }
   ],
   "source": [
    "# conversion method\n",
    "ts1_str = ts1.strftime(\"%Y-%m-%d %H-%M-%S\")\n",
    "\n",
    "ts1_str"
   ]
  },
  {
   "cell_type": "code",
   "execution_count": 26,
   "metadata": {},
   "outputs": [
    {
     "data": {
      "text/plain": [
       "Timestamp('2023-01-31 00:00:00')"
      ]
     },
     "execution_count": 26,
     "metadata": {},
     "output_type": "execute_result"
    }
   ],
   "source": [
    "# replace method\n",
    "ts1 = ts1.replace(year=2023)\n",
    "\n",
    "ts1"
   ]
  },
  {
   "cell_type": "code",
   "execution_count": 36,
   "metadata": {},
   "outputs": [
    {
     "name": "stdout",
     "output_type": "stream",
     "text": [
      "Timestamp('2024-01-31 14:30:00+0000', tz='UTC')\n",
      "Timestamp('2024-01-31 23:30:00+0900', tz='Asia/Tokyo')\n",
      "Timestamp('2024-01-31 00:00:00+0900', tz='Asia/Tokyo')\n"
     ]
    }
   ],
   "source": [
    "# timezone conversion\n",
    "\n",
    "# ts1.tz_convert(tz=\"Azia/Tokyo\")\n",
    "\n",
    "ts2_w_tz = pd.Timestamp(\"2024-01-31 14:30:00\", tz=\"UTC\")\n",
    "print(f\"{ts2_w_tz!r}\")\n",
    "\n",
    "ts2_w_tz = ts2_w_tz.tz_convert(tz=\"Asia/Tokyo\")\n",
    "print(f\"{ts2_w_tz!r}\")\n",
    "\n",
    "ts2_w_tz = ts2_w_tz.normalize()\n",
    "print(f\"{ts2_w_tz!r}\")\n"
   ]
  },
  {
   "cell_type": "code",
   "execution_count": 39,
   "metadata": {},
   "outputs": [
    {
     "name": "stdout",
     "output_type": "stream",
     "text": [
      "2023-01-31 00:00:00\n",
      "2024-01-31 00:00:00+09:00\n"
     ]
    },
    {
     "ename": "TypeError",
     "evalue": "Cannot compare tz-naive and tz-aware timestamps",
     "output_type": "error",
     "traceback": [
      "\u001b[1;31m---------------------------------------------------------------------------\u001b[0m",
      "\u001b[1;31mTypeError\u001b[0m                                 Traceback (most recent call last)",
      "Cell \u001b[1;32mIn[39], line 4\u001b[0m\n\u001b[0;32m      1\u001b[0m \u001b[38;5;28mprint\u001b[39m(ts1)\n\u001b[0;32m      2\u001b[0m \u001b[38;5;28mprint\u001b[39m(ts2_w_tz)\n\u001b[1;32m----> 4\u001b[0m \u001b[43mts1\u001b[49m\u001b[43m \u001b[49m\u001b[38;5;241;43m>\u001b[39;49m\u001b[43m \u001b[49m\u001b[43mts2_w_tz\u001b[49m\n",
      "File \u001b[1;32mtimestamps.pyx:387\u001b[0m, in \u001b[0;36mpandas._libs.tslibs.timestamps._Timestamp.__richcmp__\u001b[1;34m()\u001b[0m\n",
      "\u001b[1;31mTypeError\u001b[0m: Cannot compare tz-naive and tz-aware timestamps"
     ]
    }
   ],
   "source": [
    "print(ts1)\n",
    "print(ts2_w_tz)\n",
    "\n",
    "ts1 > ts2_w_tz"
   ]
  },
  {
   "cell_type": "markdown",
   "metadata": {},
   "source": [
    "# Time delta"
   ]
  },
  {
   "cell_type": "code",
   "execution_count": 41,
   "metadata": {},
   "outputs": [
    {
     "data": {
      "text/plain": [
       "Timedelta('5 days 00:00:00')"
      ]
     },
     "execution_count": 41,
     "metadata": {},
     "output_type": "execute_result"
    }
   ],
   "source": [
    "td1 = pd.Timedelta(value=5, unit=\"D\")\n",
    "\n",
    "td1"
   ]
  },
  {
   "cell_type": "code",
   "execution_count": 42,
   "metadata": {},
   "outputs": [
    {
     "data": {
      "text/plain": [
       "Timedelta('5 days 00:00:00')"
      ]
     },
     "execution_count": 42,
     "metadata": {},
     "output_type": "execute_result"
    }
   ],
   "source": [
    "td1 = pd.Timedelta(days=5)\n",
    "\n",
    "td1"
   ]
  },
  {
   "cell_type": "code",
   "execution_count": 43,
   "metadata": {},
   "outputs": [
    {
     "data": {
      "text/plain": [
       "Timedelta('0 days 14:33:20')"
      ]
     },
     "execution_count": 43,
     "metadata": {},
     "output_type": "execute_result"
    }
   ],
   "source": [
    "td1 = pd.Timedelta(52400, unit=\"s\")\n",
    "\n",
    "td1"
   ]
  },
  {
   "cell_type": "code",
   "execution_count": 44,
   "metadata": {},
   "outputs": [
    {
     "data": {
      "text/plain": [
       "Timedelta('0 days 12:34:56')"
      ]
     },
     "execution_count": 44,
     "metadata": {},
     "output_type": "execute_result"
    }
   ],
   "source": [
    "td1 = pd.Timedelta(\"12:34:56\")\n",
    "\n",
    "td1"
   ]
  },
  {
   "cell_type": "code",
   "execution_count": 47,
   "metadata": {},
   "outputs": [
    {
     "name": "stdout",
     "output_type": "stream",
     "text": [
      "Components(days=0, hours=12, minutes=34, seconds=56, milliseconds=0, microseconds=0, nanoseconds=0)\n",
      "0\n",
      "12\n",
      "56\n"
     ]
    }
   ],
   "source": [
    "print(td1.components)\n",
    "print(td1.components.days)\n",
    "print(td1.components.hours)\n",
    "print(td1.components.seconds)"
   ]
  },
  {
   "cell_type": "code",
   "execution_count": 49,
   "metadata": {},
   "outputs": [
    {
     "data": {
      "text/plain": [
       "45296.0"
      ]
     },
     "execution_count": 49,
     "metadata": {},
     "output_type": "execute_result"
    }
   ],
   "source": [
    "td1.total_seconds()"
   ]
  },
  {
   "cell_type": "code",
   "execution_count": 50,
   "metadata": {},
   "outputs": [
    {
     "name": "stdout",
     "output_type": "stream",
     "text": [
      "False\n",
      "1 days 03:08:16\n"
     ]
    }
   ],
   "source": [
    "td1 = pd.Timedelta(\"12:34:56\")\n",
    "td2 = pd.Timedelta(52400, unit=\"s\")\n",
    "\n",
    "print(td1 > td2)\n",
    "print(td1 + td2)"
   ]
  },
  {
   "cell_type": "markdown",
   "metadata": {},
   "source": [
    "# Interval"
   ]
  },
  {
   "cell_type": "code",
   "execution_count": 53,
   "metadata": {},
   "outputs": [
    {
     "data": {
      "text/plain": [
       "Interval(0, 10, closed='right')"
      ]
     },
     "execution_count": 53,
     "metadata": {},
     "output_type": "execute_result"
    }
   ],
   "source": [
    "iv = pd.Interval(left=0, right=10)\n",
    "\n",
    "iv"
   ]
  },
  {
   "cell_type": "code",
   "execution_count": 55,
   "metadata": {},
   "outputs": [
    {
     "name": "stdout",
     "output_type": "stream",
     "text": [
      "True\n",
      "False\n",
      "True\n",
      "False\n",
      "True\n",
      "0\n",
      "10\n",
      "10\n"
     ]
    }
   ],
   "source": [
    "print(5 in iv)\n",
    "print(11 in iv)\n",
    "print(2.5 in iv)\n",
    "print(0 in iv)\n",
    "print(10 in iv)\n",
    "print(iv.left)\n",
    "print(iv.right)\n",
    "print(iv.length)"
   ]
  },
  {
   "cell_type": "code",
   "execution_count": 56,
   "metadata": {},
   "outputs": [
    {
     "data": {
      "text/plain": [
       "Interval(5, 15, closed='right')"
      ]
     },
     "execution_count": 56,
     "metadata": {},
     "output_type": "execute_result"
    }
   ],
   "source": [
    "shifted_iv = iv + 5\n",
    "\n",
    "shifted_iv"
   ]
  },
  {
   "cell_type": "code",
   "execution_count": 57,
   "metadata": {},
   "outputs": [
    {
     "data": {
      "text/plain": [
       "Interval(0, 100, closed='right')"
      ]
     },
     "execution_count": 57,
     "metadata": {},
     "output_type": "execute_result"
    }
   ],
   "source": [
    "extended_iv = iv * 10\n",
    "\n",
    "extended_iv"
   ]
  },
  {
   "cell_type": "code",
   "execution_count": 58,
   "metadata": {},
   "outputs": [
    {
     "data": {
      "text/plain": [
       "True"
      ]
     },
     "execution_count": 58,
     "metadata": {},
     "output_type": "execute_result"
    }
   ],
   "source": [
    "iv.overlaps(extended_iv)"
   ]
  },
  {
   "cell_type": "code",
   "execution_count": 59,
   "metadata": {},
   "outputs": [
    {
     "data": {
      "text/plain": [
       "Interval(2024-01-01 00:00:00, 2024-01-03 00:00:00, closed='right')"
      ]
     },
     "execution_count": 59,
     "metadata": {},
     "output_type": "execute_result"
    }
   ],
   "source": [
    "time_iv = pd.Interval(pd.Timestamp(\"2024-01-01\"), pd.Timestamp(\"2024-01-03\"))\n",
    "\n",
    "time_iv"
   ]
  },
  {
   "cell_type": "code",
   "execution_count": 60,
   "metadata": {},
   "outputs": [
    {
     "data": {
      "text/plain": [
       "True"
      ]
     },
     "execution_count": 60,
     "metadata": {},
     "output_type": "execute_result"
    }
   ],
   "source": [
    "pd.Timestamp(\"2024-01-02\") in time_iv"
   ]
  },
  {
   "cell_type": "markdown",
   "metadata": {},
   "source": [
    "# Manipulating data"
   ]
  },
  {
   "cell_type": "markdown",
   "metadata": {},
   "source": [
    "## Categorical data"
   ]
  },
  {
   "cell_type": "code",
   "execution_count": 61,
   "metadata": {},
   "outputs": [
    {
     "data": {
      "text/plain": [
       "0    1\n",
       "1    2\n",
       "2    3\n",
       "3    1\n",
       "4    2\n",
       "5    3\n",
       "dtype: int64"
      ]
     },
     "execution_count": 61,
     "metadata": {},
     "output_type": "execute_result"
    }
   ],
   "source": [
    "mySerie = pd.Series([1, 2, 3, 1, 2, 3])\n",
    "\n",
    "mySerie"
   ]
  },
  {
   "cell_type": "code",
   "execution_count": 63,
   "metadata": {},
   "outputs": [
    {
     "name": "stdout",
     "output_type": "stream",
     "text": [
      "<class 'pandas.core.arrays.categorical.Categorical'>\n"
     ]
    },
    {
     "data": {
      "text/plain": [
       "[1, 2, 3, 1, 2, 3]\n",
       "Categories (3, int64): [1, 2, 3]"
      ]
     },
     "execution_count": 63,
     "metadata": {},
     "output_type": "execute_result"
    }
   ],
   "source": [
    "myCat = pd.Categorical(mySerie)\n",
    "\n",
    "print(type(myCat))\n",
    "\n",
    "myCat"
   ]
  },
  {
   "cell_type": "code",
   "execution_count": 64,
   "metadata": {},
   "outputs": [
    {
     "data": {
      "text/plain": [
       "['male', 'female', 'male', 'female', 'male', 'female', 'male', 'female', 'male', 'female']\n",
       "Categories (2, object): ['female', 'male']"
      ]
     },
     "execution_count": 64,
     "metadata": {},
     "output_type": "execute_result"
    }
   ],
   "source": [
    "myList = [\"male\", \"female\", \"male\", \"female\", \"male\", \"female\", \"male\", \"female\", \"male\", \"female\"]\n",
    "\n",
    "genderCat = pd.Categorical(myList)\n",
    "\n",
    "genderCat"
   ]
  },
  {
   "cell_type": "code",
   "execution_count": 66,
   "metadata": {},
   "outputs": [],
   "source": [
    "import numpy as np"
   ]
  },
  {
   "cell_type": "code",
   "execution_count": 67,
   "metadata": {},
   "outputs": [
    {
     "data": {
      "text/plain": [
       "[1, 2, 3, 1, 2, 3, NaN]\n",
       "Categories (3, int64): [1, 2, 3]"
      ]
     },
     "execution_count": 67,
     "metadata": {},
     "output_type": "execute_result"
    }
   ],
   "source": [
    "# categorical ignore missing values\n",
    "pd.Categorical([1, 2, 3, 1, 2, 3, np.nan])\n"
   ]
  },
  {
   "cell_type": "code",
   "execution_count": 70,
   "metadata": {},
   "outputs": [
    {
     "data": {
      "text/plain": [
       "[1, 2, NaN, 1, 2, NaN]\n",
       "Categories (2, int64): [1, 2]"
      ]
     },
     "execution_count": 70,
     "metadata": {},
     "output_type": "execute_result"
    }
   ],
   "source": [
    "# categories can be defined manually\n",
    "pd.Categorical([1, 2, 3, 1, 2, 3], categories=[1, 2])"
   ]
  },
  {
   "cell_type": "code",
   "execution_count": 74,
   "metadata": {},
   "outputs": [
    {
     "data": {
      "text/plain": [
       "0    1\n",
       "1    2\n",
       "2    3\n",
       "3    1\n",
       "4    2\n",
       "5    3\n",
       "dtype: category\n",
       "Categories (3, int64): [1, 2, 3]"
      ]
     },
     "execution_count": 74,
     "metadata": {},
     "output_type": "execute_result"
    }
   ],
   "source": [
    "# we can change a type of serie to categorical\n",
    "mySerie = pd.Series([1, 2, 3, 1, 2, 3])\n",
    "\n",
    "mySerie = mySerie.astype(\"category\")\n",
    "\n",
    "mySerie"
   ]
  },
  {
   "cell_type": "code",
   "execution_count": 75,
   "metadata": {},
   "outputs": [
    {
     "data": {
      "text/html": [
       "<div>\n",
       "<style scoped>\n",
       "    .dataframe tbody tr th:only-of-type {\n",
       "        vertical-align: middle;\n",
       "    }\n",
       "\n",
       "    .dataframe tbody tr th {\n",
       "        vertical-align: top;\n",
       "    }\n",
       "\n",
       "    .dataframe thead th {\n",
       "        text-align: right;\n",
       "    }\n",
       "</style>\n",
       "<table border=\"1\" class=\"dataframe\">\n",
       "  <thead>\n",
       "    <tr style=\"text-align: right;\">\n",
       "      <th></th>\n",
       "      <th>Name</th>\n",
       "      <th>Education</th>\n",
       "    </tr>\n",
       "  </thead>\n",
       "  <tbody>\n",
       "    <tr>\n",
       "      <th>0</th>\n",
       "      <td>Alice</td>\n",
       "      <td>Bachelors</td>\n",
       "    </tr>\n",
       "    <tr>\n",
       "      <th>1</th>\n",
       "      <td>Bob</td>\n",
       "      <td>Masters</td>\n",
       "    </tr>\n",
       "    <tr>\n",
       "      <th>2</th>\n",
       "      <td>Charlie</td>\n",
       "      <td>High School</td>\n",
       "    </tr>\n",
       "    <tr>\n",
       "      <th>3</th>\n",
       "      <td>David</td>\n",
       "      <td>Bachelors</td>\n",
       "    </tr>\n",
       "  </tbody>\n",
       "</table>\n",
       "</div>"
      ],
      "text/plain": [
       "      Name    Education\n",
       "0    Alice    Bachelors\n",
       "1      Bob      Masters\n",
       "2  Charlie  High School\n",
       "3    David    Bachelors"
      ]
     },
     "execution_count": 75,
     "metadata": {},
     "output_type": "execute_result"
    }
   ],
   "source": [
    "# why to use categories in pandas\n",
    "\n",
    "data = {\n",
    "    \"Name\": [\"Alice\", \"Bob\", \"Charlie\", \"David\"],\n",
    "    \"Education\": [\"Bachelors\", \"Masters\", \"High School\", \"Bachelors\"],\n",
    "}\n",
    "\n",
    "df = pd.DataFrame(data)\n",
    "\n",
    "df"
   ]
  },
  {
   "cell_type": "code",
   "execution_count": 76,
   "metadata": {},
   "outputs": [
    {
     "data": {
      "text/html": [
       "<div>\n",
       "<style scoped>\n",
       "    .dataframe tbody tr th:only-of-type {\n",
       "        vertical-align: middle;\n",
       "    }\n",
       "\n",
       "    .dataframe tbody tr th {\n",
       "        vertical-align: top;\n",
       "    }\n",
       "\n",
       "    .dataframe thead th {\n",
       "        text-align: right;\n",
       "    }\n",
       "</style>\n",
       "<table border=\"1\" class=\"dataframe\">\n",
       "  <thead>\n",
       "    <tr style=\"text-align: right;\">\n",
       "      <th></th>\n",
       "      <th>Name</th>\n",
       "      <th>Education</th>\n",
       "    </tr>\n",
       "  </thead>\n",
       "  <tbody>\n",
       "    <tr>\n",
       "      <th>0</th>\n",
       "      <td>Alice</td>\n",
       "      <td>Bachelors</td>\n",
       "    </tr>\n",
       "    <tr>\n",
       "      <th>3</th>\n",
       "      <td>David</td>\n",
       "      <td>Bachelors</td>\n",
       "    </tr>\n",
       "    <tr>\n",
       "      <th>2</th>\n",
       "      <td>Charlie</td>\n",
       "      <td>High School</td>\n",
       "    </tr>\n",
       "    <tr>\n",
       "      <th>1</th>\n",
       "      <td>Bob</td>\n",
       "      <td>Masters</td>\n",
       "    </tr>\n",
       "  </tbody>\n",
       "</table>\n",
       "</div>"
      ],
      "text/plain": [
       "      Name    Education\n",
       "0    Alice    Bachelors\n",
       "3    David    Bachelors\n",
       "2  Charlie  High School\n",
       "1      Bob      Masters"
      ]
     },
     "execution_count": 76,
     "metadata": {},
     "output_type": "execute_result"
    }
   ],
   "source": [
    "df.sort_values([\"Education\"])"
   ]
  },
  {
   "cell_type": "code",
   "execution_count": 85,
   "metadata": {},
   "outputs": [
    {
     "name": "stdout",
     "output_type": "stream",
     "text": [
      "<class 'pandas.core.series.Series'>\n",
      "-------------\n",
      "<class 'pandas.core.frame.DataFrame'>\n",
      "RangeIndex: 4 entries, 0 to 3\n",
      "Data columns (total 2 columns):\n",
      " #   Column     Non-Null Count  Dtype   \n",
      "---  ------     --------------  -----   \n",
      " 0   Name       4 non-null      object  \n",
      " 1   Education  4 non-null      category\n",
      "dtypes: category(1), object(1)\n",
      "memory usage: 300.0+ bytes\n",
      "None\n",
      "-------------\n",
      "0      Bachelors\n",
      "1        Masters\n",
      "2    High School\n",
      "3      Bachelors\n",
      "Name: Education, dtype: category\n",
      "Categories (3, object): ['High School' < 'Bachelors' < 'Masters']\n",
      "-------------\n"
     ]
    },
    {
     "data": {
      "text/html": [
       "<div>\n",
       "<style scoped>\n",
       "    .dataframe tbody tr th:only-of-type {\n",
       "        vertical-align: middle;\n",
       "    }\n",
       "\n",
       "    .dataframe tbody tr th {\n",
       "        vertical-align: top;\n",
       "    }\n",
       "\n",
       "    .dataframe thead th {\n",
       "        text-align: right;\n",
       "    }\n",
       "</style>\n",
       "<table border=\"1\" class=\"dataframe\">\n",
       "  <thead>\n",
       "    <tr style=\"text-align: right;\">\n",
       "      <th></th>\n",
       "      <th>Name</th>\n",
       "      <th>Education</th>\n",
       "    </tr>\n",
       "  </thead>\n",
       "  <tbody>\n",
       "    <tr>\n",
       "      <th>2</th>\n",
       "      <td>Charlie</td>\n",
       "      <td>High School</td>\n",
       "    </tr>\n",
       "    <tr>\n",
       "      <th>0</th>\n",
       "      <td>Alice</td>\n",
       "      <td>Bachelors</td>\n",
       "    </tr>\n",
       "    <tr>\n",
       "      <th>3</th>\n",
       "      <td>David</td>\n",
       "      <td>Bachelors</td>\n",
       "    </tr>\n",
       "    <tr>\n",
       "      <th>1</th>\n",
       "      <td>Bob</td>\n",
       "      <td>Masters</td>\n",
       "    </tr>\n",
       "  </tbody>\n",
       "</table>\n",
       "</div>"
      ],
      "text/plain": [
       "      Name    Education\n",
       "2  Charlie  High School\n",
       "0    Alice    Bachelors\n",
       "3    David    Bachelors\n",
       "1      Bob      Masters"
      ]
     },
     "execution_count": 85,
     "metadata": {},
     "output_type": "execute_result"
    }
   ],
   "source": [
    "# how to sort by education level\n",
    "\n",
    "print(type(df[\"Education\"]))\n",
    "print(\"-------------\")\n",
    "df[\"Education\"] = pd.Categorical(df[\"Education\"], categories=[\"High School\", \"Bachelors\", \"Masters\"], ordered=True)\n",
    "\n",
    "print(df.info())\n",
    "print(\"-------------\")\n",
    "\n",
    "print(df[\"Education\"])\n",
    "print(\"-------------\")\n",
    "\n",
    "df.sort_values([\"Education\"])"
   ]
  },
  {
   "cell_type": "code",
   "execution_count": 88,
   "metadata": {},
   "outputs": [
    {
     "data": {
      "text/html": [
       "<div>\n",
       "<style scoped>\n",
       "    .dataframe tbody tr th:only-of-type {\n",
       "        vertical-align: middle;\n",
       "    }\n",
       "\n",
       "    .dataframe tbody tr th {\n",
       "        vertical-align: top;\n",
       "    }\n",
       "\n",
       "    .dataframe thead th {\n",
       "        text-align: right;\n",
       "    }\n",
       "</style>\n",
       "<table border=\"1\" class=\"dataframe\">\n",
       "  <thead>\n",
       "    <tr style=\"text-align: right;\">\n",
       "      <th></th>\n",
       "      <th>Name</th>\n",
       "      <th>Education</th>\n",
       "    </tr>\n",
       "  </thead>\n",
       "  <tbody>\n",
       "    <tr>\n",
       "      <th>1</th>\n",
       "      <td>Bob</td>\n",
       "      <td>Masters</td>\n",
       "    </tr>\n",
       "  </tbody>\n",
       "</table>\n",
       "</div>"
      ],
      "text/plain": [
       "  Name Education\n",
       "1  Bob   Masters"
      ]
     },
     "execution_count": 88,
     "metadata": {},
     "output_type": "execute_result"
    }
   ],
   "source": [
    "# filter\n",
    "# df.loc[[True, False, False, True]]\n",
    "# df[\"Education\"] > \"Bachelors\"\n",
    "\n",
    "df.loc[df[\"Education\"] > \"Bachelors\"]\n"
   ]
  },
  {
   "cell_type": "markdown",
   "metadata": {},
   "source": [
    "## Sparse data"
   ]
  },
  {
   "cell_type": "code",
   "execution_count": 91,
   "metadata": {},
   "outputs": [
    {
     "data": {
      "text/plain": [
       "array([0.85428419, 0.70465232, 0.74987204, 0.89673131, 0.8781889 ,\n",
       "       0.42318135, 0.63425036, 0.14120865, 0.18759476, 0.13660365])"
      ]
     },
     "execution_count": 91,
     "metadata": {},
     "output_type": "execute_result"
    }
   ],
   "source": [
    "# Sparse array - values mostly empty\n",
    "# Dense array - values mostly filled\n",
    "\n",
    "arr = np.random.rand(10)\n",
    "\n",
    "arr\n"
   ]
  },
  {
   "cell_type": "code",
   "execution_count": 93,
   "metadata": {},
   "outputs": [
    {
     "data": {
      "text/plain": [
       "array([0.85428419, 0.70465232,        nan,        nan,        nan,\n",
       "       0.42318135, 0.63425036, 0.14120865, 0.18759476, 0.13660365])"
      ]
     },
     "execution_count": 93,
     "metadata": {},
     "output_type": "execute_result"
    }
   ],
   "source": [
    "arr[2:5] = np.nan\n",
    "\n",
    "arr"
   ]
  },
  {
   "cell_type": "code",
   "execution_count": 94,
   "metadata": {},
   "outputs": [
    {
     "data": {
      "text/plain": [
       "[0.854284193124841, 0.7046523158115638, nan, nan, nan, 0.4231813519216584, 0.6342503563122609, 0.14120864863608362, 0.18759476323611712, 0.13660365094420635]\n",
       "Fill: nan\n",
       "IntIndex\n",
       "Indices: array([0, 1, 5, 6, 7, 8, 9])"
      ]
     },
     "execution_count": 94,
     "metadata": {},
     "output_type": "execute_result"
    }
   ],
   "source": [
    "sparse_arr = pd.arrays.SparseArray(arr)\n",
    "\n",
    "sparse_arr"
   ]
  },
  {
   "cell_type": "code",
   "execution_count": 95,
   "metadata": {},
   "outputs": [
    {
     "name": "stdout",
     "output_type": "stream",
     "text": [
      "192\n",
      "56\n"
     ]
    }
   ],
   "source": [
    "from sys import getsizeof\n",
    "\n",
    "print(getsizeof(arr))\n",
    "print(getsizeof(sparse_arr))"
   ]
  },
  {
   "cell_type": "code",
   "execution_count": 96,
   "metadata": {},
   "outputs": [
    {
     "data": {
      "text/plain": [
       "array([0.85428419, 0.70465232,        nan,        nan,        nan,\n",
       "       0.42318135, 0.63425036, 0.14120865, 0.18759476, 0.13660365])"
      ]
     },
     "execution_count": 96,
     "metadata": {},
     "output_type": "execute_result"
    }
   ],
   "source": [
    "# covert to array\n",
    "np.asarray(sparse_arr)"
   ]
  },
  {
   "cell_type": "code",
   "execution_count": 97,
   "metadata": {},
   "outputs": [
    {
     "data": {
      "text/plain": [
       "Sparse[float64, nan]"
      ]
     },
     "execution_count": 97,
     "metadata": {},
     "output_type": "execute_result"
    }
   ],
   "source": [
    "# data type of sparse array\n",
    "# first is for not empty vales, second for fill value\n",
    "sparse_arr.dtype"
   ]
  },
  {
   "cell_type": "code",
   "execution_count": 102,
   "metadata": {},
   "outputs": [
    {
     "data": {
      "text/html": [
       "<div>\n",
       "<style scoped>\n",
       "    .dataframe tbody tr th:only-of-type {\n",
       "        vertical-align: middle;\n",
       "    }\n",
       "\n",
       "    .dataframe tbody tr th {\n",
       "        vertical-align: top;\n",
       "    }\n",
       "\n",
       "    .dataframe thead th {\n",
       "        text-align: right;\n",
       "    }\n",
       "</style>\n",
       "<table border=\"1\" class=\"dataframe\">\n",
       "  <thead>\n",
       "    <tr style=\"text-align: right;\">\n",
       "      <th></th>\n",
       "      <th>0</th>\n",
       "      <th>1</th>\n",
       "      <th>2</th>\n",
       "      <th>3</th>\n",
       "    </tr>\n",
       "  </thead>\n",
       "  <tbody>\n",
       "    <tr>\n",
       "      <th>0</th>\n",
       "      <td>0.256933</td>\n",
       "      <td>0.491738</td>\n",
       "      <td>0.150764</td>\n",
       "      <td>0.169405</td>\n",
       "    </tr>\n",
       "    <tr>\n",
       "      <th>1</th>\n",
       "      <td>0.132377</td>\n",
       "      <td>0.614920</td>\n",
       "      <td>0.987698</td>\n",
       "      <td>0.133915</td>\n",
       "    </tr>\n",
       "    <tr>\n",
       "      <th>2</th>\n",
       "      <td>0.487655</td>\n",
       "      <td>0.352711</td>\n",
       "      <td>0.112394</td>\n",
       "      <td>0.763591</td>\n",
       "    </tr>\n",
       "    <tr>\n",
       "      <th>3</th>\n",
       "      <td>0.912774</td>\n",
       "      <td>0.199900</td>\n",
       "      <td>0.246805</td>\n",
       "      <td>0.556790</td>\n",
       "    </tr>\n",
       "    <tr>\n",
       "      <th>4</th>\n",
       "      <td>0.446229</td>\n",
       "      <td>0.962405</td>\n",
       "      <td>0.332143</td>\n",
       "      <td>0.444687</td>\n",
       "    </tr>\n",
       "    <tr>\n",
       "      <th>...</th>\n",
       "      <td>...</td>\n",
       "      <td>...</td>\n",
       "      <td>...</td>\n",
       "      <td>...</td>\n",
       "    </tr>\n",
       "    <tr>\n",
       "      <th>9995</th>\n",
       "      <td>0.332388</td>\n",
       "      <td>0.558362</td>\n",
       "      <td>0.528962</td>\n",
       "      <td>0.527107</td>\n",
       "    </tr>\n",
       "    <tr>\n",
       "      <th>9996</th>\n",
       "      <td>0.052443</td>\n",
       "      <td>0.099375</td>\n",
       "      <td>0.032063</td>\n",
       "      <td>0.954690</td>\n",
       "    </tr>\n",
       "    <tr>\n",
       "      <th>9997</th>\n",
       "      <td>0.718908</td>\n",
       "      <td>0.475890</td>\n",
       "      <td>0.422462</td>\n",
       "      <td>0.219635</td>\n",
       "    </tr>\n",
       "    <tr>\n",
       "      <th>9998</th>\n",
       "      <td>0.632325</td>\n",
       "      <td>0.082363</td>\n",
       "      <td>0.157648</td>\n",
       "      <td>0.149413</td>\n",
       "    </tr>\n",
       "    <tr>\n",
       "      <th>9999</th>\n",
       "      <td>0.316173</td>\n",
       "      <td>0.473905</td>\n",
       "      <td>0.520136</td>\n",
       "      <td>0.054861</td>\n",
       "    </tr>\n",
       "  </tbody>\n",
       "</table>\n",
       "<p>10000 rows × 4 columns</p>\n",
       "</div>"
      ],
      "text/plain": [
       "             0         1         2         3\n",
       "0     0.256933  0.491738  0.150764  0.169405\n",
       "1     0.132377  0.614920  0.987698  0.133915\n",
       "2     0.487655  0.352711  0.112394  0.763591\n",
       "3     0.912774  0.199900  0.246805  0.556790\n",
       "4     0.446229  0.962405  0.332143  0.444687\n",
       "...        ...       ...       ...       ...\n",
       "9995  0.332388  0.558362  0.528962  0.527107\n",
       "9996  0.052443  0.099375  0.032063  0.954690\n",
       "9997  0.718908  0.475890  0.422462  0.219635\n",
       "9998  0.632325  0.082363  0.157648  0.149413\n",
       "9999  0.316173  0.473905  0.520136  0.054861\n",
       "\n",
       "[10000 rows x 4 columns]"
      ]
     },
     "execution_count": 102,
     "metadata": {},
     "output_type": "execute_result"
    }
   ],
   "source": [
    "# df to sparse df\n",
    "\n",
    "df = pd.DataFrame(np.random.rand(10000, 4))\n",
    "\n",
    "df"
   ]
  },
  {
   "cell_type": "code",
   "execution_count": 103,
   "metadata": {},
   "outputs": [
    {
     "data": {
      "text/html": [
       "<div>\n",
       "<style scoped>\n",
       "    .dataframe tbody tr th:only-of-type {\n",
       "        vertical-align: middle;\n",
       "    }\n",
       "\n",
       "    .dataframe tbody tr th {\n",
       "        vertical-align: top;\n",
       "    }\n",
       "\n",
       "    .dataframe thead th {\n",
       "        text-align: right;\n",
       "    }\n",
       "</style>\n",
       "<table border=\"1\" class=\"dataframe\">\n",
       "  <thead>\n",
       "    <tr style=\"text-align: right;\">\n",
       "      <th></th>\n",
       "      <th>0</th>\n",
       "      <th>1</th>\n",
       "      <th>2</th>\n",
       "      <th>3</th>\n",
       "    </tr>\n",
       "  </thead>\n",
       "  <tbody>\n",
       "    <tr>\n",
       "      <th>0</th>\n",
       "      <td>NaN</td>\n",
       "      <td>NaN</td>\n",
       "      <td>NaN</td>\n",
       "      <td>NaN</td>\n",
       "    </tr>\n",
       "    <tr>\n",
       "      <th>1</th>\n",
       "      <td>NaN</td>\n",
       "      <td>NaN</td>\n",
       "      <td>NaN</td>\n",
       "      <td>NaN</td>\n",
       "    </tr>\n",
       "    <tr>\n",
       "      <th>2</th>\n",
       "      <td>NaN</td>\n",
       "      <td>NaN</td>\n",
       "      <td>NaN</td>\n",
       "      <td>NaN</td>\n",
       "    </tr>\n",
       "    <tr>\n",
       "      <th>3</th>\n",
       "      <td>NaN</td>\n",
       "      <td>NaN</td>\n",
       "      <td>NaN</td>\n",
       "      <td>NaN</td>\n",
       "    </tr>\n",
       "    <tr>\n",
       "      <th>4</th>\n",
       "      <td>NaN</td>\n",
       "      <td>NaN</td>\n",
       "      <td>NaN</td>\n",
       "      <td>NaN</td>\n",
       "    </tr>\n",
       "    <tr>\n",
       "      <th>...</th>\n",
       "      <td>...</td>\n",
       "      <td>...</td>\n",
       "      <td>...</td>\n",
       "      <td>...</td>\n",
       "    </tr>\n",
       "    <tr>\n",
       "      <th>9995</th>\n",
       "      <td>NaN</td>\n",
       "      <td>NaN</td>\n",
       "      <td>NaN</td>\n",
       "      <td>NaN</td>\n",
       "    </tr>\n",
       "    <tr>\n",
       "      <th>9996</th>\n",
       "      <td>NaN</td>\n",
       "      <td>NaN</td>\n",
       "      <td>NaN</td>\n",
       "      <td>NaN</td>\n",
       "    </tr>\n",
       "    <tr>\n",
       "      <th>9997</th>\n",
       "      <td>NaN</td>\n",
       "      <td>NaN</td>\n",
       "      <td>NaN</td>\n",
       "      <td>NaN</td>\n",
       "    </tr>\n",
       "    <tr>\n",
       "      <th>9998</th>\n",
       "      <td>0.632325</td>\n",
       "      <td>0.082363</td>\n",
       "      <td>0.157648</td>\n",
       "      <td>0.149413</td>\n",
       "    </tr>\n",
       "    <tr>\n",
       "      <th>9999</th>\n",
       "      <td>0.316173</td>\n",
       "      <td>0.473905</td>\n",
       "      <td>0.520136</td>\n",
       "      <td>0.054861</td>\n",
       "    </tr>\n",
       "  </tbody>\n",
       "</table>\n",
       "<p>10000 rows × 4 columns</p>\n",
       "</div>"
      ],
      "text/plain": [
       "             0         1         2         3\n",
       "0          NaN       NaN       NaN       NaN\n",
       "1          NaN       NaN       NaN       NaN\n",
       "2          NaN       NaN       NaN       NaN\n",
       "3          NaN       NaN       NaN       NaN\n",
       "4          NaN       NaN       NaN       NaN\n",
       "...        ...       ...       ...       ...\n",
       "9995       NaN       NaN       NaN       NaN\n",
       "9996       NaN       NaN       NaN       NaN\n",
       "9997       NaN       NaN       NaN       NaN\n",
       "9998  0.632325  0.082363  0.157648  0.149413\n",
       "9999  0.316173  0.473905  0.520136  0.054861\n",
       "\n",
       "[10000 rows x 4 columns]"
      ]
     },
     "execution_count": 103,
     "metadata": {},
     "output_type": "execute_result"
    }
   ],
   "source": [
    "# set most values to nan\n",
    "\n",
    "df.iloc[:9998] = np.nan\n",
    "\n",
    "df"
   ]
  },
  {
   "cell_type": "code",
   "execution_count": 104,
   "metadata": {},
   "outputs": [
    {
     "data": {
      "text/html": [
       "<div>\n",
       "<style scoped>\n",
       "    .dataframe tbody tr th:only-of-type {\n",
       "        vertical-align: middle;\n",
       "    }\n",
       "\n",
       "    .dataframe tbody tr th {\n",
       "        vertical-align: top;\n",
       "    }\n",
       "\n",
       "    .dataframe thead th {\n",
       "        text-align: right;\n",
       "    }\n",
       "</style>\n",
       "<table border=\"1\" class=\"dataframe\">\n",
       "  <thead>\n",
       "    <tr style=\"text-align: right;\">\n",
       "      <th></th>\n",
       "      <th>0</th>\n",
       "      <th>1</th>\n",
       "      <th>2</th>\n",
       "      <th>3</th>\n",
       "    </tr>\n",
       "  </thead>\n",
       "  <tbody>\n",
       "    <tr>\n",
       "      <th>0</th>\n",
       "      <td>NaN</td>\n",
       "      <td>NaN</td>\n",
       "      <td>NaN</td>\n",
       "      <td>NaN</td>\n",
       "    </tr>\n",
       "    <tr>\n",
       "      <th>1</th>\n",
       "      <td>NaN</td>\n",
       "      <td>NaN</td>\n",
       "      <td>NaN</td>\n",
       "      <td>NaN</td>\n",
       "    </tr>\n",
       "    <tr>\n",
       "      <th>2</th>\n",
       "      <td>NaN</td>\n",
       "      <td>NaN</td>\n",
       "      <td>NaN</td>\n",
       "      <td>NaN</td>\n",
       "    </tr>\n",
       "    <tr>\n",
       "      <th>3</th>\n",
       "      <td>NaN</td>\n",
       "      <td>NaN</td>\n",
       "      <td>NaN</td>\n",
       "      <td>NaN</td>\n",
       "    </tr>\n",
       "    <tr>\n",
       "      <th>4</th>\n",
       "      <td>NaN</td>\n",
       "      <td>NaN</td>\n",
       "      <td>NaN</td>\n",
       "      <td>NaN</td>\n",
       "    </tr>\n",
       "    <tr>\n",
       "      <th>...</th>\n",
       "      <td>...</td>\n",
       "      <td>...</td>\n",
       "      <td>...</td>\n",
       "      <td>...</td>\n",
       "    </tr>\n",
       "    <tr>\n",
       "      <th>9995</th>\n",
       "      <td>NaN</td>\n",
       "      <td>NaN</td>\n",
       "      <td>NaN</td>\n",
       "      <td>NaN</td>\n",
       "    </tr>\n",
       "    <tr>\n",
       "      <th>9996</th>\n",
       "      <td>NaN</td>\n",
       "      <td>NaN</td>\n",
       "      <td>NaN</td>\n",
       "      <td>NaN</td>\n",
       "    </tr>\n",
       "    <tr>\n",
       "      <th>9997</th>\n",
       "      <td>NaN</td>\n",
       "      <td>NaN</td>\n",
       "      <td>NaN</td>\n",
       "      <td>NaN</td>\n",
       "    </tr>\n",
       "    <tr>\n",
       "      <th>9998</th>\n",
       "      <td>0.632325</td>\n",
       "      <td>0.082363</td>\n",
       "      <td>0.157648</td>\n",
       "      <td>0.149413</td>\n",
       "    </tr>\n",
       "    <tr>\n",
       "      <th>9999</th>\n",
       "      <td>0.316173</td>\n",
       "      <td>0.473905</td>\n",
       "      <td>0.520136</td>\n",
       "      <td>0.054861</td>\n",
       "    </tr>\n",
       "  </tbody>\n",
       "</table>\n",
       "<p>10000 rows × 4 columns</p>\n",
       "</div>"
      ],
      "text/plain": [
       "             0         1         2         3\n",
       "0          NaN       NaN       NaN       NaN\n",
       "1          NaN       NaN       NaN       NaN\n",
       "2          NaN       NaN       NaN       NaN\n",
       "3          NaN       NaN       NaN       NaN\n",
       "4          NaN       NaN       NaN       NaN\n",
       "...        ...       ...       ...       ...\n",
       "9995       NaN       NaN       NaN       NaN\n",
       "9996       NaN       NaN       NaN       NaN\n",
       "9997       NaN       NaN       NaN       NaN\n",
       "9998  0.632325  0.082363  0.157648  0.149413\n",
       "9999  0.316173  0.473905  0.520136  0.054861\n",
       "\n",
       "[10000 rows x 4 columns]"
      ]
     },
     "execution_count": 104,
     "metadata": {},
     "output_type": "execute_result"
    }
   ],
   "source": [
    "sdf = df.astype(pd.SparseDtype(dtype=\"float\", fill_value=np.nan))\n",
    "\n",
    "sdf"
   ]
  },
  {
   "cell_type": "code",
   "execution_count": 105,
   "metadata": {},
   "outputs": [
    {
     "name": "stdout",
     "output_type": "stream",
     "text": [
      "<class 'pandas.core.frame.DataFrame'>\n",
      "RangeIndex: 10000 entries, 0 to 9999\n",
      "Data columns (total 4 columns):\n",
      " #   Column  Non-Null Count  Dtype               \n",
      "---  ------  --------------  -----               \n",
      " 0   0       1 non-null      Sparse[float64, nan]\n",
      " 1   1       1 non-null      Sparse[float64, nan]\n",
      " 2   2       1 non-null      Sparse[float64, nan]\n",
      " 3   3       1 non-null      Sparse[float64, nan]\n",
      "dtypes: Sparse[float64, nan](4)\n",
      "memory usage: 228.0 bytes\n"
     ]
    }
   ],
   "source": [
    "sdf.info()"
   ]
  },
  {
   "cell_type": "code",
   "execution_count": 106,
   "metadata": {},
   "outputs": [
    {
     "name": "stdout",
     "output_type": "stream",
     "text": [
      "320164\n",
      "260\n"
     ]
    }
   ],
   "source": [
    "print(getsizeof(df))\n",
    "print(getsizeof(sdf))"
   ]
  },
  {
   "cell_type": "code",
   "execution_count": 108,
   "metadata": {},
   "outputs": [
    {
     "data": {
      "text/plain": [
       "320132"
      ]
     },
     "execution_count": 108,
     "metadata": {},
     "output_type": "execute_result"
    }
   ],
   "source": [
    "df.memory_usage().sum()"
   ]
  },
  {
   "cell_type": "code",
   "execution_count": 109,
   "metadata": {},
   "outputs": [
    {
     "data": {
      "text/plain": [
       "228"
      ]
     },
     "execution_count": 109,
     "metadata": {},
     "output_type": "execute_result"
    }
   ],
   "source": [
    "sdf.memory_usage().sum()"
   ]
  },
  {
   "cell_type": "markdown",
   "metadata": {},
   "source": [
    "## String data"
   ]
  },
  {
   "cell_type": "code",
   "execution_count": 6,
   "metadata": {},
   "outputs": [
    {
     "data": {
      "text/plain": [
       "0    H\n",
       "1    e\n",
       "2    l\n",
       "3    l\n",
       "4    o\n",
       "dtype: object"
      ]
     },
     "execution_count": 6,
     "metadata": {},
     "output_type": "execute_result"
    }
   ],
   "source": [
    "# default datatype is object\n",
    "\n",
    "pd.Series(list(\"Hello\"))\n"
   ]
  },
  {
   "cell_type": "code",
   "execution_count": 8,
   "metadata": {},
   "outputs": [
    {
     "data": {
      "text/plain": [
       "0    H\n",
       "1    e\n",
       "2    l\n",
       "3    l\n",
       "4    o\n",
       "dtype: string"
      ]
     },
     "execution_count": 8,
     "metadata": {},
     "output_type": "execute_result"
    }
   ],
   "source": [
    "# recomended to use str as data type\n",
    "\n",
    "pd.Series(list(\"Hello\"), dtype=\"string\")"
   ]
  },
  {
   "cell_type": "code",
   "execution_count": 10,
   "metadata": {},
   "outputs": [
    {
     "data": {
      "text/plain": [
       "0    H\n",
       "1    e\n",
       "2    l\n",
       "3    l\n",
       "4    o\n",
       "dtype: string"
      ]
     },
     "execution_count": 10,
     "metadata": {},
     "output_type": "execute_result"
    }
   ],
   "source": [
    "# recomended to use str as data type\n",
    "\n",
    "s = pd.Series(list(\"Hello\"))\n",
    "\n",
    "s = s.astype(\"string\")\n",
    "\n",
    "s"
   ]
  },
  {
   "cell_type": "code",
   "execution_count": 14,
   "metadata": {},
   "outputs": [
    {
     "data": {
      "text/plain": [
       "0    H\n",
       "1    e\n",
       "2    l\n",
       "3    l\n",
       "4    o\n",
       "5    1\n",
       "6    2\n",
       "dtype: string"
      ]
     },
     "execution_count": 14,
     "metadata": {},
     "output_type": "execute_result"
    }
   ],
   "source": [
    "s = pd.Series([*list(\"Hello\"),*[1, 2]], dtype=\"string\")\n",
    "\n",
    "s"
   ]
  },
  {
   "cell_type": "code",
   "execution_count": 15,
   "metadata": {},
   "outputs": [
    {
     "data": {
      "text/plain": [
       "'2'"
      ]
     },
     "execution_count": 15,
     "metadata": {},
     "output_type": "execute_result"
    }
   ],
   "source": [
    "# auto converted to specified data type\n",
    "s[6]"
   ]
  },
  {
   "cell_type": "code",
   "execution_count": 34,
   "metadata": {},
   "outputs": [
    {
     "data": {
      "text/plain": [
       "0            peTer  \n",
       "1              juLIA\n",
       "2    Michael Jordan \n",
       "3               jake\n",
       "4                NaN\n",
       "dtype: object"
      ]
     },
     "execution_count": 34,
     "metadata": {},
     "output_type": "execute_result"
    }
   ],
   "source": [
    "import numpy as np\n",
    "\n",
    "names = pd.Series([\"  peTer  \",\" juLIA\",\"Michael Jordan \",\"jake\", np.nan])\n",
    "\n",
    "names"
   ]
  },
  {
   "cell_type": "code",
   "execution_count": 35,
   "metadata": {},
   "outputs": [
    {
     "data": {
      "text/plain": [
       "0    False\n",
       "1    False\n",
       "2    False\n",
       "3     True\n",
       "4      NaN\n",
       "dtype: object"
      ]
     },
     "execution_count": 35,
     "metadata": {},
     "output_type": "execute_result"
    }
   ],
   "source": [
    "# as we have string data type, we can now use str accessor to get access to lot of usefull methods\n",
    "names.str.islower()\n"
   ]
  },
  {
   "cell_type": "code",
   "execution_count": 36,
   "metadata": {},
   "outputs": [
    {
     "data": {
      "text/plain": [
       "0            peter  \n",
       "1              julia\n",
       "2    michael jordan \n",
       "3               jake\n",
       "4                NaN\n",
       "dtype: object"
      ]
     },
     "execution_count": 36,
     "metadata": {},
     "output_type": "execute_result"
    }
   ],
   "source": [
    "names.str.lower()"
   ]
  },
  {
   "cell_type": "code",
   "execution_count": 37,
   "metadata": {},
   "outputs": [
    {
     "data": {
      "text/plain": [
       "0            peter  \n",
       "1              julia\n",
       "2    Michael jordan \n",
       "3               Jake\n",
       "4                NaN\n",
       "dtype: object"
      ]
     },
     "execution_count": 37,
     "metadata": {},
     "output_type": "execute_result"
    }
   ],
   "source": [
    "names.str.capitalize()"
   ]
  },
  {
   "cell_type": "code",
   "execution_count": 38,
   "metadata": {},
   "outputs": [
    {
     "data": {
      "text/plain": [
       "0     9.0\n",
       "1     6.0\n",
       "2    15.0\n",
       "3     4.0\n",
       "4     NaN\n",
       "dtype: float64"
      ]
     },
     "execution_count": 38,
     "metadata": {},
     "output_type": "execute_result"
    }
   ],
   "source": [
    "names.str.len()"
   ]
  },
  {
   "cell_type": "code",
   "execution_count": 39,
   "metadata": {},
   "outputs": [
    {
     "data": {
      "text/plain": [
       "0             Peter\n",
       "1             Julia\n",
       "2    Michael jordan\n",
       "3              Jake\n",
       "4               NaN\n",
       "dtype: object"
      ]
     },
     "execution_count": 39,
     "metadata": {},
     "output_type": "execute_result"
    }
   ],
   "source": [
    "names.str.strip().str.capitalize()"
   ]
  },
  {
   "cell_type": "code",
   "execution_count": 42,
   "metadata": {},
   "outputs": [
    {
     "data": {
      "text/plain": [
       "0              [peTer]\n",
       "1              [juLIA]\n",
       "2    [Michael, Jordan]\n",
       "3               [jake]\n",
       "4                  NaN\n",
       "dtype: object"
      ]
     },
     "execution_count": 42,
     "metadata": {},
     "output_type": "execute_result"
    }
   ],
   "source": [
    "names.str.strip().str.split(\" \")\n"
   ]
  },
  {
   "cell_type": "code",
   "execution_count": 43,
   "metadata": {},
   "outputs": [
    {
     "data": {
      "text/html": [
       "<div>\n",
       "<style scoped>\n",
       "    .dataframe tbody tr th:only-of-type {\n",
       "        vertical-align: middle;\n",
       "    }\n",
       "\n",
       "    .dataframe tbody tr th {\n",
       "        vertical-align: top;\n",
       "    }\n",
       "\n",
       "    .dataframe thead th {\n",
       "        text-align: right;\n",
       "    }\n",
       "</style>\n",
       "<table border=\"1\" class=\"dataframe\">\n",
       "  <thead>\n",
       "    <tr style=\"text-align: right;\">\n",
       "      <th></th>\n",
       "      <th>0</th>\n",
       "      <th>1</th>\n",
       "    </tr>\n",
       "  </thead>\n",
       "  <tbody>\n",
       "    <tr>\n",
       "      <th>0</th>\n",
       "      <td>peTer</td>\n",
       "      <td>None</td>\n",
       "    </tr>\n",
       "    <tr>\n",
       "      <th>1</th>\n",
       "      <td>juLIA</td>\n",
       "      <td>None</td>\n",
       "    </tr>\n",
       "    <tr>\n",
       "      <th>2</th>\n",
       "      <td>Michael</td>\n",
       "      <td>Jordan</td>\n",
       "    </tr>\n",
       "    <tr>\n",
       "      <th>3</th>\n",
       "      <td>jake</td>\n",
       "      <td>None</td>\n",
       "    </tr>\n",
       "    <tr>\n",
       "      <th>4</th>\n",
       "      <td>NaN</td>\n",
       "      <td>NaN</td>\n",
       "    </tr>\n",
       "  </tbody>\n",
       "</table>\n",
       "</div>"
      ],
      "text/plain": [
       "         0       1\n",
       "0    peTer    None\n",
       "1    juLIA    None\n",
       "2  Michael  Jordan\n",
       "3     jake    None\n",
       "4      NaN     NaN"
      ]
     },
     "execution_count": 43,
     "metadata": {},
     "output_type": "execute_result"
    }
   ],
   "source": [
    "names.str.strip().str.split(\" \", expand=True)"
   ]
  },
  {
   "cell_type": "code",
   "execution_count": 44,
   "metadata": {},
   "outputs": [
    {
     "data": {
      "text/plain": [
       "'  peTer   juLIAMichael Jordan jake'"
      ]
     },
     "execution_count": 44,
     "metadata": {},
     "output_type": "execute_result"
    }
   ],
   "source": [
    "names.str.cat()"
   ]
  },
  {
   "cell_type": "code",
   "execution_count": 45,
   "metadata": {},
   "outputs": [
    {
     "data": {
      "text/plain": [
       "'  peTer  _ juLIA_Michael Jordan _jake'"
      ]
     },
     "execution_count": 45,
     "metadata": {},
     "output_type": "execute_result"
    }
   ],
   "source": [
    "names.str.cat(sep=\"_\")"
   ]
  },
  {
   "cell_type": "code",
   "execution_count": 47,
   "metadata": {},
   "outputs": [
    {
     "data": {
      "text/plain": [
       "0            peTer  _1\n",
       "1              juLIA_2\n",
       "2    Michael Jordan _3\n",
       "3               jake_4\n",
       "4                  NaN\n",
       "dtype: object"
      ]
     },
     "execution_count": 47,
     "metadata": {},
     "output_type": "execute_result"
    }
   ],
   "source": [
    "names.str.cat([\"1\", \"2\", \"3\", \"4\", \"5\"], sep=\"_\")"
   ]
  },
  {
   "cell_type": "markdown",
   "metadata": {},
   "source": [
    "## Small project demo"
   ]
  },
  {
   "cell_type": "code",
   "execution_count": 155,
   "metadata": {},
   "outputs": [
    {
     "data": {
      "text/html": [
       "<div>\n",
       "<style scoped>\n",
       "    .dataframe tbody tr th:only-of-type {\n",
       "        vertical-align: middle;\n",
       "    }\n",
       "\n",
       "    .dataframe tbody tr th {\n",
       "        vertical-align: top;\n",
       "    }\n",
       "\n",
       "    .dataframe thead th {\n",
       "        text-align: right;\n",
       "    }\n",
       "</style>\n",
       "<table border=\"1\" class=\"dataframe\">\n",
       "  <thead>\n",
       "    <tr style=\"text-align: right;\">\n",
       "      <th></th>\n",
       "      <th>date_time</th>\n",
       "      <th>customer_id</th>\n",
       "      <th>product</th>\n",
       "      <th>location</th>\n",
       "      <th>comments</th>\n",
       "    </tr>\n",
       "  </thead>\n",
       "  <tbody>\n",
       "    <tr>\n",
       "      <th>0</th>\n",
       "      <td>2023-09-08 09:23:48.510176</td>\n",
       "      <td>22</td>\n",
       "      <td>Bag</td>\n",
       "      <td>FL</td>\n",
       "      <td>It is average</td>\n",
       "    </tr>\n",
       "    <tr>\n",
       "      <th>1</th>\n",
       "      <td>2023-06-10 08:23:48.510256</td>\n",
       "      <td>33</td>\n",
       "      <td>Socks</td>\n",
       "      <td>CA</td>\n",
       "      <td>I hate it</td>\n",
       "    </tr>\n",
       "    <tr>\n",
       "      <th>2</th>\n",
       "      <td>2023-12-08 05:23:48.510262</td>\n",
       "      <td>52</td>\n",
       "      <td>Shoe</td>\n",
       "      <td>CA</td>\n",
       "      <td>Too expensive</td>\n",
       "    </tr>\n",
       "    <tr>\n",
       "      <th>3</th>\n",
       "      <td>2023-08-31 19:23:48.510267</td>\n",
       "      <td>12</td>\n",
       "      <td>Shoe</td>\n",
       "      <td>NY</td>\n",
       "      <td>Too big</td>\n",
       "    </tr>\n",
       "    <tr>\n",
       "      <th>4</th>\n",
       "      <td>2023-06-15 09:23:48.510271</td>\n",
       "      <td>87</td>\n",
       "      <td>Pants</td>\n",
       "      <td>NY</td>\n",
       "      <td>Too expensive</td>\n",
       "    </tr>\n",
       "    <tr>\n",
       "      <th>...</th>\n",
       "      <td>...</td>\n",
       "      <td>...</td>\n",
       "      <td>...</td>\n",
       "      <td>...</td>\n",
       "      <td>...</td>\n",
       "    </tr>\n",
       "    <tr>\n",
       "      <th>95</th>\n",
       "      <td>2023-08-21 12:23:48.510663</td>\n",
       "      <td>1</td>\n",
       "      <td>Pants</td>\n",
       "      <td>CA</td>\n",
       "      <td>Good quality</td>\n",
       "    </tr>\n",
       "    <tr>\n",
       "      <th>96</th>\n",
       "      <td>2023-04-06 16:23:48.510666</td>\n",
       "      <td>24</td>\n",
       "      <td>Shirt</td>\n",
       "      <td>FL</td>\n",
       "      <td>Too big</td>\n",
       "    </tr>\n",
       "    <tr>\n",
       "      <th>97</th>\n",
       "      <td>2023-09-14 23:23:48.510670</td>\n",
       "      <td>37</td>\n",
       "      <td>Bag</td>\n",
       "      <td>FL</td>\n",
       "      <td>Too expensive</td>\n",
       "    </tr>\n",
       "    <tr>\n",
       "      <th>98</th>\n",
       "      <td>2023-06-02 01:23:48.510673</td>\n",
       "      <td>48</td>\n",
       "      <td>Socks</td>\n",
       "      <td>IL</td>\n",
       "      <td>I love it</td>\n",
       "    </tr>\n",
       "    <tr>\n",
       "      <th>99</th>\n",
       "      <td>2023-09-30 09:23:48.510677</td>\n",
       "      <td>18</td>\n",
       "      <td>Shirt</td>\n",
       "      <td>NY</td>\n",
       "      <td>Good quality</td>\n",
       "    </tr>\n",
       "  </tbody>\n",
       "</table>\n",
       "<p>100 rows × 5 columns</p>\n",
       "</div>"
      ],
      "text/plain": [
       "                     date_time  customer_id product location       comments\n",
       "0   2023-09-08 09:23:48.510176           22     Bag       FL  It is average\n",
       "1   2023-06-10 08:23:48.510256           33   Socks       CA      I hate it\n",
       "2   2023-12-08 05:23:48.510262           52    Shoe       CA  Too expensive\n",
       "3   2023-08-31 19:23:48.510267           12    Shoe       NY        Too big\n",
       "4   2023-06-15 09:23:48.510271           87   Pants       NY  Too expensive\n",
       "..                         ...          ...     ...      ...            ...\n",
       "95  2023-08-21 12:23:48.510663            1   Pants       CA   Good quality\n",
       "96  2023-04-06 16:23:48.510666           24   Shirt       FL        Too big\n",
       "97  2023-09-14 23:23:48.510670           37     Bag       FL  Too expensive\n",
       "98  2023-06-02 01:23:48.510673           48   Socks       IL      I love it\n",
       "99  2023-09-30 09:23:48.510677           18   Shirt       NY   Good quality\n",
       "\n",
       "[100 rows x 5 columns]"
      ]
     },
     "execution_count": 155,
     "metadata": {},
     "output_type": "execute_result"
    }
   ],
   "source": [
    "df_sales_data = pd.read_csv(\"sales_data.csv\")\n",
    "\n",
    "df_sales_data"
   ]
  },
  {
   "cell_type": "markdown",
   "metadata": {},
   "source": [
    "### 1. create random delivery_date column and insert it into data frame"
   ]
  },
  {
   "cell_type": "code",
   "execution_count": 157,
   "metadata": {},
   "outputs": [
    {
     "data": {
      "text/html": [
       "<div>\n",
       "<style scoped>\n",
       "    .dataframe tbody tr th:only-of-type {\n",
       "        vertical-align: middle;\n",
       "    }\n",
       "\n",
       "    .dataframe tbody tr th {\n",
       "        vertical-align: top;\n",
       "    }\n",
       "\n",
       "    .dataframe thead th {\n",
       "        text-align: right;\n",
       "    }\n",
       "</style>\n",
       "<table border=\"1\" class=\"dataframe\">\n",
       "  <thead>\n",
       "    <tr style=\"text-align: right;\">\n",
       "      <th></th>\n",
       "      <th>date_time</th>\n",
       "      <th>customer_id</th>\n",
       "      <th>product</th>\n",
       "      <th>location</th>\n",
       "      <th>comments</th>\n",
       "      <th>delivery_date</th>\n",
       "    </tr>\n",
       "  </thead>\n",
       "  <tbody>\n",
       "    <tr>\n",
       "      <th>0</th>\n",
       "      <td>2023-09-08 09:23:48.510176</td>\n",
       "      <td>22</td>\n",
       "      <td>Bag</td>\n",
       "      <td>FL</td>\n",
       "      <td>It is average</td>\n",
       "      <td>2023-09-11 09:23:48.510176</td>\n",
       "    </tr>\n",
       "    <tr>\n",
       "      <th>1</th>\n",
       "      <td>2023-06-10 08:23:48.510256</td>\n",
       "      <td>33</td>\n",
       "      <td>Socks</td>\n",
       "      <td>CA</td>\n",
       "      <td>I hate it</td>\n",
       "      <td>2023-06-11 08:23:48.510256</td>\n",
       "    </tr>\n",
       "    <tr>\n",
       "      <th>2</th>\n",
       "      <td>2023-12-08 05:23:48.510262</td>\n",
       "      <td>52</td>\n",
       "      <td>Shoe</td>\n",
       "      <td>CA</td>\n",
       "      <td>Too expensive</td>\n",
       "      <td>2023-12-10 05:23:48.510262</td>\n",
       "    </tr>\n",
       "    <tr>\n",
       "      <th>3</th>\n",
       "      <td>2023-08-31 19:23:48.510267</td>\n",
       "      <td>12</td>\n",
       "      <td>Shoe</td>\n",
       "      <td>NY</td>\n",
       "      <td>Too big</td>\n",
       "      <td>2023-09-02 19:23:48.510267</td>\n",
       "    </tr>\n",
       "    <tr>\n",
       "      <th>4</th>\n",
       "      <td>2023-06-15 09:23:48.510271</td>\n",
       "      <td>87</td>\n",
       "      <td>Pants</td>\n",
       "      <td>NY</td>\n",
       "      <td>Too expensive</td>\n",
       "      <td>2023-06-18 09:23:48.510271</td>\n",
       "    </tr>\n",
       "    <tr>\n",
       "      <th>...</th>\n",
       "      <td>...</td>\n",
       "      <td>...</td>\n",
       "      <td>...</td>\n",
       "      <td>...</td>\n",
       "      <td>...</td>\n",
       "      <td>...</td>\n",
       "    </tr>\n",
       "    <tr>\n",
       "      <th>95</th>\n",
       "      <td>2023-08-21 12:23:48.510663</td>\n",
       "      <td>1</td>\n",
       "      <td>Pants</td>\n",
       "      <td>CA</td>\n",
       "      <td>Good quality</td>\n",
       "      <td>2023-08-25 12:23:48.510663</td>\n",
       "    </tr>\n",
       "    <tr>\n",
       "      <th>96</th>\n",
       "      <td>2023-04-06 16:23:48.510666</td>\n",
       "      <td>24</td>\n",
       "      <td>Shirt</td>\n",
       "      <td>FL</td>\n",
       "      <td>Too big</td>\n",
       "      <td>2023-04-07 16:23:48.510666</td>\n",
       "    </tr>\n",
       "    <tr>\n",
       "      <th>97</th>\n",
       "      <td>2023-09-14 23:23:48.510670</td>\n",
       "      <td>37</td>\n",
       "      <td>Bag</td>\n",
       "      <td>FL</td>\n",
       "      <td>Too expensive</td>\n",
       "      <td>2023-09-20 23:23:48.510670</td>\n",
       "    </tr>\n",
       "    <tr>\n",
       "      <th>98</th>\n",
       "      <td>2023-06-02 01:23:48.510673</td>\n",
       "      <td>48</td>\n",
       "      <td>Socks</td>\n",
       "      <td>IL</td>\n",
       "      <td>I love it</td>\n",
       "      <td>2023-06-08 01:23:48.510673</td>\n",
       "    </tr>\n",
       "    <tr>\n",
       "      <th>99</th>\n",
       "      <td>2023-09-30 09:23:48.510677</td>\n",
       "      <td>18</td>\n",
       "      <td>Shirt</td>\n",
       "      <td>NY</td>\n",
       "      <td>Good quality</td>\n",
       "      <td>2023-10-03 09:23:48.510677</td>\n",
       "    </tr>\n",
       "  </tbody>\n",
       "</table>\n",
       "<p>100 rows × 6 columns</p>\n",
       "</div>"
      ],
      "text/plain": [
       "                    date_time  customer_id product location       comments  \\\n",
       "0  2023-09-08 09:23:48.510176           22     Bag       FL  It is average   \n",
       "1  2023-06-10 08:23:48.510256           33   Socks       CA      I hate it   \n",
       "2  2023-12-08 05:23:48.510262           52    Shoe       CA  Too expensive   \n",
       "3  2023-08-31 19:23:48.510267           12    Shoe       NY        Too big   \n",
       "4  2023-06-15 09:23:48.510271           87   Pants       NY  Too expensive   \n",
       "..                        ...          ...     ...      ...            ...   \n",
       "95 2023-08-21 12:23:48.510663            1   Pants       CA   Good quality   \n",
       "96 2023-04-06 16:23:48.510666           24   Shirt       FL        Too big   \n",
       "97 2023-09-14 23:23:48.510670           37     Bag       FL  Too expensive   \n",
       "98 2023-06-02 01:23:48.510673           48   Socks       IL      I love it   \n",
       "99 2023-09-30 09:23:48.510677           18   Shirt       NY   Good quality   \n",
       "\n",
       "                delivery_date  \n",
       "0  2023-09-11 09:23:48.510176  \n",
       "1  2023-06-11 08:23:48.510256  \n",
       "2  2023-12-10 05:23:48.510262  \n",
       "3  2023-09-02 19:23:48.510267  \n",
       "4  2023-06-18 09:23:48.510271  \n",
       "..                        ...  \n",
       "95 2023-08-25 12:23:48.510663  \n",
       "96 2023-04-07 16:23:48.510666  \n",
       "97 2023-09-20 23:23:48.510670  \n",
       "98 2023-06-08 01:23:48.510673  \n",
       "99 2023-10-03 09:23:48.510677  \n",
       "\n",
       "[100 rows x 6 columns]"
      ]
     },
     "execution_count": 157,
     "metadata": {},
     "output_type": "execute_result"
    }
   ],
   "source": [
    "# My solution\n",
    "\n",
    "# generate series of timedeltas\n",
    "arr_delivery_days = pd.Series(pd.Timedelta(days=i) for i in np.random.randint(low=1, high= 7, size=len(df_sales_data)))\n",
    "# print(arr_delivery_days)\n",
    "\n",
    "# convert date_time to datetime data type\n",
    "df_sales_data[\"date_time\"] = pd.to_datetime(df_sales_data[\"date_time\"])\n",
    "# print(df_sales_data.info())\n",
    "\n",
    "# create new column \"delivery_date\" by adding \"date_time\" and \"arr_delivery_days\"\n",
    "df_sales_data[\"delivery_date\"] = df_sales_data[\"date_time\"] + arr_delivery_days\n",
    "# print(df_sales_data)\n",
    "\n",
    "df_sales_data"
   ]
  },
  {
   "cell_type": "code",
   "execution_count": 76,
   "metadata": {},
   "outputs": [
    {
     "data": {
      "text/html": [
       "<div>\n",
       "<style scoped>\n",
       "    .dataframe tbody tr th:only-of-type {\n",
       "        vertical-align: middle;\n",
       "    }\n",
       "\n",
       "    .dataframe tbody tr th {\n",
       "        vertical-align: top;\n",
       "    }\n",
       "\n",
       "    .dataframe thead th {\n",
       "        text-align: right;\n",
       "    }\n",
       "</style>\n",
       "<table border=\"1\" class=\"dataframe\">\n",
       "  <thead>\n",
       "    <tr style=\"text-align: right;\">\n",
       "      <th></th>\n",
       "      <th>date_time</th>\n",
       "      <th>customer_id</th>\n",
       "      <th>product</th>\n",
       "      <th>location</th>\n",
       "      <th>comments</th>\n",
       "      <th>delivery_date</th>\n",
       "    </tr>\n",
       "  </thead>\n",
       "  <tbody>\n",
       "    <tr>\n",
       "      <th>0</th>\n",
       "      <td>2023-09-08 09:23:48.510176</td>\n",
       "      <td>22</td>\n",
       "      <td>Bag</td>\n",
       "      <td>FL</td>\n",
       "      <td>It is average</td>\n",
       "      <td>2023-09-12 09:23:48.510176</td>\n",
       "    </tr>\n",
       "    <tr>\n",
       "      <th>1</th>\n",
       "      <td>2023-06-10 08:23:48.510256</td>\n",
       "      <td>33</td>\n",
       "      <td>Socks</td>\n",
       "      <td>CA</td>\n",
       "      <td>I hate it</td>\n",
       "      <td>2023-06-17 08:23:48.510256</td>\n",
       "    </tr>\n",
       "    <tr>\n",
       "      <th>2</th>\n",
       "      <td>2023-12-08 05:23:48.510262</td>\n",
       "      <td>52</td>\n",
       "      <td>Shoe</td>\n",
       "      <td>CA</td>\n",
       "      <td>Too expensive</td>\n",
       "      <td>2023-12-15 05:23:48.510262</td>\n",
       "    </tr>\n",
       "    <tr>\n",
       "      <th>3</th>\n",
       "      <td>2023-08-31 19:23:48.510267</td>\n",
       "      <td>12</td>\n",
       "      <td>Shoe</td>\n",
       "      <td>NY</td>\n",
       "      <td>Too big</td>\n",
       "      <td>2023-09-06 19:23:48.510267</td>\n",
       "    </tr>\n",
       "    <tr>\n",
       "      <th>4</th>\n",
       "      <td>2023-06-15 09:23:48.510271</td>\n",
       "      <td>87</td>\n",
       "      <td>Pants</td>\n",
       "      <td>NY</td>\n",
       "      <td>Too expensive</td>\n",
       "      <td>2023-06-18 09:23:48.510271</td>\n",
       "    </tr>\n",
       "    <tr>\n",
       "      <th>...</th>\n",
       "      <td>...</td>\n",
       "      <td>...</td>\n",
       "      <td>...</td>\n",
       "      <td>...</td>\n",
       "      <td>...</td>\n",
       "      <td>...</td>\n",
       "    </tr>\n",
       "    <tr>\n",
       "      <th>95</th>\n",
       "      <td>2023-08-21 12:23:48.510663</td>\n",
       "      <td>1</td>\n",
       "      <td>Pants</td>\n",
       "      <td>CA</td>\n",
       "      <td>Good quality</td>\n",
       "      <td>2023-08-23 12:23:48.510663</td>\n",
       "    </tr>\n",
       "    <tr>\n",
       "      <th>96</th>\n",
       "      <td>2023-04-06 16:23:48.510666</td>\n",
       "      <td>24</td>\n",
       "      <td>Shirt</td>\n",
       "      <td>FL</td>\n",
       "      <td>Too big</td>\n",
       "      <td>2023-04-13 16:23:48.510666</td>\n",
       "    </tr>\n",
       "    <tr>\n",
       "      <th>97</th>\n",
       "      <td>2023-09-14 23:23:48.510670</td>\n",
       "      <td>37</td>\n",
       "      <td>Bag</td>\n",
       "      <td>FL</td>\n",
       "      <td>Too expensive</td>\n",
       "      <td>2023-09-21 23:23:48.510670</td>\n",
       "    </tr>\n",
       "    <tr>\n",
       "      <th>98</th>\n",
       "      <td>2023-06-02 01:23:48.510673</td>\n",
       "      <td>48</td>\n",
       "      <td>Socks</td>\n",
       "      <td>IL</td>\n",
       "      <td>I love it</td>\n",
       "      <td>2023-06-03 01:23:48.510673</td>\n",
       "    </tr>\n",
       "    <tr>\n",
       "      <th>99</th>\n",
       "      <td>2023-09-30 09:23:48.510677</td>\n",
       "      <td>18</td>\n",
       "      <td>Shirt</td>\n",
       "      <td>NY</td>\n",
       "      <td>Good quality</td>\n",
       "      <td>2023-10-06 09:23:48.510677</td>\n",
       "    </tr>\n",
       "  </tbody>\n",
       "</table>\n",
       "<p>100 rows × 6 columns</p>\n",
       "</div>"
      ],
      "text/plain": [
       "                    date_time  customer_id product location       comments  \\\n",
       "0  2023-09-08 09:23:48.510176           22     Bag       FL  It is average   \n",
       "1  2023-06-10 08:23:48.510256           33   Socks       CA      I hate it   \n",
       "2  2023-12-08 05:23:48.510262           52    Shoe       CA  Too expensive   \n",
       "3  2023-08-31 19:23:48.510267           12    Shoe       NY        Too big   \n",
       "4  2023-06-15 09:23:48.510271           87   Pants       NY  Too expensive   \n",
       "..                        ...          ...     ...      ...            ...   \n",
       "95 2023-08-21 12:23:48.510663            1   Pants       CA   Good quality   \n",
       "96 2023-04-06 16:23:48.510666           24   Shirt       FL        Too big   \n",
       "97 2023-09-14 23:23:48.510670           37     Bag       FL  Too expensive   \n",
       "98 2023-06-02 01:23:48.510673           48   Socks       IL      I love it   \n",
       "99 2023-09-30 09:23:48.510677           18   Shirt       NY   Good quality   \n",
       "\n",
       "                delivery_date  \n",
       "0  2023-09-12 09:23:48.510176  \n",
       "1  2023-06-17 08:23:48.510256  \n",
       "2  2023-12-15 05:23:48.510262  \n",
       "3  2023-09-06 19:23:48.510267  \n",
       "4  2023-06-18 09:23:48.510271  \n",
       "..                        ...  \n",
       "95 2023-08-23 12:23:48.510663  \n",
       "96 2023-04-13 16:23:48.510666  \n",
       "97 2023-09-21 23:23:48.510670  \n",
       "98 2023-06-03 01:23:48.510673  \n",
       "99 2023-10-06 09:23:48.510677  \n",
       "\n",
       "[100 rows x 6 columns]"
      ]
     },
     "execution_count": 76,
     "metadata": {},
     "output_type": "execute_result"
    }
   ],
   "source": [
    "# Course solution\n",
    "\n",
    "df_sales_data[\"date_time\"] = pd.to_datetime(df_sales_data[\"date_time\"])\n",
    "\n",
    "import datetime\n",
    "import random\n",
    "\n",
    "delivery_dates = []\n",
    "\n",
    "for dt in df_sales_data[\"date_time\"]:\n",
    "    delivery_dates.append(dt + datetime.timedelta(days=random.randint(1, 7)))\n",
    "\n",
    "# print(delivery_dates)\n",
    "\n",
    "df_sales_data[\"delivery_date\"] = delivery_dates\n",
    "\n",
    "df_sales_data"
   ]
  },
  {
   "cell_type": "markdown",
   "metadata": {},
   "source": [
    "### 2. calculate how long it takes for order to arrive"
   ]
  },
  {
   "cell_type": "code",
   "execution_count": 158,
   "metadata": {},
   "outputs": [
    {
     "data": {
      "text/html": [
       "<div>\n",
       "<style scoped>\n",
       "    .dataframe tbody tr th:only-of-type {\n",
       "        vertical-align: middle;\n",
       "    }\n",
       "\n",
       "    .dataframe tbody tr th {\n",
       "        vertical-align: top;\n",
       "    }\n",
       "\n",
       "    .dataframe thead th {\n",
       "        text-align: right;\n",
       "    }\n",
       "</style>\n",
       "<table border=\"1\" class=\"dataframe\">\n",
       "  <thead>\n",
       "    <tr style=\"text-align: right;\">\n",
       "      <th></th>\n",
       "      <th>date_time</th>\n",
       "      <th>customer_id</th>\n",
       "      <th>product</th>\n",
       "      <th>location</th>\n",
       "      <th>comments</th>\n",
       "      <th>delivery_date</th>\n",
       "      <th>delivery_time</th>\n",
       "    </tr>\n",
       "  </thead>\n",
       "  <tbody>\n",
       "    <tr>\n",
       "      <th>0</th>\n",
       "      <td>2023-09-08 09:23:48.510176</td>\n",
       "      <td>22</td>\n",
       "      <td>Bag</td>\n",
       "      <td>FL</td>\n",
       "      <td>It is average</td>\n",
       "      <td>2023-09-11 09:23:48.510176</td>\n",
       "      <td>3 days</td>\n",
       "    </tr>\n",
       "    <tr>\n",
       "      <th>1</th>\n",
       "      <td>2023-06-10 08:23:48.510256</td>\n",
       "      <td>33</td>\n",
       "      <td>Socks</td>\n",
       "      <td>CA</td>\n",
       "      <td>I hate it</td>\n",
       "      <td>2023-06-11 08:23:48.510256</td>\n",
       "      <td>1 days</td>\n",
       "    </tr>\n",
       "    <tr>\n",
       "      <th>2</th>\n",
       "      <td>2023-12-08 05:23:48.510262</td>\n",
       "      <td>52</td>\n",
       "      <td>Shoe</td>\n",
       "      <td>CA</td>\n",
       "      <td>Too expensive</td>\n",
       "      <td>2023-12-10 05:23:48.510262</td>\n",
       "      <td>2 days</td>\n",
       "    </tr>\n",
       "    <tr>\n",
       "      <th>3</th>\n",
       "      <td>2023-08-31 19:23:48.510267</td>\n",
       "      <td>12</td>\n",
       "      <td>Shoe</td>\n",
       "      <td>NY</td>\n",
       "      <td>Too big</td>\n",
       "      <td>2023-09-02 19:23:48.510267</td>\n",
       "      <td>2 days</td>\n",
       "    </tr>\n",
       "    <tr>\n",
       "      <th>4</th>\n",
       "      <td>2023-06-15 09:23:48.510271</td>\n",
       "      <td>87</td>\n",
       "      <td>Pants</td>\n",
       "      <td>NY</td>\n",
       "      <td>Too expensive</td>\n",
       "      <td>2023-06-18 09:23:48.510271</td>\n",
       "      <td>3 days</td>\n",
       "    </tr>\n",
       "    <tr>\n",
       "      <th>...</th>\n",
       "      <td>...</td>\n",
       "      <td>...</td>\n",
       "      <td>...</td>\n",
       "      <td>...</td>\n",
       "      <td>...</td>\n",
       "      <td>...</td>\n",
       "      <td>...</td>\n",
       "    </tr>\n",
       "    <tr>\n",
       "      <th>95</th>\n",
       "      <td>2023-08-21 12:23:48.510663</td>\n",
       "      <td>1</td>\n",
       "      <td>Pants</td>\n",
       "      <td>CA</td>\n",
       "      <td>Good quality</td>\n",
       "      <td>2023-08-25 12:23:48.510663</td>\n",
       "      <td>4 days</td>\n",
       "    </tr>\n",
       "    <tr>\n",
       "      <th>96</th>\n",
       "      <td>2023-04-06 16:23:48.510666</td>\n",
       "      <td>24</td>\n",
       "      <td>Shirt</td>\n",
       "      <td>FL</td>\n",
       "      <td>Too big</td>\n",
       "      <td>2023-04-07 16:23:48.510666</td>\n",
       "      <td>1 days</td>\n",
       "    </tr>\n",
       "    <tr>\n",
       "      <th>97</th>\n",
       "      <td>2023-09-14 23:23:48.510670</td>\n",
       "      <td>37</td>\n",
       "      <td>Bag</td>\n",
       "      <td>FL</td>\n",
       "      <td>Too expensive</td>\n",
       "      <td>2023-09-20 23:23:48.510670</td>\n",
       "      <td>6 days</td>\n",
       "    </tr>\n",
       "    <tr>\n",
       "      <th>98</th>\n",
       "      <td>2023-06-02 01:23:48.510673</td>\n",
       "      <td>48</td>\n",
       "      <td>Socks</td>\n",
       "      <td>IL</td>\n",
       "      <td>I love it</td>\n",
       "      <td>2023-06-08 01:23:48.510673</td>\n",
       "      <td>6 days</td>\n",
       "    </tr>\n",
       "    <tr>\n",
       "      <th>99</th>\n",
       "      <td>2023-09-30 09:23:48.510677</td>\n",
       "      <td>18</td>\n",
       "      <td>Shirt</td>\n",
       "      <td>NY</td>\n",
       "      <td>Good quality</td>\n",
       "      <td>2023-10-03 09:23:48.510677</td>\n",
       "      <td>3 days</td>\n",
       "    </tr>\n",
       "  </tbody>\n",
       "</table>\n",
       "<p>100 rows × 7 columns</p>\n",
       "</div>"
      ],
      "text/plain": [
       "                    date_time  customer_id product location       comments  \\\n",
       "0  2023-09-08 09:23:48.510176           22     Bag       FL  It is average   \n",
       "1  2023-06-10 08:23:48.510256           33   Socks       CA      I hate it   \n",
       "2  2023-12-08 05:23:48.510262           52    Shoe       CA  Too expensive   \n",
       "3  2023-08-31 19:23:48.510267           12    Shoe       NY        Too big   \n",
       "4  2023-06-15 09:23:48.510271           87   Pants       NY  Too expensive   \n",
       "..                        ...          ...     ...      ...            ...   \n",
       "95 2023-08-21 12:23:48.510663            1   Pants       CA   Good quality   \n",
       "96 2023-04-06 16:23:48.510666           24   Shirt       FL        Too big   \n",
       "97 2023-09-14 23:23:48.510670           37     Bag       FL  Too expensive   \n",
       "98 2023-06-02 01:23:48.510673           48   Socks       IL      I love it   \n",
       "99 2023-09-30 09:23:48.510677           18   Shirt       NY   Good quality   \n",
       "\n",
       "                delivery_date delivery_time  \n",
       "0  2023-09-11 09:23:48.510176        3 days  \n",
       "1  2023-06-11 08:23:48.510256        1 days  \n",
       "2  2023-12-10 05:23:48.510262        2 days  \n",
       "3  2023-09-02 19:23:48.510267        2 days  \n",
       "4  2023-06-18 09:23:48.510271        3 days  \n",
       "..                        ...           ...  \n",
       "95 2023-08-25 12:23:48.510663        4 days  \n",
       "96 2023-04-07 16:23:48.510666        1 days  \n",
       "97 2023-09-20 23:23:48.510670        6 days  \n",
       "98 2023-06-08 01:23:48.510673        6 days  \n",
       "99 2023-10-03 09:23:48.510677        3 days  \n",
       "\n",
       "[100 rows x 7 columns]"
      ]
     },
     "execution_count": 158,
     "metadata": {},
     "output_type": "execute_result"
    }
   ],
   "source": [
    "# My solution, same as Course solution\n",
    "\n",
    "df_sales_data[\"delivery_time\"] = df_sales_data[\"delivery_date\"] - df_sales_data[\"date_time\"]\n",
    "\n",
    "df_sales_data"
   ]
  },
  {
   "cell_type": "markdown",
   "metadata": {},
   "source": [
    "### 3. Convert appropriate columns to categorical for memory efficiency "
   ]
  },
  {
   "cell_type": "code",
   "execution_count": 159,
   "metadata": {},
   "outputs": [
    {
     "name": "stdout",
     "output_type": "stream",
     "text": [
      "0       Bag\n",
      "1     Socks\n",
      "2      Shoe\n",
      "3      Shoe\n",
      "4     Pants\n",
      "      ...  \n",
      "95    Pants\n",
      "96    Shirt\n",
      "97      Bag\n",
      "98    Socks\n",
      "99    Shirt\n",
      "Name: product, Length: 100, dtype: category\n",
      "Categories (5, object): ['Bag', 'Pants', 'Shirt', 'Shoe', 'Socks']\n"
     ]
    },
    {
     "data": {
      "text/plain": [
       "0     FL\n",
       "1     CA\n",
       "2     CA\n",
       "3     NY\n",
       "4     NY\n",
       "      ..\n",
       "95    CA\n",
       "96    FL\n",
       "97    FL\n",
       "98    IL\n",
       "99    NY\n",
       "Name: location, Length: 100, dtype: category\n",
       "Categories (5, object): ['CA', 'FL', 'IL', 'NY', 'TX']"
      ]
     },
     "execution_count": 159,
     "metadata": {},
     "output_type": "execute_result"
    }
   ],
   "source": [
    "# My solution, same as Course solution\n",
    "df_sales_data[\"product\"] = pd.Categorical(df_sales_data[\"product\"])\n",
    "\n",
    "print(df_sales_data[\"product\"])\n",
    "\n",
    "df_sales_data[\"location\"] = pd.Categorical(df_sales_data[\"location\"])\n",
    "\n",
    "df_sales_data[\"location\"]"
   ]
  },
  {
   "cell_type": "markdown",
   "metadata": {},
   "source": [
    "### 4. remove bag products from dataframe"
   ]
  },
  {
   "cell_type": "code",
   "execution_count": 162,
   "metadata": {},
   "outputs": [
    {
     "data": {
      "text/html": [
       "<div>\n",
       "<style scoped>\n",
       "    .dataframe tbody tr th:only-of-type {\n",
       "        vertical-align: middle;\n",
       "    }\n",
       "\n",
       "    .dataframe tbody tr th {\n",
       "        vertical-align: top;\n",
       "    }\n",
       "\n",
       "    .dataframe thead th {\n",
       "        text-align: right;\n",
       "    }\n",
       "</style>\n",
       "<table border=\"1\" class=\"dataframe\">\n",
       "  <thead>\n",
       "    <tr style=\"text-align: right;\">\n",
       "      <th></th>\n",
       "      <th>date_time</th>\n",
       "      <th>customer_id</th>\n",
       "      <th>product</th>\n",
       "      <th>location</th>\n",
       "      <th>comments</th>\n",
       "      <th>delivery_date</th>\n",
       "      <th>delivery_time</th>\n",
       "    </tr>\n",
       "  </thead>\n",
       "  <tbody>\n",
       "    <tr>\n",
       "      <th>1</th>\n",
       "      <td>2023-06-10 08:23:48.510256</td>\n",
       "      <td>33</td>\n",
       "      <td>Socks</td>\n",
       "      <td>CA</td>\n",
       "      <td>I hate it</td>\n",
       "      <td>2023-06-11 08:23:48.510256</td>\n",
       "      <td>1 days</td>\n",
       "    </tr>\n",
       "    <tr>\n",
       "      <th>2</th>\n",
       "      <td>2023-12-08 05:23:48.510262</td>\n",
       "      <td>52</td>\n",
       "      <td>Shoe</td>\n",
       "      <td>CA</td>\n",
       "      <td>Too expensive</td>\n",
       "      <td>2023-12-10 05:23:48.510262</td>\n",
       "      <td>2 days</td>\n",
       "    </tr>\n",
       "    <tr>\n",
       "      <th>3</th>\n",
       "      <td>2023-08-31 19:23:48.510267</td>\n",
       "      <td>12</td>\n",
       "      <td>Shoe</td>\n",
       "      <td>NY</td>\n",
       "      <td>Too big</td>\n",
       "      <td>2023-09-02 19:23:48.510267</td>\n",
       "      <td>2 days</td>\n",
       "    </tr>\n",
       "    <tr>\n",
       "      <th>4</th>\n",
       "      <td>2023-06-15 09:23:48.510271</td>\n",
       "      <td>87</td>\n",
       "      <td>Pants</td>\n",
       "      <td>NY</td>\n",
       "      <td>Too expensive</td>\n",
       "      <td>2023-06-18 09:23:48.510271</td>\n",
       "      <td>3 days</td>\n",
       "    </tr>\n",
       "    <tr>\n",
       "      <th>5</th>\n",
       "      <td>2023-03-26 17:23:48.510276</td>\n",
       "      <td>52</td>\n",
       "      <td>Shirt</td>\n",
       "      <td>CA</td>\n",
       "      <td>I hate it</td>\n",
       "      <td>2023-04-01 17:23:48.510276</td>\n",
       "      <td>6 days</td>\n",
       "    </tr>\n",
       "    <tr>\n",
       "      <th>...</th>\n",
       "      <td>...</td>\n",
       "      <td>...</td>\n",
       "      <td>...</td>\n",
       "      <td>...</td>\n",
       "      <td>...</td>\n",
       "      <td>...</td>\n",
       "      <td>...</td>\n",
       "    </tr>\n",
       "    <tr>\n",
       "      <th>94</th>\n",
       "      <td>2023-02-02 00:23:48.510659</td>\n",
       "      <td>97</td>\n",
       "      <td>Socks</td>\n",
       "      <td>NY</td>\n",
       "      <td>It is terrible</td>\n",
       "      <td>2023-02-07 00:23:48.510659</td>\n",
       "      <td>5 days</td>\n",
       "    </tr>\n",
       "    <tr>\n",
       "      <th>95</th>\n",
       "      <td>2023-08-21 12:23:48.510663</td>\n",
       "      <td>1</td>\n",
       "      <td>Pants</td>\n",
       "      <td>CA</td>\n",
       "      <td>Good quality</td>\n",
       "      <td>2023-08-25 12:23:48.510663</td>\n",
       "      <td>4 days</td>\n",
       "    </tr>\n",
       "    <tr>\n",
       "      <th>96</th>\n",
       "      <td>2023-04-06 16:23:48.510666</td>\n",
       "      <td>24</td>\n",
       "      <td>Shirt</td>\n",
       "      <td>FL</td>\n",
       "      <td>Too big</td>\n",
       "      <td>2023-04-07 16:23:48.510666</td>\n",
       "      <td>1 days</td>\n",
       "    </tr>\n",
       "    <tr>\n",
       "      <th>98</th>\n",
       "      <td>2023-06-02 01:23:48.510673</td>\n",
       "      <td>48</td>\n",
       "      <td>Socks</td>\n",
       "      <td>IL</td>\n",
       "      <td>I love it</td>\n",
       "      <td>2023-06-08 01:23:48.510673</td>\n",
       "      <td>6 days</td>\n",
       "    </tr>\n",
       "    <tr>\n",
       "      <th>99</th>\n",
       "      <td>2023-09-30 09:23:48.510677</td>\n",
       "      <td>18</td>\n",
       "      <td>Shirt</td>\n",
       "      <td>NY</td>\n",
       "      <td>Good quality</td>\n",
       "      <td>2023-10-03 09:23:48.510677</td>\n",
       "      <td>3 days</td>\n",
       "    </tr>\n",
       "  </tbody>\n",
       "</table>\n",
       "<p>83 rows × 7 columns</p>\n",
       "</div>"
      ],
      "text/plain": [
       "                    date_time  customer_id product location        comments  \\\n",
       "1  2023-06-10 08:23:48.510256           33   Socks       CA       I hate it   \n",
       "2  2023-12-08 05:23:48.510262           52    Shoe       CA   Too expensive   \n",
       "3  2023-08-31 19:23:48.510267           12    Shoe       NY         Too big   \n",
       "4  2023-06-15 09:23:48.510271           87   Pants       NY   Too expensive   \n",
       "5  2023-03-26 17:23:48.510276           52   Shirt       CA       I hate it   \n",
       "..                        ...          ...     ...      ...             ...   \n",
       "94 2023-02-02 00:23:48.510659           97   Socks       NY  It is terrible   \n",
       "95 2023-08-21 12:23:48.510663            1   Pants       CA    Good quality   \n",
       "96 2023-04-06 16:23:48.510666           24   Shirt       FL         Too big   \n",
       "98 2023-06-02 01:23:48.510673           48   Socks       IL       I love it   \n",
       "99 2023-09-30 09:23:48.510677           18   Shirt       NY    Good quality   \n",
       "\n",
       "                delivery_date delivery_time  \n",
       "1  2023-06-11 08:23:48.510256        1 days  \n",
       "2  2023-12-10 05:23:48.510262        2 days  \n",
       "3  2023-09-02 19:23:48.510267        2 days  \n",
       "4  2023-06-18 09:23:48.510271        3 days  \n",
       "5  2023-04-01 17:23:48.510276        6 days  \n",
       "..                        ...           ...  \n",
       "94 2023-02-07 00:23:48.510659        5 days  \n",
       "95 2023-08-25 12:23:48.510663        4 days  \n",
       "96 2023-04-07 16:23:48.510666        1 days  \n",
       "98 2023-06-08 01:23:48.510673        6 days  \n",
       "99 2023-10-03 09:23:48.510677        3 days  \n",
       "\n",
       "[83 rows x 7 columns]"
      ]
     },
     "execution_count": 162,
     "metadata": {},
     "output_type": "execute_result"
    }
   ],
   "source": [
    "# My solution\n",
    "\n",
    "# df_sales_data[~(df_sales_data[\"product\"] == \"Bag\")]\n",
    "df_sales_data = df_sales_data[df_sales_data[\"product\"] != \"Bag\"]\n",
    "\n",
    "df_sales_data"
   ]
  },
  {
   "cell_type": "code",
   "execution_count": null,
   "metadata": {},
   "outputs": [],
   "source": [
    "# Course solution\n",
    "\n",
    "# not rerunable\n",
    "df_sales_data[\"product\"] = df_sales_data[\"product\"].cat.remove_categories(\"Bag\")\n",
    "\n",
    "df_sales_data.dropna()\n",
    "\n",
    "df_sales_data"
   ]
  },
  {
   "cell_type": "markdown",
   "metadata": {},
   "source": [
    "### 5. calculate, how many days it takes to deliver each product and each location"
   ]
  },
  {
   "cell_type": "code",
   "execution_count": 164,
   "metadata": {},
   "outputs": [
    {
     "data": {
      "text/plain": [
       "product  location\n",
       "Pants    CA         21 days\n",
       "         FL         13 days\n",
       "         IL         20 days\n",
       "         NY         16 days\n",
       "         TX          9 days\n",
       "Shirt    CA         12 days\n",
       "         FL         29 days\n",
       "         IL          9 days\n",
       "         NY         13 days\n",
       "         TX         15 days\n",
       "Shoe     CA         12 days\n",
       "         FL         24 days\n",
       "         IL         11 days\n",
       "         NY         21 days\n",
       "         TX         22 days\n",
       "Socks    CA          3 days\n",
       "         FL         14 days\n",
       "         IL         12 days\n",
       "         NY         19 days\n",
       "         TX         13 days\n",
       "Name: delivery_time, dtype: timedelta64[ns]"
      ]
     },
     "execution_count": 164,
     "metadata": {},
     "output_type": "execute_result"
    }
   ],
   "source": [
    "# My solution, same as Course solution\n",
    "\n",
    "df_sales_data.groupby([\"product\", \"location\"], observed=True)[\"delivery_time\"].sum()"
   ]
  },
  {
   "cell_type": "markdown",
   "metadata": {},
   "source": [
    "### 6. tokenize comments for later analysis into new dataframe"
   ]
  },
  {
   "cell_type": "code",
   "execution_count": 169,
   "metadata": {},
   "outputs": [
    {
     "data": {
      "text/html": [
       "<div>\n",
       "<style scoped>\n",
       "    .dataframe tbody tr th:only-of-type {\n",
       "        vertical-align: middle;\n",
       "    }\n",
       "\n",
       "    .dataframe tbody tr th {\n",
       "        vertical-align: top;\n",
       "    }\n",
       "\n",
       "    .dataframe thead th {\n",
       "        text-align: right;\n",
       "    }\n",
       "</style>\n",
       "<table border=\"1\" class=\"dataframe\">\n",
       "  <thead>\n",
       "    <tr style=\"text-align: right;\">\n",
       "      <th></th>\n",
       "      <th>0</th>\n",
       "      <th>1</th>\n",
       "      <th>2</th>\n",
       "    </tr>\n",
       "  </thead>\n",
       "  <tbody>\n",
       "    <tr>\n",
       "      <th>1</th>\n",
       "      <td>I</td>\n",
       "      <td>hate</td>\n",
       "      <td>it</td>\n",
       "    </tr>\n",
       "    <tr>\n",
       "      <th>2</th>\n",
       "      <td>Too</td>\n",
       "      <td>expensive</td>\n",
       "      <td>&lt;NA&gt;</td>\n",
       "    </tr>\n",
       "    <tr>\n",
       "      <th>3</th>\n",
       "      <td>Too</td>\n",
       "      <td>big</td>\n",
       "      <td>&lt;NA&gt;</td>\n",
       "    </tr>\n",
       "    <tr>\n",
       "      <th>4</th>\n",
       "      <td>Too</td>\n",
       "      <td>expensive</td>\n",
       "      <td>&lt;NA&gt;</td>\n",
       "    </tr>\n",
       "    <tr>\n",
       "      <th>5</th>\n",
       "      <td>I</td>\n",
       "      <td>hate</td>\n",
       "      <td>it</td>\n",
       "    </tr>\n",
       "    <tr>\n",
       "      <th>...</th>\n",
       "      <td>...</td>\n",
       "      <td>...</td>\n",
       "      <td>...</td>\n",
       "    </tr>\n",
       "    <tr>\n",
       "      <th>94</th>\n",
       "      <td>It</td>\n",
       "      <td>is</td>\n",
       "      <td>terrible</td>\n",
       "    </tr>\n",
       "    <tr>\n",
       "      <th>95</th>\n",
       "      <td>Good</td>\n",
       "      <td>quality</td>\n",
       "      <td>&lt;NA&gt;</td>\n",
       "    </tr>\n",
       "    <tr>\n",
       "      <th>96</th>\n",
       "      <td>Too</td>\n",
       "      <td>big</td>\n",
       "      <td>&lt;NA&gt;</td>\n",
       "    </tr>\n",
       "    <tr>\n",
       "      <th>98</th>\n",
       "      <td>I</td>\n",
       "      <td>love</td>\n",
       "      <td>it</td>\n",
       "    </tr>\n",
       "    <tr>\n",
       "      <th>99</th>\n",
       "      <td>Good</td>\n",
       "      <td>quality</td>\n",
       "      <td>&lt;NA&gt;</td>\n",
       "    </tr>\n",
       "  </tbody>\n",
       "</table>\n",
       "<p>83 rows × 3 columns</p>\n",
       "</div>"
      ],
      "text/plain": [
       "       0          1         2\n",
       "1      I       hate        it\n",
       "2    Too  expensive      <NA>\n",
       "3    Too        big      <NA>\n",
       "4    Too  expensive      <NA>\n",
       "5      I       hate        it\n",
       "..   ...        ...       ...\n",
       "94    It         is  terrible\n",
       "95  Good    quality      <NA>\n",
       "96   Too        big      <NA>\n",
       "98     I       love        it\n",
       "99  Good    quality      <NA>\n",
       "\n",
       "[83 rows x 3 columns]"
      ]
     },
     "execution_count": 169,
     "metadata": {},
     "output_type": "execute_result"
    }
   ],
   "source": [
    "# My solution\n",
    "\n",
    "df_sales_data[\"comments\"] = df_sales_data[\"comments\"].astype(dtype=\"string\")\n",
    "\n",
    "df_sales_data[\"comments\"].str.split(\" \", expand=True)"
   ]
  },
  {
   "cell_type": "code",
   "execution_count": 171,
   "metadata": {},
   "outputs": [
    {
     "data": {
      "text/html": [
       "<div>\n",
       "<style scoped>\n",
       "    .dataframe tbody tr th:only-of-type {\n",
       "        vertical-align: middle;\n",
       "    }\n",
       "\n",
       "    .dataframe tbody tr th {\n",
       "        vertical-align: top;\n",
       "    }\n",
       "\n",
       "    .dataframe thead th {\n",
       "        text-align: right;\n",
       "    }\n",
       "</style>\n",
       "<table border=\"1\" class=\"dataframe\">\n",
       "  <thead>\n",
       "    <tr style=\"text-align: right;\">\n",
       "      <th></th>\n",
       "      <th>0</th>\n",
       "      <th>1</th>\n",
       "      <th>2</th>\n",
       "    </tr>\n",
       "  </thead>\n",
       "  <tbody>\n",
       "    <tr>\n",
       "      <th>1</th>\n",
       "      <td>I</td>\n",
       "      <td>hate</td>\n",
       "      <td>it</td>\n",
       "    </tr>\n",
       "    <tr>\n",
       "      <th>2</th>\n",
       "      <td>Too</td>\n",
       "      <td>expensive</td>\n",
       "      <td>&lt;NA&gt;</td>\n",
       "    </tr>\n",
       "    <tr>\n",
       "      <th>3</th>\n",
       "      <td>Too</td>\n",
       "      <td>big</td>\n",
       "      <td>&lt;NA&gt;</td>\n",
       "    </tr>\n",
       "    <tr>\n",
       "      <th>4</th>\n",
       "      <td>Too</td>\n",
       "      <td>expensive</td>\n",
       "      <td>&lt;NA&gt;</td>\n",
       "    </tr>\n",
       "    <tr>\n",
       "      <th>5</th>\n",
       "      <td>I</td>\n",
       "      <td>hate</td>\n",
       "      <td>it</td>\n",
       "    </tr>\n",
       "    <tr>\n",
       "      <th>...</th>\n",
       "      <td>...</td>\n",
       "      <td>...</td>\n",
       "      <td>...</td>\n",
       "    </tr>\n",
       "    <tr>\n",
       "      <th>94</th>\n",
       "      <td>It</td>\n",
       "      <td>is</td>\n",
       "      <td>terrible</td>\n",
       "    </tr>\n",
       "    <tr>\n",
       "      <th>95</th>\n",
       "      <td>Good</td>\n",
       "      <td>quality</td>\n",
       "      <td>&lt;NA&gt;</td>\n",
       "    </tr>\n",
       "    <tr>\n",
       "      <th>96</th>\n",
       "      <td>Too</td>\n",
       "      <td>big</td>\n",
       "      <td>&lt;NA&gt;</td>\n",
       "    </tr>\n",
       "    <tr>\n",
       "      <th>98</th>\n",
       "      <td>I</td>\n",
       "      <td>love</td>\n",
       "      <td>it</td>\n",
       "    </tr>\n",
       "    <tr>\n",
       "      <th>99</th>\n",
       "      <td>Good</td>\n",
       "      <td>quality</td>\n",
       "      <td>&lt;NA&gt;</td>\n",
       "    </tr>\n",
       "  </tbody>\n",
       "</table>\n",
       "<p>83 rows × 3 columns</p>\n",
       "</div>"
      ],
      "text/plain": [
       "       0          1         2\n",
       "1      I       hate        it\n",
       "2    Too  expensive      <NA>\n",
       "3    Too        big      <NA>\n",
       "4    Too  expensive      <NA>\n",
       "5      I       hate        it\n",
       "..   ...        ...       ...\n",
       "94    It         is  terrible\n",
       "95  Good    quality      <NA>\n",
       "96   Too        big      <NA>\n",
       "98     I       love        it\n",
       "99  Good    quality      <NA>\n",
       "\n",
       "[83 rows x 3 columns]"
      ]
     },
     "execution_count": 171,
     "metadata": {},
     "output_type": "execute_result"
    }
   ],
   "source": [
    "# Course solution\n",
    "\n",
    "comment_serie = df_sales_data[\"comments\"]\n",
    "\n",
    "comment_serie = comment_serie.astype(dtype=\"string\")\n",
    "\n",
    "comment_serie.str.strip().str.split(\" \", expand=True)"
   ]
  }
 ],
 "metadata": {
  "kernelspec": {
   "display_name": "Python 3",
   "language": "python",
   "name": "python3"
  },
  "language_info": {
   "codemirror_mode": {
    "name": "ipython",
    "version": 3
   },
   "file_extension": ".py",
   "mimetype": "text/x-python",
   "name": "python",
   "nbconvert_exporter": "python",
   "pygments_lexer": "ipython3",
   "version": "3.11.2"
  }
 },
 "nbformat": 4,
 "nbformat_minor": 2
}
