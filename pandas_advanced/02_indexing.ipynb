{
 "cells": [
  {
   "cell_type": "code",
   "execution_count": 2,
   "metadata": {},
   "outputs": [
    {
     "name": "stderr",
     "output_type": "stream",
     "text": [
      "C:\\Users\\Pepo\\AppData\\Local\\Temp\\ipykernel_23704\\4080736814.py:1: DeprecationWarning: \n",
      "Pyarrow will become a required dependency of pandas in the next major release of pandas (pandas 3.0),\n",
      "(to allow more performant data types, such as the Arrow string type, and better interoperability with other libraries)\n",
      "but was not found to be installed on your system.\n",
      "If this would cause problems for you,\n",
      "please provide us feedback at https://github.com/pandas-dev/pandas/issues/54466\n",
      "        \n",
      "  import pandas as pd\n"
     ]
    }
   ],
   "source": [
    "import pandas as pd"
   ]
  },
  {
   "cell_type": "markdown",
   "metadata": {},
   "source": [
    "# Panda Series"
   ]
  },
  {
   "cell_type": "markdown",
   "metadata": {},
   "source": [
    "## Constructor"
   ]
  },
  {
   "cell_type": "code",
   "execution_count": 10,
   "metadata": {},
   "outputs": [
    {
     "name": "stdout",
     "output_type": "stream",
     "text": [
      "Empty serie:\n",
      "Series([], dtype: object)\n",
      "\n",
      "Serie from List:\n",
      "0     East\n",
      "1     West\n",
      "2    North\n",
      "3    south\n",
      "dtype: object\n",
      "\n",
      "Serie from Dict:\n",
      "Grade-1    25\n",
      "Grade-2    40\n",
      "Grade-3    30\n",
      "Grade-4    28\n",
      "Grade-5    40\n",
      "dtype: int64\n",
      "\n",
      "Serie with custom index:\n",
      "E     East\n",
      "W     West\n",
      "S    North\n",
      "N    south\n",
      "dtype: object\n",
      "\n"
     ]
    }
   ],
   "source": [
    "data_list = [\"East\", \"West\", \"North\", \"south\"]\n",
    "\n",
    "data_dictionary = {\"Grade-1\": 25, \"Grade-2\": 40, \"Grade-3\": 30, \"Grade-4\": 28, \"Grade-5\": 40}\n",
    "\n",
    "# Create empty Serie\n",
    "s_empty = pd.Series()\n",
    "print(f\"Empty serie:\\n{s_empty}\\n\")\n",
    "\n",
    "# Create Serie from List\n",
    "s_from_list = pd.Series(data=data_list)\n",
    "print(f\"Serie from List:\\n{s_from_list}\\n\")\n",
    "\n",
    "# Create Serie from Dict\n",
    "s_from_dict = pd.Series(data=data_dictionary)\n",
    "print(f\"Serie from Dict:\\n{s_from_dict}\\n\")\n",
    "\n",
    "# Create Serie with custom index\n",
    "s_custom_index = pd.Series(data=data_list, index=[\"E\",\"W\",\"S\",\"N\"])\n",
    "print(f\"Serie with custom index:\\n{s_custom_index}\\n\")\n"
   ]
  },
  {
   "cell_type": "markdown",
   "metadata": {},
   "source": [
    "## Attributes"
   ]
  },
  {
   "cell_type": "markdown",
   "metadata": {},
   "source": [
    "index - serie index\n",
    "values - numpy array (ndarray)\n",
    "dtype - data type of element in the serie\n",
    "shape - as tuple\n",
    "size - number of elements in serie\n",
    "nbytes - memory usage\n",
    "name - serie label\n",
    "empty - boolean\n",
    "hasnans - if NaN (null) values are present"
   ]
  },
  {
   "cell_type": "code",
   "execution_count": 2,
   "metadata": {},
   "outputs": [
    {
     "data": {
      "text/plain": [
       "Bob     25\n",
       "Mike    28\n",
       "Mary    34\n",
       "Anna    42\n",
       "Dave    56\n",
       "Name: Employee_Information, dtype: int64"
      ]
     },
     "execution_count": 2,
     "metadata": {},
     "output_type": "execute_result"
    }
   ],
   "source": [
    "emp_name = [\"Bob\", \"Mike\", \"Mary\", \"Anna\", \"Dave\"]\n",
    "emp_age = [25, 28, 34, 42, 56]\n",
    "\n",
    "s = pd.Series(data=emp_age, index=emp_name, name=\"Employee_Information\")\n",
    "\n",
    "s"
   ]
  },
  {
   "cell_type": "code",
   "execution_count": 4,
   "metadata": {},
   "outputs": [
    {
     "name": "stdout",
     "output_type": "stream",
     "text": [
      "Index: Index(['Bob', 'Mike', 'Mary', 'Anna', 'Dave'], dtype='object') type -> <class 'pandas.core.indexes.base.Index'>\n",
      "Values: [25 28 34 42 56] type -> <class 'numpy.ndarray'>\n",
      "Data type: int64 type -> <class 'numpy.dtypes.Int64DType'>\n",
      "Shape: (5,) type -> <class 'tuple'>\n",
      "Size: 5 type -> <class 'int'>\n",
      "Bytes: 40 type -> <class 'int'>\n",
      "Name: Employee_Information type -> <class 'str'>\n",
      "Is empty: False type -> <class 'bool'>\n",
      "Has NaN: False type -> <class 'bool'>\n"
     ]
    }
   ],
   "source": [
    "print(f\"Index: {s.index} type -> {type(s.index)}\")\n",
    "print(f\"Values: {s.values} type -> {type(s.values)}\")\n",
    "print(f\"Data type: {s.dtype} type -> {type(s.dtype)}\")\n",
    "print(f\"Shape: {s.shape} type -> {type(s.shape)}\")\n",
    "print(f\"Size: {s.size} type -> {type(s.size)}\")\n",
    "print(f\"Bytes: {s.nbytes} type -> {type(s.nbytes)}\")\n",
    "print(f\"Name: {s.name} type -> {type(s.name)}\")\n",
    "print(f\"Is empty: {s.empty} type -> {type(s.empty)}\")\n",
    "print(f\"Has NaN: {s.hasnans} type -> {type(s.hasnans)}\")\n"
   ]
  },
  {
   "cell_type": "markdown",
   "metadata": {},
   "source": [
    "## Index"
   ]
  },
  {
   "cell_type": "code",
   "execution_count": 14,
   "metadata": {},
   "outputs": [
    {
     "data": {
      "text/plain": [
       "Grade-1     1\n",
       "Grade-2     2\n",
       "Grade-3     4\n",
       "Grade-4    20\n",
       "Grade-5    15\n",
       "Grade-6     1\n",
       "Name: Student grades, dtype: int64"
      ]
     },
     "execution_count": 14,
     "metadata": {},
     "output_type": "execute_result"
    }
   ],
   "source": [
    "grades = [\"Grade-1\", \"Grade-2\", \"Grade-3\", \"Grade-4\", \"Grade-5\", \"Grade-6\"]\n",
    "studenst = [1, 2, 4, 20, 15, 1]\n",
    "\n",
    "s = pd.Series(data=studenst, index=grades, name=\"Student grades\")\n",
    "\n",
    "s"
   ]
  },
  {
   "cell_type": "code",
   "execution_count": 17,
   "metadata": {},
   "outputs": [
    {
     "name": "stdout",
     "output_type": "stream",
     "text": [
      "Type: <class 'pandas.core.series.Series'>\n"
     ]
    },
    {
     "data": {
      "text/plain": [
       "Grade-1     1\n",
       "Grade-5    15\n",
       "Name: Student grades, dtype: int64"
      ]
     },
     "execution_count": 17,
     "metadata": {},
     "output_type": "execute_result"
    }
   ],
   "source": [
    "# retrieving multiple elements based on labels (index)\n",
    "\n",
    "lb_to_get = [\"Grade-1\", \"Grade-5\"]\n",
    "lb_data = s.loc[lb_to_get]\n",
    "\n",
    "print(f\"Type: {type(lb_data)}\")\n",
    "\n",
    "lb_data"
   ]
  },
  {
   "cell_type": "code",
   "execution_count": 19,
   "metadata": {},
   "outputs": [
    {
     "name": "stdout",
     "output_type": "stream",
     "text": [
      "Type: <class 'numpy.int64'>\n"
     ]
    },
    {
     "data": {
      "text/plain": [
       "1"
      ]
     },
     "execution_count": 19,
     "metadata": {},
     "output_type": "execute_result"
    }
   ],
   "source": [
    "# retrieving single element based on labels (index)\n",
    "\n",
    "lb_data = s.at[\"Grade-6\"]\n",
    "\n",
    "print(f\"Type: {type(lb_data)}\")\n",
    "\n",
    "lb_data"
   ]
  },
  {
   "cell_type": "code",
   "execution_count": 20,
   "metadata": {},
   "outputs": [
    {
     "name": "stdout",
     "output_type": "stream",
     "text": [
      "Type: <class 'pandas.core.series.Series'>\n"
     ]
    },
    {
     "data": {
      "text/plain": [
       "Grade-2    2\n",
       "Grade-3    4\n",
       "Name: Student grades, dtype: int64"
      ]
     },
     "execution_count": 20,
     "metadata": {},
     "output_type": "execute_result"
    }
   ],
   "source": [
    "# retrieving multiple element based on position\n",
    "\n",
    "pb_data = s.iloc[1:3]\n",
    "\n",
    "print(f\"Type: {type(pb_data)}\")\n",
    "\n",
    "pb_data"
   ]
  },
  {
   "cell_type": "code",
   "execution_count": 21,
   "metadata": {},
   "outputs": [
    {
     "name": "stdout",
     "output_type": "stream",
     "text": [
      "Type: <class 'numpy.int64'>\n"
     ]
    },
    {
     "data": {
      "text/plain": [
       "1"
      ]
     },
     "execution_count": 21,
     "metadata": {},
     "output_type": "execute_result"
    }
   ],
   "source": [
    "# retrieving single element based on position\n",
    "\n",
    "pb_data = s.iat[5]\n",
    "\n",
    "print(f\"Type: {type(pb_data)}\")\n",
    "\n",
    "pb_data"
   ]
  },
  {
   "cell_type": "markdown",
   "metadata": {},
   "source": [
    "## MultiIndex"
   ]
  },
  {
   "cell_type": "code",
   "execution_count": 37,
   "metadata": {},
   "outputs": [
    {
     "data": {
      "text/plain": [
       "CA  2000    25\n",
       "    2010    26\n",
       "    2020    27\n",
       "TX  2000    40\n",
       "    2010    42\n",
       "    2020    44\n",
       "FL  2000    10\n",
       "    2010    11\n",
       "    2020    12\n",
       "dtype: int64"
      ]
     },
     "execution_count": 37,
     "metadata": {},
     "output_type": "execute_result"
    }
   ],
   "source": [
    "index = [\n",
    "    (\"CA\", 2000), (\"CA\", 2010), (\"CA\", 2020),\n",
    "    (\"TX\", 2000), (\"TX\", 2010), (\"TX\", 2020),\n",
    "    (\"FL\", 2000), (\"FL\", 2010), (\"FL\", 2020),\n",
    "]\n",
    "# index = [\n",
    "#     (\"CA\", 2000), (\"TX\", 2000), (\"FL\", 2000),\n",
    "#     (\"CA\", 2010), (\"TX\", 2010), (\"FL\", 2010),\n",
    "#     (\"CA\", 2020), (\"TX\", 2020), (\"FL\", 2020),\n",
    "# ]\n",
    "\n",
    "population = [25, 26, 27, 40, 42, 44, 10, 11, 12]\n",
    "\n",
    "multindex = pd.MultiIndex.from_tuples(index)\n",
    "\n",
    "s = pd.Series(data=population, index=multindex)\n",
    "\n",
    "s"
   ]
  },
  {
   "cell_type": "code",
   "execution_count": 38,
   "metadata": {},
   "outputs": [
    {
     "name": "stdout",
     "output_type": "stream",
     "text": [
      "<class 'pandas.core.series.Series'>\n"
     ]
    },
    {
     "data": {
      "text/plain": [
       "2000    25\n",
       "2010    26\n",
       "2020    27\n",
       "dtype: int64"
      ]
     },
     "execution_count": 38,
     "metadata": {},
     "output_type": "execute_result"
    }
   ],
   "source": [
    "# retrieving data by labels of first level of MultiIndex\n",
    "print(type(s.loc[\"CA\"]))\n",
    "\n",
    "s.loc[\"CA\"]"
   ]
  },
  {
   "cell_type": "code",
   "execution_count": 39,
   "metadata": {},
   "outputs": [
    {
     "name": "stdout",
     "output_type": "stream",
     "text": [
      "<class 'pandas.core.series.Series'>\n"
     ]
    },
    {
     "data": {
      "text/plain": [
       "CA    25\n",
       "TX    40\n",
       "FL    10\n",
       "dtype: int64"
      ]
     },
     "execution_count": 39,
     "metadata": {},
     "output_type": "execute_result"
    }
   ],
   "source": [
    "# retrieving data by labels of second level of MultiIndex\n",
    "print(type(s.loc[:, 2000]))\n",
    "\n",
    "s.loc[:, 2000]"
   ]
  },
  {
   "cell_type": "code",
   "execution_count": 40,
   "metadata": {},
   "outputs": [
    {
     "name": "stdout",
     "output_type": "stream",
     "text": [
      "<class 'numpy.int64'>\n"
     ]
    },
    {
     "data": {
      "text/plain": [
       "CA  2000    25\n",
       "dtype: int64"
      ]
     },
     "execution_count": 40,
     "metadata": {},
     "output_type": "execute_result"
    }
   ],
   "source": [
    "# retrieving data by labels of second level of MultiIndex\n",
    "print(type(s.loc[\"CA\", 2000]))\n",
    "\n",
    "s.loc[[\"CA\"], 2000]"
   ]
  },
  {
   "cell_type": "markdown",
   "metadata": {},
   "source": [
    "## Boolean slicing"
   ]
  },
  {
   "cell_type": "code",
   "execution_count": 47,
   "metadata": {},
   "outputs": [
    {
     "data": {
      "text/plain": [
       "New York        8.5\n",
       "Los Angeles     3.9\n",
       "Houston         2.3\n",
       "Phoenix         1.6\n",
       "Chicago         2.7\n",
       "San Antonio     1.5\n",
       "San Diego       1.4\n",
       "Philadelphia    1.6\n",
       "dtype: float64"
      ]
     },
     "execution_count": 47,
     "metadata": {},
     "output_type": "execute_result"
    }
   ],
   "source": [
    "data = {\"Population\": [8.5, 3.9, 2.3, 1.6, 2.7, 1.5, 1.4, 1.6]}\n",
    "custom_index = [\"New York\", \"Los Angeles\", \"Houston\", \"Phoenix\", \"Chicago\", \"San Antonio\", \"San Diego\", \"Philadelphia\"]\n",
    "\n",
    "s = pd.Series(data=data[\"Population\"], index=custom_index)\n",
    "\n",
    "s"
   ]
  },
  {
   "cell_type": "code",
   "execution_count": 50,
   "metadata": {},
   "outputs": [
    {
     "name": "stdout",
     "output_type": "stream",
     "text": [
      "<class 'pandas.core.series.Series'>\n"
     ]
    },
    {
     "data": {
      "text/plain": [
       "New York        False\n",
       "Los Angeles      True\n",
       "Houston          True\n",
       "Phoenix         False\n",
       "Chicago          True\n",
       "San Antonio     False\n",
       "San Diego       False\n",
       "Philadelphia    False\n",
       "dtype: bool"
      ]
     },
     "execution_count": 50,
     "metadata": {},
     "output_type": "execute_result"
    }
   ],
   "source": [
    "# create new boolean Serie based on selection\n",
    "sel = (s > 2) & (s < 5)\n",
    "\n",
    "print(type(sel))\n",
    "\n",
    "sel"
   ]
  },
  {
   "cell_type": "code",
   "execution_count": 51,
   "metadata": {},
   "outputs": [
    {
     "data": {
      "text/plain": [
       "Los Angeles    3.9\n",
       "Houston        2.3\n",
       "Chicago        2.7\n",
       "dtype: float64"
      ]
     },
     "execution_count": 51,
     "metadata": {},
     "output_type": "execute_result"
    }
   ],
   "source": [
    "# slice using boolean Serie to select result Serie\n",
    "result = s[sel]\n",
    "\n",
    "result"
   ]
  },
  {
   "cell_type": "markdown",
   "metadata": {},
   "source": [
    "## Slicing"
   ]
  },
  {
   "cell_type": "code",
   "execution_count": 52,
   "metadata": {},
   "outputs": [
    {
     "data": {
      "text/plain": [
       "New York        8.5\n",
       "Los Angeles     3.9\n",
       "Houston         2.3\n",
       "Phoenix         1.6\n",
       "Chicago         2.7\n",
       "San Antonio     1.5\n",
       "San Diego       1.4\n",
       "Philadelphia    1.6\n",
       "dtype: float64"
      ]
     },
     "execution_count": 52,
     "metadata": {},
     "output_type": "execute_result"
    }
   ],
   "source": [
    "data = {\"Population\": [8.5, 3.9, 2.3, 1.6, 2.7, 1.5, 1.4, 1.6]}\n",
    "custom_index = [\"New York\", \"Los Angeles\", \"Houston\", \"Phoenix\", \"Chicago\", \"San Antonio\", \"San Diego\", \"Philadelphia\"]\n",
    "\n",
    "s = pd.Series(data=data[\"Population\"], index=custom_index)\n",
    "\n",
    "s"
   ]
  },
  {
   "cell_type": "code",
   "execution_count": 59,
   "metadata": {},
   "outputs": [
    {
     "name": "stdout",
     "output_type": "stream",
     "text": [
      "Los Angeles    3.9\n",
      "Houston        2.3\n",
      "Phoenix        1.6\n",
      "Chicago        2.7\n",
      "dtype: float64\n",
      "Los Angeles    3.9\n",
      "Houston        2.3\n",
      "Phoenix        1.6\n",
      "Chicago        2.7\n",
      "dtype: float64\n"
     ]
    }
   ],
   "source": [
    "# Positional index slicing\n",
    "\n",
    "sub = s[1:5]\n",
    "print(sub)\n",
    "\n",
    "# same as\n",
    "sub1 = s.iloc[1:5]\n",
    "print(sub1)\n"
   ]
  },
  {
   "cell_type": "code",
   "execution_count": 60,
   "metadata": {},
   "outputs": [
    {
     "name": "stdout",
     "output_type": "stream",
     "text": [
      "Los Angeles    3.9\n",
      "Houston        2.3\n",
      "Phoenix        1.6\n",
      "Chicago        2.7\n",
      "dtype: float64\n",
      "Los Angeles    3.9\n",
      "Houston        2.3\n",
      "Phoenix        1.6\n",
      "Chicago        2.7\n",
      "dtype: float64\n"
     ]
    }
   ],
   "source": [
    "# Label index slicing\n",
    "\n",
    "sub = s[\"Los Angeles\":\"Chicago\"]\n",
    "print(sub)\n",
    "\n",
    "# same as\n",
    "sub1 = s.loc[\"Los Angeles\":\"Chicago\"]\n",
    "print(sub1)"
   ]
  },
  {
   "cell_type": "code",
   "execution_count": 61,
   "metadata": {},
   "outputs": [
    {
     "name": "stdout",
     "output_type": "stream",
     "text": [
      "New York     8.5\n",
      "Houston      2.3\n",
      "Chicago      2.7\n",
      "San Diego    1.4\n",
      "dtype: float64\n",
      "New York     8.5\n",
      "Houston      2.3\n",
      "Chicago      2.7\n",
      "San Diego    1.4\n",
      "dtype: float64\n"
     ]
    }
   ],
   "source": [
    "# Label index slicing using step\n",
    "\n",
    "sub = s[\"New York\":\"Philadelphia\":2]\n",
    "print(sub)\n",
    "\n",
    "# same as\n",
    "sub1 = s.loc[\"New York\":\"Philadelphia\":2]\n",
    "print(sub1)"
   ]
  },
  {
   "cell_type": "markdown",
   "metadata": {},
   "source": [
    "# Pandas DataFrame"
   ]
  },
  {
   "cell_type": "markdown",
   "metadata": {},
   "source": [
    "## One level indexing"
   ]
  },
  {
   "cell_type": "code",
   "execution_count": 110,
   "metadata": {},
   "outputs": [
    {
     "data": {
      "text/html": [
       "<div>\n",
       "<style scoped>\n",
       "    .dataframe tbody tr th:only-of-type {\n",
       "        vertical-align: middle;\n",
       "    }\n",
       "\n",
       "    .dataframe tbody tr th {\n",
       "        vertical-align: top;\n",
       "    }\n",
       "\n",
       "    .dataframe thead th {\n",
       "        text-align: right;\n",
       "    }\n",
       "</style>\n",
       "<table border=\"1\" class=\"dataframe\">\n",
       "  <thead>\n",
       "    <tr style=\"text-align: right;\">\n",
       "      <th></th>\n",
       "      <th>Customer</th>\n",
       "      <th>Product</th>\n",
       "      <th>Sales Amount</th>\n",
       "    </tr>\n",
       "  </thead>\n",
       "  <tbody>\n",
       "    <tr>\n",
       "      <th>101</th>\n",
       "      <td>John</td>\n",
       "      <td>Laptop</td>\n",
       "      <td>1100</td>\n",
       "    </tr>\n",
       "    <tr>\n",
       "      <th>102</th>\n",
       "      <td>Jane</td>\n",
       "      <td>Keyboard</td>\n",
       "      <td>100</td>\n",
       "    </tr>\n",
       "    <tr>\n",
       "      <th>103</th>\n",
       "      <td>Bob</td>\n",
       "      <td>Mouse</td>\n",
       "      <td>40</td>\n",
       "    </tr>\n",
       "    <tr>\n",
       "      <th>104</th>\n",
       "      <td>Alice</td>\n",
       "      <td>Printer</td>\n",
       "      <td>700</td>\n",
       "    </tr>\n",
       "  </tbody>\n",
       "</table>\n",
       "</div>"
      ],
      "text/plain": [
       "    Customer   Product  Sales Amount\n",
       "101     John    Laptop          1100\n",
       "102     Jane  Keyboard           100\n",
       "103      Bob     Mouse            40\n",
       "104    Alice   Printer           700"
      ]
     },
     "execution_count": 110,
     "metadata": {},
     "output_type": "execute_result"
    }
   ],
   "source": [
    "data = {\n",
    "    \"Customer\": [\"John\", \"Jane\", \"Bob\", \"Alice\"],\n",
    "    \"Product\": [\"Laptop\", \"Keyboard\", \"Mouse\", \"Printer\"],\n",
    "    \"Sales Amount\": [1100, 100, 40, 700]\n",
    "}\n",
    "\n",
    "custom_index = [101, 102, 103, 104]\n",
    "\n",
    "df = pd.DataFrame(data,index=custom_index)\n",
    "\n",
    "df"
   ]
  },
  {
   "cell_type": "code",
   "execution_count": 111,
   "metadata": {},
   "outputs": [
    {
     "name": "stdout",
     "output_type": "stream",
     "text": [
      "<class 'pandas.core.series.Series'>\n",
      "      Product  Sales Amount\n",
      "102  Keyboard           100\n",
      "103     Mouse            40\n",
      "<class 'pandas.core.series.Series'>\n",
      "Customer          John\n",
      "Product         Laptop\n",
      "Sales Amount      1100\n",
      "Name: 101, dtype: object\n"
     ]
    }
   ],
   "source": [
    "# select 1 row\n",
    "s = df.loc[101, :]\n",
    "\n",
    "print(type(s))\n",
    "print(r)\n",
    "\n",
    "# same as\n",
    "s = df.iloc[0, :]\n",
    "\n",
    "print(type(s))\n",
    "print(s)\n"
   ]
  },
  {
   "cell_type": "code",
   "execution_count": 112,
   "metadata": {},
   "outputs": [
    {
     "name": "stdout",
     "output_type": "stream",
     "text": [
      "<class 'pandas.core.frame.DataFrame'>\n",
      "    Customer   Product  Sales Amount\n",
      "101     John    Laptop          1100\n",
      "102     Jane  Keyboard           100\n",
      "103      Bob     Mouse            40\n",
      "<class 'pandas.core.frame.DataFrame'>\n",
      "    Customer   Product  Sales Amount\n",
      "101     John    Laptop          1100\n",
      "102     Jane  Keyboard           100\n",
      "103      Bob     Mouse            40\n"
     ]
    }
   ],
   "source": [
    "# select multiple rows\n",
    "s = df.loc[101:103, :]\n",
    "\n",
    "print(type(s))\n",
    "print(s)\n",
    "\n",
    "# same as\n",
    "s = df.iloc[0:3, :]\n",
    "\n",
    "print(type(s))\n",
    "print(s)\n"
   ]
  },
  {
   "cell_type": "code",
   "execution_count": 113,
   "metadata": {},
   "outputs": [
    {
     "name": "stdout",
     "output_type": "stream",
     "text": [
      "<class 'pandas.core.series.Series'>\n",
      "101      Laptop\n",
      "102    Keyboard\n",
      "103       Mouse\n",
      "104     Printer\n",
      "Name: Product, dtype: object\n",
      "<class 'pandas.core.series.Series'>\n",
      "101      Laptop\n",
      "102    Keyboard\n",
      "103       Mouse\n",
      "104     Printer\n",
      "Name: Product, dtype: object\n"
     ]
    }
   ],
   "source": [
    "# select 1 column\n",
    "s = df.loc[:, \"Product\"]\n",
    "\n",
    "print(type(s))\n",
    "print(s)\n",
    "\n",
    "# same as\n",
    "s = df.iloc[:, 1]\n",
    "\n",
    "print(type(s))\n",
    "print(s)"
   ]
  },
  {
   "cell_type": "code",
   "execution_count": 114,
   "metadata": {},
   "outputs": [
    {
     "name": "stdout",
     "output_type": "stream",
     "text": [
      "<class 'pandas.core.series.Series'>\n",
      "101      Laptop\n",
      "102    Keyboard\n",
      "103       Mouse\n",
      "104     Printer\n",
      "Name: Product, dtype: object\n",
      "<class 'pandas.core.frame.DataFrame'>\n",
      "      Product  Sales Amount\n",
      "101    Laptop          1100\n",
      "102  Keyboard           100\n",
      "103     Mouse            40\n",
      "104   Printer           700\n"
     ]
    }
   ],
   "source": [
    "# select multiple columns\n",
    "r = df.loc[:, [\"Product\", \"Sales Amount\"]]\n",
    "\n",
    "print(type(s))\n",
    "print(s)\n",
    "\n",
    "# same as\n",
    "s = df.iloc[:, 1:3]\n",
    "\n",
    "print(type(s))\n",
    "print(s)"
   ]
  },
  {
   "cell_type": "code",
   "execution_count": 115,
   "metadata": {},
   "outputs": [
    {
     "name": "stdout",
     "output_type": "stream",
     "text": [
      "<class 'pandas.core.frame.DataFrame'>\n",
      "      Product  Sales Amount\n",
      "102  Keyboard           100\n",
      "103     Mouse            40\n",
      "<class 'pandas.core.frame.DataFrame'>\n",
      "      Product  Sales Amount\n",
      "102  Keyboard           100\n",
      "103     Mouse            40\n"
     ]
    }
   ],
   "source": [
    "# slice table by rows and columns\n",
    "s = df.loc[[102, 103], [\"Product\", \"Sales Amount\"]]\n",
    "\n",
    "print(type(s))\n",
    "print(s)\n",
    "\n",
    "# same as\n",
    "s = df.iloc[1:3, 1:3]\n",
    "\n",
    "print(type(s))\n",
    "print(s)"
   ]
  },
  {
   "cell_type": "markdown",
   "metadata": {},
   "source": [
    "## Multilevel indexing"
   ]
  },
  {
   "cell_type": "code",
   "execution_count": 116,
   "metadata": {},
   "outputs": [
    {
     "data": {
      "text/html": [
       "<div>\n",
       "<style scoped>\n",
       "    .dataframe tbody tr th:only-of-type {\n",
       "        vertical-align: middle;\n",
       "    }\n",
       "\n",
       "    .dataframe tbody tr th {\n",
       "        vertical-align: top;\n",
       "    }\n",
       "\n",
       "    .dataframe thead th {\n",
       "        text-align: right;\n",
       "    }\n",
       "</style>\n",
       "<table border=\"1\" class=\"dataframe\">\n",
       "  <thead>\n",
       "    <tr style=\"text-align: right;\">\n",
       "      <th></th>\n",
       "      <th></th>\n",
       "      <th>Customer</th>\n",
       "      <th>Product</th>\n",
       "      <th>Sales Amount</th>\n",
       "    </tr>\n",
       "    <tr>\n",
       "      <th>Region</th>\n",
       "      <th>Sales ID</th>\n",
       "      <th></th>\n",
       "      <th></th>\n",
       "      <th></th>\n",
       "    </tr>\n",
       "  </thead>\n",
       "  <tbody>\n",
       "    <tr>\n",
       "      <th rowspan=\"4\" valign=\"top\">North</th>\n",
       "      <th>101</th>\n",
       "      <td>John</td>\n",
       "      <td>Laptop</td>\n",
       "      <td>1100</td>\n",
       "    </tr>\n",
       "    <tr>\n",
       "      <th>102</th>\n",
       "      <td>Jane</td>\n",
       "      <td>Keyboard</td>\n",
       "      <td>100</td>\n",
       "    </tr>\n",
       "    <tr>\n",
       "      <th>103</th>\n",
       "      <td>Bob</td>\n",
       "      <td>Mouse</td>\n",
       "      <td>40</td>\n",
       "    </tr>\n",
       "    <tr>\n",
       "      <th>104</th>\n",
       "      <td>Alice</td>\n",
       "      <td>Printer</td>\n",
       "      <td>700</td>\n",
       "    </tr>\n",
       "    <tr>\n",
       "      <th rowspan=\"4\" valign=\"top\">South</th>\n",
       "      <th>101</th>\n",
       "      <td>Charlie</td>\n",
       "      <td>Monitor</td>\n",
       "      <td>400</td>\n",
       "    </tr>\n",
       "    <tr>\n",
       "      <th>102</th>\n",
       "      <td>Amy</td>\n",
       "      <td>Printer</td>\n",
       "      <td>200</td>\n",
       "    </tr>\n",
       "    <tr>\n",
       "      <th>103</th>\n",
       "      <td>Carl</td>\n",
       "      <td>Mouse</td>\n",
       "      <td>20</td>\n",
       "    </tr>\n",
       "    <tr>\n",
       "      <th>104</th>\n",
       "      <td>Kate</td>\n",
       "      <td>Monitor</td>\n",
       "      <td>650</td>\n",
       "    </tr>\n",
       "  </tbody>\n",
       "</table>\n",
       "</div>"
      ],
      "text/plain": [
       "                Customer   Product  Sales Amount\n",
       "Region Sales ID                                 \n",
       "North  101          John    Laptop          1100\n",
       "       102          Jane  Keyboard           100\n",
       "       103           Bob     Mouse            40\n",
       "       104         Alice   Printer           700\n",
       "South  101       Charlie   Monitor           400\n",
       "       102           Amy   Printer           200\n",
       "       103          Carl     Mouse            20\n",
       "       104          Kate   Monitor           650"
      ]
     },
     "execution_count": 116,
     "metadata": {},
     "output_type": "execute_result"
    }
   ],
   "source": [
    "data = {\n",
    "    \"Customer\": [\"John\", \"Jane\", \"Bob\", \"Alice\", \"Charlie\", \"Amy\", \"Carl\", \"Kate\"],\n",
    "    \"Product\": [\"Laptop\", \"Keyboard\", \"Mouse\", \"Printer\", \"Monitor\", \"Printer\", \"Mouse\", \"Monitor\"],\n",
    "    \"Sales Amount\": [1100, 100, 40, 700, 400, 200, 20, 650]\n",
    "}\n",
    "\n",
    "regions = [\"North\", \"South\"]\n",
    "sales_ids = [101, 102, 103, 104]\n",
    "\n",
    "custom_index = pd.MultiIndex.from_product([regions, sales_ids], names = [\"Region\", \"Sales ID\"])\n",
    "\n",
    "df = pd.DataFrame(data,index=custom_index)\n",
    "\n",
    "df"
   ]
  },
  {
   "cell_type": "code",
   "execution_count": 145,
   "metadata": {},
   "outputs": [
    {
     "name": "stdout",
     "output_type": "stream",
     "text": [
      "<class 'pandas.core.frame.DataFrame'>\n",
      "                Customer   Product  Sales Amount\n",
      "Region Sales ID                                 \n",
      "North  101          John    Laptop          1100\n",
      "       102          Jane  Keyboard           100\n",
      "       103           Bob     Mouse            40\n",
      "       104         Alice   Printer           700\n"
     ]
    }
   ],
   "source": [
    "# using iloc\n",
    "\n",
    "s = df.iloc[[0,1,2,3], :]\n",
    "# s = df.iloc[range(4), :]\n",
    "# s = df.iloc[slice(0,4), :]\n",
    "print(type(s))\n",
    "print(s)\n"
   ]
  },
  {
   "cell_type": "code",
   "execution_count": 146,
   "metadata": {},
   "outputs": [
    {
     "name": "stdout",
     "output_type": "stream",
     "text": [
      "<class 'pandas.core.frame.DataFrame'>\n",
      "         Customer   Product  Sales Amount\n",
      "Sales ID                                 \n",
      "101          John    Laptop          1100\n",
      "102          Jane  Keyboard           100\n",
      "103           Bob     Mouse            40\n",
      "104         Alice   Printer           700\n"
     ]
    }
   ],
   "source": [
    "# select by first level in multiindex\n",
    "\n",
    "s = df.loc[\"North\", :]\n",
    "print(type(s))\n",
    "print(s)"
   ]
  },
  {
   "cell_type": "code",
   "execution_count": 147,
   "metadata": {},
   "outputs": [
    {
     "name": "stdout",
     "output_type": "stream",
     "text": [
      "<class 'pandas.core.frame.DataFrame'>\n",
      "                Customer   Product  Sales Amount\n",
      "Region Sales ID                                 \n",
      "North  102          Jane  Keyboard           100\n",
      "       103           Bob     Mouse            40\n",
      "       104         Alice   Printer           700\n",
      "South  101       Charlie   Monitor           400\n",
      "       102           Amy   Printer           200\n",
      "       103          Carl     Mouse            20\n",
      "       104          Kate   Monitor           650\n",
      "<class 'pandas.core.frame.DataFrame'>\n",
      "Empty DataFrame\n",
      "Columns: [Customer, Product, Sales Amount]\n",
      "Index: []\n"
     ]
    }
   ],
   "source": [
    "# select by all levels in multiindex\n",
    "# from - to like\n",
    "s = df.loc[(\"North\",102):(\"South\",104), :]\n",
    "print(type(s))\n",
    "print(s)\n",
    "\n",
    "# no result\n",
    "s = df.loc[(\"South\",102):(\"North\",104), :]\n",
    "print(type(s))\n",
    "print(s)\n"
   ]
  },
  {
   "cell_type": "code",
   "execution_count": 148,
   "metadata": {},
   "outputs": [
    {
     "name": "stdout",
     "output_type": "stream",
     "text": [
      "<class 'pandas.core.frame.DataFrame'>\n",
      "                Customer   Product  Sales Amount\n",
      "Region Sales ID                                 \n",
      "North  102          Jane  Keyboard           100\n",
      "       103           Bob     Mouse            40\n",
      "       104         Alice   Printer           700\n",
      "South  102           Amy   Printer           200\n",
      "       103          Carl     Mouse            20\n",
      "       104          Kate   Monitor           650\n",
      "<class 'pandas.core.frame.DataFrame'>\n",
      "                Customer   Product  Sales Amount\n",
      "Region Sales ID                                 \n",
      "South  102           Amy   Printer           200\n",
      "       103          Carl     Mouse            20\n",
      "       104          Kate   Monitor           650\n",
      "North  102          Jane  Keyboard           100\n",
      "       103           Bob     Mouse            40\n",
      "       104         Alice   Printer           700\n"
     ]
    }
   ],
   "source": [
    "# select by all levels in multiindex\n",
    "# value list for filter (cartesian product)\n",
    "\n",
    "s = df.loc[([\"North\", \"South\"], slice(102,104)), :]\n",
    "print(type(s))\n",
    "print(s)\n",
    "\n",
    "# different order in the result\n",
    "s = df.loc[([\"South\", \"North\"], slice(102,104)), :]\n",
    "print(type(s))\n",
    "print(s)\n"
   ]
  },
  {
   "cell_type": "code",
   "execution_count": 156,
   "metadata": {},
   "outputs": [
    {
     "name": "stdout",
     "output_type": "stream",
     "text": [
      "<class 'pandas.core.frame.DataFrame'>\n",
      "                Customer  Product  Sales Amount\n",
      "Region Sales ID                                \n",
      "North  101          John   Laptop          1100\n",
      "South  101       Charlie  Monitor           400\n"
     ]
    }
   ],
   "source": [
    "# select by last levels in multiindex\n",
    "s = df.loc[(slice(None), 101), :]\n",
    "print(type(s))\n",
    "print(s)\n"
   ]
  },
  {
   "cell_type": "markdown",
   "metadata": {},
   "source": [
    "## Setting and resetting index"
   ]
  },
  {
   "cell_type": "code",
   "execution_count": 157,
   "metadata": {},
   "outputs": [
    {
     "data": {
      "text/html": [
       "<div>\n",
       "<style scoped>\n",
       "    .dataframe tbody tr th:only-of-type {\n",
       "        vertical-align: middle;\n",
       "    }\n",
       "\n",
       "    .dataframe tbody tr th {\n",
       "        vertical-align: top;\n",
       "    }\n",
       "\n",
       "    .dataframe thead th {\n",
       "        text-align: right;\n",
       "    }\n",
       "</style>\n",
       "<table border=\"1\" class=\"dataframe\">\n",
       "  <thead>\n",
       "    <tr style=\"text-align: right;\">\n",
       "      <th></th>\n",
       "      <th>ID</th>\n",
       "      <th>Name</th>\n",
       "      <th>Age</th>\n",
       "    </tr>\n",
       "  </thead>\n",
       "  <tbody>\n",
       "    <tr>\n",
       "      <th>0</th>\n",
       "      <td>101</td>\n",
       "      <td>Alice</td>\n",
       "      <td>25</td>\n",
       "    </tr>\n",
       "    <tr>\n",
       "      <th>1</th>\n",
       "      <td>102</td>\n",
       "      <td>Bob</td>\n",
       "      <td>30</td>\n",
       "    </tr>\n",
       "    <tr>\n",
       "      <th>2</th>\n",
       "      <td>103</td>\n",
       "      <td>Charlie</td>\n",
       "      <td>35</td>\n",
       "    </tr>\n",
       "  </tbody>\n",
       "</table>\n",
       "</div>"
      ],
      "text/plain": [
       "    ID     Name  Age\n",
       "0  101    Alice   25\n",
       "1  102      Bob   30\n",
       "2  103  Charlie   35"
      ]
     },
     "execution_count": 157,
     "metadata": {},
     "output_type": "execute_result"
    }
   ],
   "source": [
    "data = {\n",
    "    \"ID\": [101, 102, 103],\n",
    "    \"Name\": [\"Alice\", \"Bob\", \"Charlie\"],\n",
    "    \"Age\": [25, 30, 35],\n",
    "}\n",
    "\n",
    "df = pd.DataFrame(data)\n",
    "\n",
    "df"
   ]
  },
  {
   "cell_type": "code",
   "execution_count": 158,
   "metadata": {},
   "outputs": [
    {
     "data": {
      "text/html": [
       "<div>\n",
       "<style scoped>\n",
       "    .dataframe tbody tr th:only-of-type {\n",
       "        vertical-align: middle;\n",
       "    }\n",
       "\n",
       "    .dataframe tbody tr th {\n",
       "        vertical-align: top;\n",
       "    }\n",
       "\n",
       "    .dataframe thead th {\n",
       "        text-align: right;\n",
       "    }\n",
       "</style>\n",
       "<table border=\"1\" class=\"dataframe\">\n",
       "  <thead>\n",
       "    <tr style=\"text-align: right;\">\n",
       "      <th></th>\n",
       "      <th>Name</th>\n",
       "      <th>Age</th>\n",
       "    </tr>\n",
       "    <tr>\n",
       "      <th>ID</th>\n",
       "      <th></th>\n",
       "      <th></th>\n",
       "    </tr>\n",
       "  </thead>\n",
       "  <tbody>\n",
       "    <tr>\n",
       "      <th>101</th>\n",
       "      <td>Alice</td>\n",
       "      <td>25</td>\n",
       "    </tr>\n",
       "    <tr>\n",
       "      <th>102</th>\n",
       "      <td>Bob</td>\n",
       "      <td>30</td>\n",
       "    </tr>\n",
       "    <tr>\n",
       "      <th>103</th>\n",
       "      <td>Charlie</td>\n",
       "      <td>35</td>\n",
       "    </tr>\n",
       "  </tbody>\n",
       "</table>\n",
       "</div>"
      ],
      "text/plain": [
       "        Name  Age\n",
       "ID               \n",
       "101    Alice   25\n",
       "102      Bob   30\n",
       "103  Charlie   35"
      ]
     },
     "execution_count": 158,
     "metadata": {},
     "output_type": "execute_result"
    }
   ],
   "source": [
    "df_indexed = df.set_index(keys=\"ID\", drop=True, append=False, inplace=False, verify_integrity=False)\n",
    "\n",
    "df_indexed"
   ]
  },
  {
   "cell_type": "code",
   "execution_count": 159,
   "metadata": {},
   "outputs": [
    {
     "data": {
      "text/html": [
       "<div>\n",
       "<style scoped>\n",
       "    .dataframe tbody tr th:only-of-type {\n",
       "        vertical-align: middle;\n",
       "    }\n",
       "\n",
       "    .dataframe tbody tr th {\n",
       "        vertical-align: top;\n",
       "    }\n",
       "\n",
       "    .dataframe thead th {\n",
       "        text-align: right;\n",
       "    }\n",
       "</style>\n",
       "<table border=\"1\" class=\"dataframe\">\n",
       "  <thead>\n",
       "    <tr style=\"text-align: right;\">\n",
       "      <th></th>\n",
       "      <th></th>\n",
       "      <th>Age</th>\n",
       "    </tr>\n",
       "    <tr>\n",
       "      <th>ID</th>\n",
       "      <th>Name</th>\n",
       "      <th></th>\n",
       "    </tr>\n",
       "  </thead>\n",
       "  <tbody>\n",
       "    <tr>\n",
       "      <th>101</th>\n",
       "      <th>Alice</th>\n",
       "      <td>25</td>\n",
       "    </tr>\n",
       "    <tr>\n",
       "      <th>102</th>\n",
       "      <th>Bob</th>\n",
       "      <td>30</td>\n",
       "    </tr>\n",
       "    <tr>\n",
       "      <th>103</th>\n",
       "      <th>Charlie</th>\n",
       "      <td>35</td>\n",
       "    </tr>\n",
       "  </tbody>\n",
       "</table>\n",
       "</div>"
      ],
      "text/plain": [
       "             Age\n",
       "ID  Name        \n",
       "101 Alice     25\n",
       "102 Bob       30\n",
       "103 Charlie   35"
      ]
     },
     "execution_count": 159,
     "metadata": {},
     "output_type": "execute_result"
    }
   ],
   "source": [
    "df_indexed = df.set_index(keys=[\"ID\",\"Name\"], drop=True, append=False, inplace=False, verify_integrity=False)\n",
    "\n",
    "df_indexed"
   ]
  },
  {
   "cell_type": "code",
   "execution_count": 160,
   "metadata": {},
   "outputs": [
    {
     "data": {
      "text/html": [
       "<div>\n",
       "<style scoped>\n",
       "    .dataframe tbody tr th:only-of-type {\n",
       "        vertical-align: middle;\n",
       "    }\n",
       "\n",
       "    .dataframe tbody tr th {\n",
       "        vertical-align: top;\n",
       "    }\n",
       "\n",
       "    .dataframe thead th {\n",
       "        text-align: right;\n",
       "    }\n",
       "</style>\n",
       "<table border=\"1\" class=\"dataframe\">\n",
       "  <thead>\n",
       "    <tr style=\"text-align: right;\">\n",
       "      <th></th>\n",
       "      <th>Name</th>\n",
       "      <th>Age</th>\n",
       "    </tr>\n",
       "    <tr>\n",
       "      <th>ID</th>\n",
       "      <th></th>\n",
       "      <th></th>\n",
       "    </tr>\n",
       "  </thead>\n",
       "  <tbody>\n",
       "    <tr>\n",
       "      <th>101</th>\n",
       "      <td>Alice</td>\n",
       "      <td>25</td>\n",
       "    </tr>\n",
       "    <tr>\n",
       "      <th>102</th>\n",
       "      <td>Bob</td>\n",
       "      <td>30</td>\n",
       "    </tr>\n",
       "    <tr>\n",
       "      <th>103</th>\n",
       "      <td>Charlie</td>\n",
       "      <td>35</td>\n",
       "    </tr>\n",
       "  </tbody>\n",
       "</table>\n",
       "</div>"
      ],
      "text/plain": [
       "        Name  Age\n",
       "ID               \n",
       "101    Alice   25\n",
       "102      Bob   30\n",
       "103  Charlie   35"
      ]
     },
     "execution_count": 160,
     "metadata": {},
     "output_type": "execute_result"
    }
   ],
   "source": [
    "df_reset = df_indexed.reset_index(level=\"Name\")\n",
    "\n",
    "df_reset"
   ]
  },
  {
   "cell_type": "code",
   "execution_count": 161,
   "metadata": {},
   "outputs": [
    {
     "data": {
      "text/html": [
       "<div>\n",
       "<style scoped>\n",
       "    .dataframe tbody tr th:only-of-type {\n",
       "        vertical-align: middle;\n",
       "    }\n",
       "\n",
       "    .dataframe tbody tr th {\n",
       "        vertical-align: top;\n",
       "    }\n",
       "\n",
       "    .dataframe thead th {\n",
       "        text-align: right;\n",
       "    }\n",
       "</style>\n",
       "<table border=\"1\" class=\"dataframe\">\n",
       "  <thead>\n",
       "    <tr style=\"text-align: right;\">\n",
       "      <th></th>\n",
       "      <th>ID</th>\n",
       "      <th>Name</th>\n",
       "      <th>Age</th>\n",
       "    </tr>\n",
       "  </thead>\n",
       "  <tbody>\n",
       "    <tr>\n",
       "      <th>0</th>\n",
       "      <td>101</td>\n",
       "      <td>Alice</td>\n",
       "      <td>25</td>\n",
       "    </tr>\n",
       "    <tr>\n",
       "      <th>1</th>\n",
       "      <td>102</td>\n",
       "      <td>Bob</td>\n",
       "      <td>30</td>\n",
       "    </tr>\n",
       "    <tr>\n",
       "      <th>2</th>\n",
       "      <td>103</td>\n",
       "      <td>Charlie</td>\n",
       "      <td>35</td>\n",
       "    </tr>\n",
       "  </tbody>\n",
       "</table>\n",
       "</div>"
      ],
      "text/plain": [
       "    ID     Name  Age\n",
       "0  101    Alice   25\n",
       "1  102      Bob   30\n",
       "2  103  Charlie   35"
      ]
     },
     "execution_count": 161,
     "metadata": {},
     "output_type": "execute_result"
    }
   ],
   "source": [
    "df_reset.reset_index(inplace=True)\n",
    "\n",
    "df_reset"
   ]
  },
  {
   "cell_type": "markdown",
   "metadata": {},
   "source": [
    "## Reshaping DataFrame"
   ]
  },
  {
   "cell_type": "code",
   "execution_count": 209,
   "metadata": {},
   "outputs": [
    {
     "name": "stdout",
     "output_type": "stream",
     "text": [
      "<class 'pandas.core.frame.DataFrame'>\n",
      "    ID     Name  Age\n",
      "0  101    Alice   25\n",
      "1  102      Bob   30\n",
      "2  103  Charlie   35\n",
      "<class 'pandas.core.series.Series'>\n",
      "0  ID          101\n",
      "   Name      Alice\n",
      "   Age          25\n",
      "1  ID          102\n",
      "   Name        Bob\n",
      "   Age          30\n",
      "2  ID          103\n",
      "   Name    Charlie\n",
      "   Age          35\n",
      "dtype: object\n"
     ]
    }
   ],
   "source": [
    "# stacking\n",
    "# from single level columns\n",
    "# return Series\n",
    "\n",
    "data = {\n",
    "    \"ID\": [101, 102, 103],\n",
    "    \"Name\": [\"Alice\", \"Bob\", \"Charlie\"],\n",
    "    \"Age\": [25, 30, 35],\n",
    "}\n",
    "\n",
    "df = pd.DataFrame(data)\n",
    "print(type(df))\n",
    "\n",
    "print(df)\n",
    "\n",
    "df_stacked = df.stack()\n",
    "\n",
    "print(type(df_stacked))\n",
    "\n",
    "print(df_stacked)\n"
   ]
  },
  {
   "cell_type": "code",
   "execution_count": 211,
   "metadata": {},
   "outputs": [
    {
     "data": {
      "text/html": [
       "<div>\n",
       "<style scoped>\n",
       "    .dataframe tbody tr th:only-of-type {\n",
       "        vertical-align: middle;\n",
       "    }\n",
       "\n",
       "    .dataframe tbody tr th {\n",
       "        vertical-align: top;\n",
       "    }\n",
       "\n",
       "    .dataframe thead th {\n",
       "        text-align: right;\n",
       "    }\n",
       "</style>\n",
       "<table border=\"1\" class=\"dataframe\">\n",
       "  <thead>\n",
       "    <tr style=\"text-align: right;\">\n",
       "      <th></th>\n",
       "      <th>ID</th>\n",
       "      <th>Name</th>\n",
       "      <th>Age</th>\n",
       "    </tr>\n",
       "  </thead>\n",
       "  <tbody>\n",
       "    <tr>\n",
       "      <th>0</th>\n",
       "      <td>101</td>\n",
       "      <td>Alice</td>\n",
       "      <td>25</td>\n",
       "    </tr>\n",
       "    <tr>\n",
       "      <th>1</th>\n",
       "      <td>102</td>\n",
       "      <td>Bob</td>\n",
       "      <td>30</td>\n",
       "    </tr>\n",
       "    <tr>\n",
       "      <th>2</th>\n",
       "      <td>103</td>\n",
       "      <td>Charlie</td>\n",
       "      <td>35</td>\n",
       "    </tr>\n",
       "  </tbody>\n",
       "</table>\n",
       "</div>"
      ],
      "text/plain": [
       "    ID     Name Age\n",
       "0  101    Alice  25\n",
       "1  102      Bob  30\n",
       "2  103  Charlie  35"
      ]
     },
     "execution_count": 211,
     "metadata": {},
     "output_type": "execute_result"
    }
   ],
   "source": [
    "# unstacking\n",
    "df_unstacked = df_stacked.unstack(future_stack=True)\n",
    "\n",
    "df_unstacked"
   ]
  },
  {
   "cell_type": "code",
   "execution_count": 214,
   "metadata": {},
   "outputs": [
    {
     "name": "stdout",
     "output_type": "stream",
     "text": [
      "MultiIndex([('Info',   'ID'),\n",
      "            ('Info', 'Name'),\n",
      "            ('Info',  'Age')],\n",
      "           )\n",
      "<class 'pandas.core.frame.DataFrame'>\n",
      "  Info             \n",
      "    ID     Name Age\n",
      "0  101    Alice  25\n",
      "1  102      Bob  30\n",
      "2  103  Charlie  35\n",
      "<class 'pandas.core.frame.DataFrame'>\n",
      "           Info\n",
      "0 ID        101\n",
      "  Name    Alice\n",
      "  Age        25\n",
      "1 ID        102\n",
      "  Name      Bob\n",
      "  Age        30\n",
      "2 ID        103\n",
      "  Name  Charlie\n",
      "  Age        35\n"
     ]
    }
   ],
   "source": [
    "# stacking\n",
    "# from multi level columns\n",
    "# reurn DataFrame\n",
    "\n",
    "data = [\n",
    "    [101, \"Alice\", 25],\n",
    "    [102, \"Bob\", 30],\n",
    "    [103, \"Charlie\", 35],\n",
    "]\n",
    "\n",
    "multicol = pd.MultiIndex.from_tuples([('Info', 'ID'),('Info', 'Name'),('Info', 'Age')])\n",
    "print(multicol)\n",
    "\n",
    "df = pd.DataFrame(data, columns=multicol)\n",
    "print(type(df))\n",
    "\n",
    "print(df)\n",
    "\n",
    "df_stacked = df.stack(future_stack=True)\n",
    "\n",
    "print(type(df_stacked))\n",
    "print(df_stacked)\n"
   ]
  },
  {
   "cell_type": "code",
   "execution_count": 215,
   "metadata": {},
   "outputs": [
    {
     "data": {
      "text/html": [
       "<div>\n",
       "<style scoped>\n",
       "    .dataframe tbody tr th:only-of-type {\n",
       "        vertical-align: middle;\n",
       "    }\n",
       "\n",
       "    .dataframe tbody tr th {\n",
       "        vertical-align: top;\n",
       "    }\n",
       "\n",
       "    .dataframe thead tr th {\n",
       "        text-align: left;\n",
       "    }\n",
       "</style>\n",
       "<table border=\"1\" class=\"dataframe\">\n",
       "  <thead>\n",
       "    <tr>\n",
       "      <th></th>\n",
       "      <th colspan=\"3\" halign=\"left\">Info</th>\n",
       "    </tr>\n",
       "    <tr>\n",
       "      <th></th>\n",
       "      <th>ID</th>\n",
       "      <th>Name</th>\n",
       "      <th>Age</th>\n",
       "    </tr>\n",
       "  </thead>\n",
       "  <tbody>\n",
       "    <tr>\n",
       "      <th>0</th>\n",
       "      <td>101</td>\n",
       "      <td>Alice</td>\n",
       "      <td>25</td>\n",
       "    </tr>\n",
       "    <tr>\n",
       "      <th>1</th>\n",
       "      <td>102</td>\n",
       "      <td>Bob</td>\n",
       "      <td>30</td>\n",
       "    </tr>\n",
       "    <tr>\n",
       "      <th>2</th>\n",
       "      <td>103</td>\n",
       "      <td>Charlie</td>\n",
       "      <td>35</td>\n",
       "    </tr>\n",
       "  </tbody>\n",
       "</table>\n",
       "</div>"
      ],
      "text/plain": [
       "  Info             \n",
       "    ID     Name Age\n",
       "0  101    Alice  25\n",
       "1  102      Bob  30\n",
       "2  103  Charlie  35"
      ]
     },
     "execution_count": 215,
     "metadata": {},
     "output_type": "execute_result"
    }
   ],
   "source": [
    "# unstacking\n",
    "df_unstacked = df_stacked.unstack()\n",
    "\n",
    "df_unstacked"
   ]
  },
  {
   "cell_type": "markdown",
   "metadata": {},
   "source": [
    "## Reindexing"
   ]
  },
  {
   "cell_type": "code",
   "execution_count": 217,
   "metadata": {},
   "outputs": [
    {
     "data": {
      "text/html": [
       "<div>\n",
       "<style scoped>\n",
       "    .dataframe tbody tr th:only-of-type {\n",
       "        vertical-align: middle;\n",
       "    }\n",
       "\n",
       "    .dataframe tbody tr th {\n",
       "        vertical-align: top;\n",
       "    }\n",
       "\n",
       "    .dataframe thead th {\n",
       "        text-align: right;\n",
       "    }\n",
       "</style>\n",
       "<table border=\"1\" class=\"dataframe\">\n",
       "  <thead>\n",
       "    <tr style=\"text-align: right;\">\n",
       "      <th></th>\n",
       "      <th>Name</th>\n",
       "      <th>Age</th>\n",
       "    </tr>\n",
       "    <tr>\n",
       "      <th>ID</th>\n",
       "      <th></th>\n",
       "      <th></th>\n",
       "    </tr>\n",
       "  </thead>\n",
       "  <tbody>\n",
       "    <tr>\n",
       "      <th>101</th>\n",
       "      <td>Alice</td>\n",
       "      <td>25</td>\n",
       "    </tr>\n",
       "    <tr>\n",
       "      <th>102</th>\n",
       "      <td>Bob</td>\n",
       "      <td>30</td>\n",
       "    </tr>\n",
       "    <tr>\n",
       "      <th>103</th>\n",
       "      <td>Charlie</td>\n",
       "      <td>35</td>\n",
       "    </tr>\n",
       "  </tbody>\n",
       "</table>\n",
       "</div>"
      ],
      "text/plain": [
       "        Name  Age\n",
       "ID               \n",
       "101    Alice   25\n",
       "102      Bob   30\n",
       "103  Charlie   35"
      ]
     },
     "execution_count": 217,
     "metadata": {},
     "output_type": "execute_result"
    }
   ],
   "source": [
    "data = {\n",
    "    \"ID\": [101, 102, 103],\n",
    "    \"Name\": [\"Alice\", \"Bob\", \"Charlie\"],\n",
    "    \"Age\": [25, 30, 35],\n",
    "}\n",
    "\n",
    "df = pd.DataFrame(data)\n",
    "\n",
    "df.set_index(\"ID\", inplace=True)\n",
    "\n",
    "df\n"
   ]
  },
  {
   "cell_type": "code",
   "execution_count": 219,
   "metadata": {},
   "outputs": [
    {
     "data": {
      "text/html": [
       "<div>\n",
       "<style scoped>\n",
       "    .dataframe tbody tr th:only-of-type {\n",
       "        vertical-align: middle;\n",
       "    }\n",
       "\n",
       "    .dataframe tbody tr th {\n",
       "        vertical-align: top;\n",
       "    }\n",
       "\n",
       "    .dataframe thead th {\n",
       "        text-align: right;\n",
       "    }\n",
       "</style>\n",
       "<table border=\"1\" class=\"dataframe\">\n",
       "  <thead>\n",
       "    <tr style=\"text-align: right;\">\n",
       "      <th></th>\n",
       "      <th>Name</th>\n",
       "      <th>Age</th>\n",
       "    </tr>\n",
       "    <tr>\n",
       "      <th>ID</th>\n",
       "      <th></th>\n",
       "      <th></th>\n",
       "    </tr>\n",
       "  </thead>\n",
       "  <tbody>\n",
       "    <tr>\n",
       "      <th>100</th>\n",
       "      <td>NaN</td>\n",
       "      <td>NaN</td>\n",
       "    </tr>\n",
       "    <tr>\n",
       "      <th>101</th>\n",
       "      <td>Alice</td>\n",
       "      <td>25.0</td>\n",
       "    </tr>\n",
       "    <tr>\n",
       "      <th>103</th>\n",
       "      <td>Charlie</td>\n",
       "      <td>35.0</td>\n",
       "    </tr>\n",
       "    <tr>\n",
       "      <th>104</th>\n",
       "      <td>NaN</td>\n",
       "      <td>NaN</td>\n",
       "    </tr>\n",
       "    <tr>\n",
       "      <th>105</th>\n",
       "      <td>NaN</td>\n",
       "      <td>NaN</td>\n",
       "    </tr>\n",
       "  </tbody>\n",
       "</table>\n",
       "</div>"
      ],
      "text/plain": [
       "        Name   Age\n",
       "ID                \n",
       "100      NaN   NaN\n",
       "101    Alice  25.0\n",
       "103  Charlie  35.0\n",
       "104      NaN   NaN\n",
       "105      NaN   NaN"
      ]
     },
     "execution_count": 219,
     "metadata": {},
     "output_type": "execute_result"
    }
   ],
   "source": [
    "# reindex\n",
    "\n",
    "new_index = [100, 101, 103, 104, 105]\n",
    "\n",
    "df_reindex = df.reindex(new_index)\n",
    "\n",
    "df_reindex"
   ]
  },
  {
   "cell_type": "markdown",
   "metadata": {},
   "source": [
    "## Sorting DataFrame by values"
   ]
  },
  {
   "cell_type": "code",
   "execution_count": 15,
   "metadata": {},
   "outputs": [
    {
     "data": {
      "text/html": [
       "<div>\n",
       "<style scoped>\n",
       "    .dataframe tbody tr th:only-of-type {\n",
       "        vertical-align: middle;\n",
       "    }\n",
       "\n",
       "    .dataframe tbody tr th {\n",
       "        vertical-align: top;\n",
       "    }\n",
       "\n",
       "    .dataframe thead th {\n",
       "        text-align: right;\n",
       "    }\n",
       "</style>\n",
       "<table border=\"1\" class=\"dataframe\">\n",
       "  <thead>\n",
       "    <tr style=\"text-align: right;\">\n",
       "      <th></th>\n",
       "      <th>Customer</th>\n",
       "      <th>Sales Person</th>\n",
       "      <th>Product</th>\n",
       "      <th>Sales Amount</th>\n",
       "    </tr>\n",
       "    <tr>\n",
       "      <th>Sales ID</th>\n",
       "      <th></th>\n",
       "      <th></th>\n",
       "      <th></th>\n",
       "      <th></th>\n",
       "    </tr>\n",
       "  </thead>\n",
       "  <tbody>\n",
       "    <tr>\n",
       "      <th>101</th>\n",
       "      <td>John</td>\n",
       "      <td>Emma</td>\n",
       "      <td>Laptop</td>\n",
       "      <td>1100</td>\n",
       "    </tr>\n",
       "    <tr>\n",
       "      <th>102</th>\n",
       "      <td>Jane</td>\n",
       "      <td>Frank</td>\n",
       "      <td>Keyboard</td>\n",
       "      <td>100</td>\n",
       "    </tr>\n",
       "    <tr>\n",
       "      <th>103</th>\n",
       "      <td>Bob</td>\n",
       "      <td>Emma</td>\n",
       "      <td>Mouse</td>\n",
       "      <td>40</td>\n",
       "    </tr>\n",
       "    <tr>\n",
       "      <th>104</th>\n",
       "      <td>Alice</td>\n",
       "      <td>Alice</td>\n",
       "      <td>Printer</td>\n",
       "      <td>700</td>\n",
       "    </tr>\n",
       "    <tr>\n",
       "      <th>105</th>\n",
       "      <td>Charlie</td>\n",
       "      <td>Frank</td>\n",
       "      <td>Monitor</td>\n",
       "      <td>400</td>\n",
       "    </tr>\n",
       "    <tr>\n",
       "      <th>106</th>\n",
       "      <td>Amy</td>\n",
       "      <td>Chris</td>\n",
       "      <td>Printer</td>\n",
       "      <td>100</td>\n",
       "    </tr>\n",
       "    <tr>\n",
       "      <th>107</th>\n",
       "      <td>Carl</td>\n",
       "      <td>Kate</td>\n",
       "      <td>Mouse</td>\n",
       "      <td>20</td>\n",
       "    </tr>\n",
       "    <tr>\n",
       "      <th>108</th>\n",
       "      <td>Kate</td>\n",
       "      <td>Alice</td>\n",
       "      <td>Monitor</td>\n",
       "      <td>700</td>\n",
       "    </tr>\n",
       "  </tbody>\n",
       "</table>\n",
       "</div>"
      ],
      "text/plain": [
       "         Customer Sales Person   Product  Sales Amount\n",
       "Sales ID                                              \n",
       "101          John         Emma    Laptop          1100\n",
       "102          Jane        Frank  Keyboard           100\n",
       "103           Bob         Emma     Mouse            40\n",
       "104         Alice        Alice   Printer           700\n",
       "105       Charlie        Frank   Monitor           400\n",
       "106           Amy        Chris   Printer           100\n",
       "107          Carl         Kate     Mouse            20\n",
       "108          Kate        Alice   Monitor           700"
      ]
     },
     "execution_count": 15,
     "metadata": {},
     "output_type": "execute_result"
    }
   ],
   "source": [
    "data = {\n",
    "    \"Sales ID\": [101, 102, 103, 104, 105, 106, 107, 108],\n",
    "    \"Customer\": [\"John\", \"Jane\", \"Bob\", \"Alice\", \"Charlie\", \"Amy\", \"Carl\", \"Kate\"],\n",
    "    \"Sales Person\": [\"Emma\", \"Frank\", \"Emma\", \"Alice\", \"Frank\", \"Chris\", \"Kate\", \"Alice\"],\n",
    "    \"Product\": [\"Laptop\", \"Keyboard\", \"Mouse\", \"Printer\", \"Monitor\", \"Printer\", \"Mouse\", \"Monitor\"],\n",
    "    \"Sales Amount\": [1100, 100, 40, 700, 400, 100, 20, 700]\n",
    "}\n",
    "\n",
    "df = pd.DataFrame(data)\n",
    "\n",
    "df = df.set_index(\"Sales ID\")\n",
    "\n",
    "df"
   ]
  },
  {
   "cell_type": "code",
   "execution_count": 16,
   "metadata": {},
   "outputs": [
    {
     "data": {
      "text/html": [
       "<div>\n",
       "<style scoped>\n",
       "    .dataframe tbody tr th:only-of-type {\n",
       "        vertical-align: middle;\n",
       "    }\n",
       "\n",
       "    .dataframe tbody tr th {\n",
       "        vertical-align: top;\n",
       "    }\n",
       "\n",
       "    .dataframe thead th {\n",
       "        text-align: right;\n",
       "    }\n",
       "</style>\n",
       "<table border=\"1\" class=\"dataframe\">\n",
       "  <thead>\n",
       "    <tr style=\"text-align: right;\">\n",
       "      <th></th>\n",
       "      <th>Customer</th>\n",
       "      <th>Sales Person</th>\n",
       "      <th>Product</th>\n",
       "      <th>Sales Amount</th>\n",
       "    </tr>\n",
       "    <tr>\n",
       "      <th>Sales ID</th>\n",
       "      <th></th>\n",
       "      <th></th>\n",
       "      <th></th>\n",
       "      <th></th>\n",
       "    </tr>\n",
       "  </thead>\n",
       "  <tbody>\n",
       "    <tr>\n",
       "      <th>107</th>\n",
       "      <td>Carl</td>\n",
       "      <td>Kate</td>\n",
       "      <td>Mouse</td>\n",
       "      <td>20</td>\n",
       "    </tr>\n",
       "    <tr>\n",
       "      <th>103</th>\n",
       "      <td>Bob</td>\n",
       "      <td>Emma</td>\n",
       "      <td>Mouse</td>\n",
       "      <td>40</td>\n",
       "    </tr>\n",
       "    <tr>\n",
       "      <th>102</th>\n",
       "      <td>Jane</td>\n",
       "      <td>Frank</td>\n",
       "      <td>Keyboard</td>\n",
       "      <td>100</td>\n",
       "    </tr>\n",
       "    <tr>\n",
       "      <th>106</th>\n",
       "      <td>Amy</td>\n",
       "      <td>Chris</td>\n",
       "      <td>Printer</td>\n",
       "      <td>100</td>\n",
       "    </tr>\n",
       "    <tr>\n",
       "      <th>105</th>\n",
       "      <td>Charlie</td>\n",
       "      <td>Frank</td>\n",
       "      <td>Monitor</td>\n",
       "      <td>400</td>\n",
       "    </tr>\n",
       "    <tr>\n",
       "      <th>104</th>\n",
       "      <td>Alice</td>\n",
       "      <td>Alice</td>\n",
       "      <td>Printer</td>\n",
       "      <td>700</td>\n",
       "    </tr>\n",
       "    <tr>\n",
       "      <th>108</th>\n",
       "      <td>Kate</td>\n",
       "      <td>Alice</td>\n",
       "      <td>Monitor</td>\n",
       "      <td>700</td>\n",
       "    </tr>\n",
       "    <tr>\n",
       "      <th>101</th>\n",
       "      <td>John</td>\n",
       "      <td>Emma</td>\n",
       "      <td>Laptop</td>\n",
       "      <td>1100</td>\n",
       "    </tr>\n",
       "  </tbody>\n",
       "</table>\n",
       "</div>"
      ],
      "text/plain": [
       "         Customer Sales Person   Product  Sales Amount\n",
       "Sales ID                                              \n",
       "107          Carl         Kate     Mouse            20\n",
       "103           Bob         Emma     Mouse            40\n",
       "102          Jane        Frank  Keyboard           100\n",
       "106           Amy        Chris   Printer           100\n",
       "105       Charlie        Frank   Monitor           400\n",
       "104         Alice        Alice   Printer           700\n",
       "108          Kate        Alice   Monitor           700\n",
       "101          John         Emma    Laptop          1100"
      ]
     },
     "execution_count": 16,
     "metadata": {},
     "output_type": "execute_result"
    }
   ],
   "source": [
    "# sort by single column\n",
    "df_sorted = df.sort_values(by=\"Sales Amount\")\n",
    "\n",
    "df_sorted"
   ]
  },
  {
   "cell_type": "code",
   "execution_count": 17,
   "metadata": {},
   "outputs": [
    {
     "data": {
      "text/html": [
       "<div>\n",
       "<style scoped>\n",
       "    .dataframe tbody tr th:only-of-type {\n",
       "        vertical-align: middle;\n",
       "    }\n",
       "\n",
       "    .dataframe tbody tr th {\n",
       "        vertical-align: top;\n",
       "    }\n",
       "\n",
       "    .dataframe thead th {\n",
       "        text-align: right;\n",
       "    }\n",
       "</style>\n",
       "<table border=\"1\" class=\"dataframe\">\n",
       "  <thead>\n",
       "    <tr style=\"text-align: right;\">\n",
       "      <th></th>\n",
       "      <th>Customer</th>\n",
       "      <th>Sales Person</th>\n",
       "      <th>Product</th>\n",
       "      <th>Sales Amount</th>\n",
       "    </tr>\n",
       "    <tr>\n",
       "      <th>Sales ID</th>\n",
       "      <th></th>\n",
       "      <th></th>\n",
       "      <th></th>\n",
       "      <th></th>\n",
       "    </tr>\n",
       "  </thead>\n",
       "  <tbody>\n",
       "    <tr>\n",
       "      <th>107</th>\n",
       "      <td>Carl</td>\n",
       "      <td>Kate</td>\n",
       "      <td>Mouse</td>\n",
       "      <td>20</td>\n",
       "    </tr>\n",
       "    <tr>\n",
       "      <th>103</th>\n",
       "      <td>Bob</td>\n",
       "      <td>Emma</td>\n",
       "      <td>Mouse</td>\n",
       "      <td>40</td>\n",
       "    </tr>\n",
       "    <tr>\n",
       "      <th>106</th>\n",
       "      <td>Amy</td>\n",
       "      <td>Chris</td>\n",
       "      <td>Printer</td>\n",
       "      <td>100</td>\n",
       "    </tr>\n",
       "    <tr>\n",
       "      <th>102</th>\n",
       "      <td>Jane</td>\n",
       "      <td>Frank</td>\n",
       "      <td>Keyboard</td>\n",
       "      <td>100</td>\n",
       "    </tr>\n",
       "    <tr>\n",
       "      <th>105</th>\n",
       "      <td>Charlie</td>\n",
       "      <td>Frank</td>\n",
       "      <td>Monitor</td>\n",
       "      <td>400</td>\n",
       "    </tr>\n",
       "    <tr>\n",
       "      <th>104</th>\n",
       "      <td>Alice</td>\n",
       "      <td>Alice</td>\n",
       "      <td>Printer</td>\n",
       "      <td>700</td>\n",
       "    </tr>\n",
       "    <tr>\n",
       "      <th>108</th>\n",
       "      <td>Kate</td>\n",
       "      <td>Alice</td>\n",
       "      <td>Monitor</td>\n",
       "      <td>700</td>\n",
       "    </tr>\n",
       "    <tr>\n",
       "      <th>101</th>\n",
       "      <td>John</td>\n",
       "      <td>Emma</td>\n",
       "      <td>Laptop</td>\n",
       "      <td>1100</td>\n",
       "    </tr>\n",
       "  </tbody>\n",
       "</table>\n",
       "</div>"
      ],
      "text/plain": [
       "         Customer Sales Person   Product  Sales Amount\n",
       "Sales ID                                              \n",
       "107          Carl         Kate     Mouse            20\n",
       "103           Bob         Emma     Mouse            40\n",
       "106           Amy        Chris   Printer           100\n",
       "102          Jane        Frank  Keyboard           100\n",
       "105       Charlie        Frank   Monitor           400\n",
       "104         Alice        Alice   Printer           700\n",
       "108          Kate        Alice   Monitor           700\n",
       "101          John         Emma    Laptop          1100"
      ]
     },
     "execution_count": 17,
     "metadata": {},
     "output_type": "execute_result"
    }
   ],
   "source": [
    "# sort by single column\n",
    "df_sorted = df.sort_values(by=[\"Sales Amount\", \"Customer\"])\n",
    "\n",
    "df_sorted"
   ]
  },
  {
   "cell_type": "markdown",
   "metadata": {},
   "source": [
    "## Sorting DataFrame by indexes"
   ]
  },
  {
   "cell_type": "code",
   "execution_count": 23,
   "metadata": {},
   "outputs": [
    {
     "data": {
      "text/html": [
       "<div>\n",
       "<style scoped>\n",
       "    .dataframe tbody tr th:only-of-type {\n",
       "        vertical-align: middle;\n",
       "    }\n",
       "\n",
       "    .dataframe tbody tr th {\n",
       "        vertical-align: top;\n",
       "    }\n",
       "\n",
       "    .dataframe thead th {\n",
       "        text-align: right;\n",
       "    }\n",
       "</style>\n",
       "<table border=\"1\" class=\"dataframe\">\n",
       "  <thead>\n",
       "    <tr style=\"text-align: right;\">\n",
       "      <th></th>\n",
       "      <th></th>\n",
       "      <th>Customer</th>\n",
       "      <th>Sales Person</th>\n",
       "      <th>Product</th>\n",
       "      <th>Sales Amount</th>\n",
       "    </tr>\n",
       "    <tr>\n",
       "      <th>Location</th>\n",
       "      <th>Sales ID</th>\n",
       "      <th></th>\n",
       "      <th></th>\n",
       "      <th></th>\n",
       "      <th></th>\n",
       "    </tr>\n",
       "  </thead>\n",
       "  <tbody>\n",
       "    <tr>\n",
       "      <th>CA</th>\n",
       "      <th>105</th>\n",
       "      <td>John</td>\n",
       "      <td>Emma</td>\n",
       "      <td>Laptop</td>\n",
       "      <td>1100</td>\n",
       "    </tr>\n",
       "    <tr>\n",
       "      <th>NY</th>\n",
       "      <th>108</th>\n",
       "      <td>Jane</td>\n",
       "      <td>Frank</td>\n",
       "      <td>Keyboard</td>\n",
       "      <td>100</td>\n",
       "    </tr>\n",
       "    <tr>\n",
       "      <th>CA</th>\n",
       "      <th>104</th>\n",
       "      <td>Bob</td>\n",
       "      <td>Emma</td>\n",
       "      <td>Mouse</td>\n",
       "      <td>40</td>\n",
       "    </tr>\n",
       "    <tr>\n",
       "      <th>NJ</th>\n",
       "      <th>101</th>\n",
       "      <td>Alice</td>\n",
       "      <td>Alice</td>\n",
       "      <td>Printer</td>\n",
       "      <td>700</td>\n",
       "    </tr>\n",
       "    <tr>\n",
       "      <th>NY</th>\n",
       "      <th>103</th>\n",
       "      <td>Charlie</td>\n",
       "      <td>Frank</td>\n",
       "      <td>Monitor</td>\n",
       "      <td>400</td>\n",
       "    </tr>\n",
       "    <tr>\n",
       "      <th>PA</th>\n",
       "      <th>106</th>\n",
       "      <td>Amy</td>\n",
       "      <td>Chris</td>\n",
       "      <td>Printer</td>\n",
       "      <td>100</td>\n",
       "    </tr>\n",
       "    <tr>\n",
       "      <th>NJ</th>\n",
       "      <th>107</th>\n",
       "      <td>Carl</td>\n",
       "      <td>Kate</td>\n",
       "      <td>Mouse</td>\n",
       "      <td>20</td>\n",
       "    </tr>\n",
       "    <tr>\n",
       "      <th>NY</th>\n",
       "      <th>102</th>\n",
       "      <td>Kate</td>\n",
       "      <td>Alice</td>\n",
       "      <td>Monitor</td>\n",
       "      <td>700</td>\n",
       "    </tr>\n",
       "  </tbody>\n",
       "</table>\n",
       "</div>"
      ],
      "text/plain": [
       "                  Customer Sales Person   Product  Sales Amount\n",
       "Location Sales ID                                              \n",
       "CA       105          John         Emma    Laptop          1100\n",
       "NY       108          Jane        Frank  Keyboard           100\n",
       "CA       104           Bob         Emma     Mouse            40\n",
       "NJ       101         Alice        Alice   Printer           700\n",
       "NY       103       Charlie        Frank   Monitor           400\n",
       "PA       106           Amy        Chris   Printer           100\n",
       "NJ       107          Carl         Kate     Mouse            20\n",
       "NY       102          Kate        Alice   Monitor           700"
      ]
     },
     "execution_count": 23,
     "metadata": {},
     "output_type": "execute_result"
    }
   ],
   "source": [
    "data = {\n",
    "    \"Sales ID\": [105, 108, 104, 101, 103, 106, 107, 102],\n",
    "    \"Location\": [\"CA\", \"NY\", \"CA\", \"NJ\", \"NY\", \"PA\", \"NJ\", \"NY\"],\n",
    "    \"Customer\": [\"John\", \"Jane\", \"Bob\", \"Alice\", \"Charlie\", \"Amy\", \"Carl\", \"Kate\"],\n",
    "    \"Sales Person\": [\"Emma\", \"Frank\", \"Emma\", \"Alice\", \"Frank\", \"Chris\", \"Kate\", \"Alice\"],\n",
    "    \"Product\": [\"Laptop\", \"Keyboard\", \"Mouse\", \"Printer\", \"Monitor\", \"Printer\", \"Mouse\", \"Monitor\"],\n",
    "    \"Sales Amount\": [1100, 100, 40, 700, 400, 100, 20, 700]\n",
    "}\n",
    "\n",
    "df = pd.DataFrame(data)\n",
    "\n",
    "df = df.set_index([\"Location\", \"Sales ID\"])\n",
    "\n",
    "df"
   ]
  },
  {
   "cell_type": "code",
   "execution_count": 24,
   "metadata": {},
   "outputs": [
    {
     "data": {
      "text/html": [
       "<div>\n",
       "<style scoped>\n",
       "    .dataframe tbody tr th:only-of-type {\n",
       "        vertical-align: middle;\n",
       "    }\n",
       "\n",
       "    .dataframe tbody tr th {\n",
       "        vertical-align: top;\n",
       "    }\n",
       "\n",
       "    .dataframe thead th {\n",
       "        text-align: right;\n",
       "    }\n",
       "</style>\n",
       "<table border=\"1\" class=\"dataframe\">\n",
       "  <thead>\n",
       "    <tr style=\"text-align: right;\">\n",
       "      <th></th>\n",
       "      <th></th>\n",
       "      <th>Customer</th>\n",
       "      <th>Sales Person</th>\n",
       "      <th>Product</th>\n",
       "      <th>Sales Amount</th>\n",
       "    </tr>\n",
       "    <tr>\n",
       "      <th>Location</th>\n",
       "      <th>Sales ID</th>\n",
       "      <th></th>\n",
       "      <th></th>\n",
       "      <th></th>\n",
       "      <th></th>\n",
       "    </tr>\n",
       "  </thead>\n",
       "  <tbody>\n",
       "    <tr>\n",
       "      <th rowspan=\"2\" valign=\"top\">CA</th>\n",
       "      <th>104</th>\n",
       "      <td>Bob</td>\n",
       "      <td>Emma</td>\n",
       "      <td>Mouse</td>\n",
       "      <td>40</td>\n",
       "    </tr>\n",
       "    <tr>\n",
       "      <th>105</th>\n",
       "      <td>John</td>\n",
       "      <td>Emma</td>\n",
       "      <td>Laptop</td>\n",
       "      <td>1100</td>\n",
       "    </tr>\n",
       "    <tr>\n",
       "      <th rowspan=\"2\" valign=\"top\">NJ</th>\n",
       "      <th>101</th>\n",
       "      <td>Alice</td>\n",
       "      <td>Alice</td>\n",
       "      <td>Printer</td>\n",
       "      <td>700</td>\n",
       "    </tr>\n",
       "    <tr>\n",
       "      <th>107</th>\n",
       "      <td>Carl</td>\n",
       "      <td>Kate</td>\n",
       "      <td>Mouse</td>\n",
       "      <td>20</td>\n",
       "    </tr>\n",
       "    <tr>\n",
       "      <th rowspan=\"3\" valign=\"top\">NY</th>\n",
       "      <th>102</th>\n",
       "      <td>Kate</td>\n",
       "      <td>Alice</td>\n",
       "      <td>Monitor</td>\n",
       "      <td>700</td>\n",
       "    </tr>\n",
       "    <tr>\n",
       "      <th>103</th>\n",
       "      <td>Charlie</td>\n",
       "      <td>Frank</td>\n",
       "      <td>Monitor</td>\n",
       "      <td>400</td>\n",
       "    </tr>\n",
       "    <tr>\n",
       "      <th>108</th>\n",
       "      <td>Jane</td>\n",
       "      <td>Frank</td>\n",
       "      <td>Keyboard</td>\n",
       "      <td>100</td>\n",
       "    </tr>\n",
       "    <tr>\n",
       "      <th>PA</th>\n",
       "      <th>106</th>\n",
       "      <td>Amy</td>\n",
       "      <td>Chris</td>\n",
       "      <td>Printer</td>\n",
       "      <td>100</td>\n",
       "    </tr>\n",
       "  </tbody>\n",
       "</table>\n",
       "</div>"
      ],
      "text/plain": [
       "                  Customer Sales Person   Product  Sales Amount\n",
       "Location Sales ID                                              \n",
       "CA       104           Bob         Emma     Mouse            40\n",
       "         105          John         Emma    Laptop          1100\n",
       "NJ       101         Alice        Alice   Printer           700\n",
       "         107          Carl         Kate     Mouse            20\n",
       "NY       102          Kate        Alice   Monitor           700\n",
       "         103       Charlie        Frank   Monitor           400\n",
       "         108          Jane        Frank  Keyboard           100\n",
       "PA       106           Amy        Chris   Printer           100"
      ]
     },
     "execution_count": 24,
     "metadata": {},
     "output_type": "execute_result"
    }
   ],
   "source": [
    "# sort by single index level\n",
    "df_sorted = df.sort_index(level = \"Location\")\n",
    "\n",
    "df_sorted"
   ]
  },
  {
   "cell_type": "code",
   "execution_count": 26,
   "metadata": {},
   "outputs": [
    {
     "data": {
      "text/html": [
       "<div>\n",
       "<style scoped>\n",
       "    .dataframe tbody tr th:only-of-type {\n",
       "        vertical-align: middle;\n",
       "    }\n",
       "\n",
       "    .dataframe tbody tr th {\n",
       "        vertical-align: top;\n",
       "    }\n",
       "\n",
       "    .dataframe thead th {\n",
       "        text-align: right;\n",
       "    }\n",
       "</style>\n",
       "<table border=\"1\" class=\"dataframe\">\n",
       "  <thead>\n",
       "    <tr style=\"text-align: right;\">\n",
       "      <th></th>\n",
       "      <th></th>\n",
       "      <th>Customer</th>\n",
       "      <th>Sales Person</th>\n",
       "      <th>Product</th>\n",
       "      <th>Sales Amount</th>\n",
       "    </tr>\n",
       "    <tr>\n",
       "      <th>Location</th>\n",
       "      <th>Sales ID</th>\n",
       "      <th></th>\n",
       "      <th></th>\n",
       "      <th></th>\n",
       "      <th></th>\n",
       "    </tr>\n",
       "  </thead>\n",
       "  <tbody>\n",
       "    <tr>\n",
       "      <th rowspan=\"2\" valign=\"top\">CA</th>\n",
       "      <th>105</th>\n",
       "      <td>John</td>\n",
       "      <td>Emma</td>\n",
       "      <td>Laptop</td>\n",
       "      <td>1100</td>\n",
       "    </tr>\n",
       "    <tr>\n",
       "      <th>104</th>\n",
       "      <td>Bob</td>\n",
       "      <td>Emma</td>\n",
       "      <td>Mouse</td>\n",
       "      <td>40</td>\n",
       "    </tr>\n",
       "    <tr>\n",
       "      <th rowspan=\"2\" valign=\"top\">NJ</th>\n",
       "      <th>107</th>\n",
       "      <td>Carl</td>\n",
       "      <td>Kate</td>\n",
       "      <td>Mouse</td>\n",
       "      <td>20</td>\n",
       "    </tr>\n",
       "    <tr>\n",
       "      <th>101</th>\n",
       "      <td>Alice</td>\n",
       "      <td>Alice</td>\n",
       "      <td>Printer</td>\n",
       "      <td>700</td>\n",
       "    </tr>\n",
       "    <tr>\n",
       "      <th rowspan=\"3\" valign=\"top\">NY</th>\n",
       "      <th>108</th>\n",
       "      <td>Jane</td>\n",
       "      <td>Frank</td>\n",
       "      <td>Keyboard</td>\n",
       "      <td>100</td>\n",
       "    </tr>\n",
       "    <tr>\n",
       "      <th>103</th>\n",
       "      <td>Charlie</td>\n",
       "      <td>Frank</td>\n",
       "      <td>Monitor</td>\n",
       "      <td>400</td>\n",
       "    </tr>\n",
       "    <tr>\n",
       "      <th>102</th>\n",
       "      <td>Kate</td>\n",
       "      <td>Alice</td>\n",
       "      <td>Monitor</td>\n",
       "      <td>700</td>\n",
       "    </tr>\n",
       "    <tr>\n",
       "      <th>PA</th>\n",
       "      <th>106</th>\n",
       "      <td>Amy</td>\n",
       "      <td>Chris</td>\n",
       "      <td>Printer</td>\n",
       "      <td>100</td>\n",
       "    </tr>\n",
       "  </tbody>\n",
       "</table>\n",
       "</div>"
      ],
      "text/plain": [
       "                  Customer Sales Person   Product  Sales Amount\n",
       "Location Sales ID                                              \n",
       "CA       105          John         Emma    Laptop          1100\n",
       "         104           Bob         Emma     Mouse            40\n",
       "NJ       107          Carl         Kate     Mouse            20\n",
       "         101         Alice        Alice   Printer           700\n",
       "NY       108          Jane        Frank  Keyboard           100\n",
       "         103       Charlie        Frank   Monitor           400\n",
       "         102          Kate        Alice   Monitor           700\n",
       "PA       106           Amy        Chris   Printer           100"
      ]
     },
     "execution_count": 26,
     "metadata": {},
     "output_type": "execute_result"
    }
   ],
   "source": [
    "# sort by all index level\n",
    "df_sorted = df.sort_index(ascending=[True, False])\n",
    "\n",
    "df_sorted"
   ]
  },
  {
   "cell_type": "markdown",
   "metadata": {},
   "source": [
    "## Combining DataFrames"
   ]
  },
  {
   "cell_type": "code",
   "execution_count": 52,
   "metadata": {},
   "outputs": [],
   "source": [
    "emp_data = {\n",
    "    \"Emp ID\": [1, 2, 3, 4, 5],\n",
    "    \"Name\": [\"John\", \"Amy\", \"Bob\", \"Charlie\", \"David\"],\n",
    "    \"Department\": [\"HR\", \"IT\", \"Finance\", \"IT\", \"Marketing\"],\n",
    "    \"Role\": [\"Manager\", \"Developer\", \"Analyst\", \"Developer\", \"Coordinator\"],\n",
    "}\n",
    "\n",
    "emp_project = {\n",
    "    \"Emp ID\": [1, 2, 3, 1, 4, 3],\n",
    "    \"Project ID\": [\"P101\", \"P101\", \"P101\", \"P102\", \"P102\", \"P102\"],\n",
    "    \"Role\": [\"Project Manager\", \"Developer\", \"Analyst\", \"Project Manager\", \"Developer\", \"Analyst\"]\n",
    "}\n"
   ]
  },
  {
   "cell_type": "code",
   "execution_count": 53,
   "metadata": {},
   "outputs": [
    {
     "data": {
      "text/html": [
       "<div>\n",
       "<style scoped>\n",
       "    .dataframe tbody tr th:only-of-type {\n",
       "        vertical-align: middle;\n",
       "    }\n",
       "\n",
       "    .dataframe tbody tr th {\n",
       "        vertical-align: top;\n",
       "    }\n",
       "\n",
       "    .dataframe thead th {\n",
       "        text-align: right;\n",
       "    }\n",
       "</style>\n",
       "<table border=\"1\" class=\"dataframe\">\n",
       "  <thead>\n",
       "    <tr style=\"text-align: right;\">\n",
       "      <th></th>\n",
       "      <th>Name</th>\n",
       "      <th>Department</th>\n",
       "      <th>Role</th>\n",
       "    </tr>\n",
       "    <tr>\n",
       "      <th>Emp ID</th>\n",
       "      <th></th>\n",
       "      <th></th>\n",
       "      <th></th>\n",
       "    </tr>\n",
       "  </thead>\n",
       "  <tbody>\n",
       "    <tr>\n",
       "      <th>1</th>\n",
       "      <td>John</td>\n",
       "      <td>HR</td>\n",
       "      <td>Manager</td>\n",
       "    </tr>\n",
       "    <tr>\n",
       "      <th>2</th>\n",
       "      <td>Amy</td>\n",
       "      <td>IT</td>\n",
       "      <td>Developer</td>\n",
       "    </tr>\n",
       "    <tr>\n",
       "      <th>3</th>\n",
       "      <td>Bob</td>\n",
       "      <td>Finance</td>\n",
       "      <td>Analyst</td>\n",
       "    </tr>\n",
       "    <tr>\n",
       "      <th>4</th>\n",
       "      <td>Charlie</td>\n",
       "      <td>IT</td>\n",
       "      <td>Developer</td>\n",
       "    </tr>\n",
       "    <tr>\n",
       "      <th>5</th>\n",
       "      <td>David</td>\n",
       "      <td>Marketing</td>\n",
       "      <td>Coordinator</td>\n",
       "    </tr>\n",
       "  </tbody>\n",
       "</table>\n",
       "</div>"
      ],
      "text/plain": [
       "           Name Department         Role\n",
       "Emp ID                                 \n",
       "1          John         HR      Manager\n",
       "2           Amy         IT    Developer\n",
       "3           Bob    Finance      Analyst\n",
       "4       Charlie         IT    Developer\n",
       "5         David  Marketing  Coordinator"
      ]
     },
     "execution_count": 53,
     "metadata": {},
     "output_type": "execute_result"
    }
   ],
   "source": [
    "# option 1\n",
    "# df_emp = pd.DataFrame(data={k: v for k, v in emp_data.items() if k != \"ID\"} , index=emp_data[\"ID\"])\n",
    "# option 2\n",
    "df_emp = pd.DataFrame(emp_data)\n",
    "df_emp = df_emp.set_index(\"Emp ID\")\n",
    "\n",
    "df_emp"
   ]
  },
  {
   "cell_type": "code",
   "execution_count": 54,
   "metadata": {},
   "outputs": [
    {
     "data": {
      "text/html": [
       "<div>\n",
       "<style scoped>\n",
       "    .dataframe tbody tr th:only-of-type {\n",
       "        vertical-align: middle;\n",
       "    }\n",
       "\n",
       "    .dataframe tbody tr th {\n",
       "        vertical-align: top;\n",
       "    }\n",
       "\n",
       "    .dataframe thead th {\n",
       "        text-align: right;\n",
       "    }\n",
       "</style>\n",
       "<table border=\"1\" class=\"dataframe\">\n",
       "  <thead>\n",
       "    <tr style=\"text-align: right;\">\n",
       "      <th></th>\n",
       "      <th>Emp ID</th>\n",
       "      <th>Project ID</th>\n",
       "      <th>Role</th>\n",
       "    </tr>\n",
       "  </thead>\n",
       "  <tbody>\n",
       "    <tr>\n",
       "      <th>0</th>\n",
       "      <td>1</td>\n",
       "      <td>P101</td>\n",
       "      <td>Project Manager</td>\n",
       "    </tr>\n",
       "    <tr>\n",
       "      <th>1</th>\n",
       "      <td>2</td>\n",
       "      <td>P101</td>\n",
       "      <td>Developer</td>\n",
       "    </tr>\n",
       "    <tr>\n",
       "      <th>2</th>\n",
       "      <td>3</td>\n",
       "      <td>P101</td>\n",
       "      <td>Analyst</td>\n",
       "    </tr>\n",
       "    <tr>\n",
       "      <th>3</th>\n",
       "      <td>1</td>\n",
       "      <td>P102</td>\n",
       "      <td>Project Manager</td>\n",
       "    </tr>\n",
       "    <tr>\n",
       "      <th>4</th>\n",
       "      <td>4</td>\n",
       "      <td>P102</td>\n",
       "      <td>Developer</td>\n",
       "    </tr>\n",
       "    <tr>\n",
       "      <th>5</th>\n",
       "      <td>3</td>\n",
       "      <td>P102</td>\n",
       "      <td>Analyst</td>\n",
       "    </tr>\n",
       "  </tbody>\n",
       "</table>\n",
       "</div>"
      ],
      "text/plain": [
       "   Emp ID Project ID             Role\n",
       "0       1       P101  Project Manager\n",
       "1       2       P101        Developer\n",
       "2       3       P101          Analyst\n",
       "3       1       P102  Project Manager\n",
       "4       4       P102        Developer\n",
       "5       3       P102          Analyst"
      ]
     },
     "execution_count": 54,
     "metadata": {},
     "output_type": "execute_result"
    }
   ],
   "source": [
    "df_emp_project = pd.DataFrame(emp_project)\n",
    "\n",
    "df_emp_project"
   ]
  },
  {
   "cell_type": "code",
   "execution_count": 55,
   "metadata": {},
   "outputs": [
    {
     "data": {
      "text/html": [
       "<div>\n",
       "<style scoped>\n",
       "    .dataframe tbody tr th:only-of-type {\n",
       "        vertical-align: middle;\n",
       "    }\n",
       "\n",
       "    .dataframe tbody tr th {\n",
       "        vertical-align: top;\n",
       "    }\n",
       "\n",
       "    .dataframe thead th {\n",
       "        text-align: right;\n",
       "    }\n",
       "</style>\n",
       "<table border=\"1\" class=\"dataframe\">\n",
       "  <thead>\n",
       "    <tr style=\"text-align: right;\">\n",
       "      <th></th>\n",
       "      <th>Emp ID</th>\n",
       "      <th>Project ID</th>\n",
       "      <th>Role_x</th>\n",
       "      <th>Name</th>\n",
       "      <th>Department</th>\n",
       "      <th>Role_y</th>\n",
       "    </tr>\n",
       "  </thead>\n",
       "  <tbody>\n",
       "    <tr>\n",
       "      <th>0</th>\n",
       "      <td>1</td>\n",
       "      <td>P101</td>\n",
       "      <td>Project Manager</td>\n",
       "      <td>John</td>\n",
       "      <td>HR</td>\n",
       "      <td>Manager</td>\n",
       "    </tr>\n",
       "    <tr>\n",
       "      <th>1</th>\n",
       "      <td>2</td>\n",
       "      <td>P101</td>\n",
       "      <td>Developer</td>\n",
       "      <td>Amy</td>\n",
       "      <td>IT</td>\n",
       "      <td>Developer</td>\n",
       "    </tr>\n",
       "    <tr>\n",
       "      <th>2</th>\n",
       "      <td>3</td>\n",
       "      <td>P101</td>\n",
       "      <td>Analyst</td>\n",
       "      <td>Bob</td>\n",
       "      <td>Finance</td>\n",
       "      <td>Analyst</td>\n",
       "    </tr>\n",
       "    <tr>\n",
       "      <th>3</th>\n",
       "      <td>1</td>\n",
       "      <td>P102</td>\n",
       "      <td>Project Manager</td>\n",
       "      <td>John</td>\n",
       "      <td>HR</td>\n",
       "      <td>Manager</td>\n",
       "    </tr>\n",
       "    <tr>\n",
       "      <th>4</th>\n",
       "      <td>4</td>\n",
       "      <td>P102</td>\n",
       "      <td>Developer</td>\n",
       "      <td>Charlie</td>\n",
       "      <td>IT</td>\n",
       "      <td>Developer</td>\n",
       "    </tr>\n",
       "    <tr>\n",
       "      <th>5</th>\n",
       "      <td>3</td>\n",
       "      <td>P102</td>\n",
       "      <td>Analyst</td>\n",
       "      <td>Bob</td>\n",
       "      <td>Finance</td>\n",
       "      <td>Analyst</td>\n",
       "    </tr>\n",
       "  </tbody>\n",
       "</table>\n",
       "</div>"
      ],
      "text/plain": [
       "   Emp ID Project ID           Role_x     Name Department     Role_y\n",
       "0       1       P101  Project Manager     John         HR    Manager\n",
       "1       2       P101        Developer      Amy         IT  Developer\n",
       "2       3       P101          Analyst      Bob    Finance    Analyst\n",
       "3       1       P102  Project Manager     John         HR    Manager\n",
       "4       4       P102        Developer  Charlie         IT  Developer\n",
       "5       3       P102          Analyst      Bob    Finance    Analyst"
      ]
     },
     "execution_count": 55,
     "metadata": {},
     "output_type": "execute_result"
    }
   ],
   "source": [
    "# combine using merge\n",
    "merged_df = df_emp_project.merge(right=df_emp, on=\"Emp ID\", how=\"left\")\n",
    "\n",
    "merged_df"
   ]
  },
  {
   "cell_type": "code",
   "execution_count": 56,
   "metadata": {},
   "outputs": [
    {
     "data": {
      "text/html": [
       "<div>\n",
       "<style scoped>\n",
       "    .dataframe tbody tr th:only-of-type {\n",
       "        vertical-align: middle;\n",
       "    }\n",
       "\n",
       "    .dataframe tbody tr th {\n",
       "        vertical-align: top;\n",
       "    }\n",
       "\n",
       "    .dataframe thead th {\n",
       "        text-align: right;\n",
       "    }\n",
       "</style>\n",
       "<table border=\"1\" class=\"dataframe\">\n",
       "  <thead>\n",
       "    <tr style=\"text-align: right;\">\n",
       "      <th></th>\n",
       "      <th>Emp ID</th>\n",
       "      <th>Project ID</th>\n",
       "      <th>Role_project</th>\n",
       "      <th>Name</th>\n",
       "      <th>Department</th>\n",
       "      <th>Role_emp</th>\n",
       "    </tr>\n",
       "  </thead>\n",
       "  <tbody>\n",
       "    <tr>\n",
       "      <th>0</th>\n",
       "      <td>1</td>\n",
       "      <td>P101</td>\n",
       "      <td>Project Manager</td>\n",
       "      <td>John</td>\n",
       "      <td>HR</td>\n",
       "      <td>Manager</td>\n",
       "    </tr>\n",
       "    <tr>\n",
       "      <th>1</th>\n",
       "      <td>2</td>\n",
       "      <td>P101</td>\n",
       "      <td>Developer</td>\n",
       "      <td>Amy</td>\n",
       "      <td>IT</td>\n",
       "      <td>Developer</td>\n",
       "    </tr>\n",
       "    <tr>\n",
       "      <th>2</th>\n",
       "      <td>3</td>\n",
       "      <td>P101</td>\n",
       "      <td>Analyst</td>\n",
       "      <td>Bob</td>\n",
       "      <td>Finance</td>\n",
       "      <td>Analyst</td>\n",
       "    </tr>\n",
       "    <tr>\n",
       "      <th>3</th>\n",
       "      <td>1</td>\n",
       "      <td>P102</td>\n",
       "      <td>Project Manager</td>\n",
       "      <td>John</td>\n",
       "      <td>HR</td>\n",
       "      <td>Manager</td>\n",
       "    </tr>\n",
       "    <tr>\n",
       "      <th>4</th>\n",
       "      <td>4</td>\n",
       "      <td>P102</td>\n",
       "      <td>Developer</td>\n",
       "      <td>Charlie</td>\n",
       "      <td>IT</td>\n",
       "      <td>Developer</td>\n",
       "    </tr>\n",
       "    <tr>\n",
       "      <th>5</th>\n",
       "      <td>3</td>\n",
       "      <td>P102</td>\n",
       "      <td>Analyst</td>\n",
       "      <td>Bob</td>\n",
       "      <td>Finance</td>\n",
       "      <td>Analyst</td>\n",
       "    </tr>\n",
       "  </tbody>\n",
       "</table>\n",
       "</div>"
      ],
      "text/plain": [
       "   Emp ID Project ID     Role_project     Name Department   Role_emp\n",
       "0       1       P101  Project Manager     John         HR    Manager\n",
       "1       2       P101        Developer      Amy         IT  Developer\n",
       "2       3       P101          Analyst      Bob    Finance    Analyst\n",
       "3       1       P102  Project Manager     John         HR    Manager\n",
       "4       4       P102        Developer  Charlie         IT  Developer\n",
       "5       3       P102          Analyst      Bob    Finance    Analyst"
      ]
     },
     "execution_count": 56,
     "metadata": {},
     "output_type": "execute_result"
    }
   ],
   "source": [
    "# combine using join\n",
    "joined_df = df_emp_project.join(other=df_emp, on=\"Emp ID\", how=\"left\", lsuffix=\"_project\", rsuffix=\"_emp\")\n",
    "\n",
    "joined_df"
   ]
  },
  {
   "cell_type": "markdown",
   "metadata": {},
   "source": [
    "## Time Series"
   ]
  },
  {
   "cell_type": "markdown",
   "metadata": {},
   "source": [
    "### Create timestamp"
   ]
  },
  {
   "cell_type": "code",
   "execution_count": 63,
   "metadata": {},
   "outputs": [
    {
     "data": {
      "text/html": [
       "<div>\n",
       "<style scoped>\n",
       "    .dataframe tbody tr th:only-of-type {\n",
       "        vertical-align: middle;\n",
       "    }\n",
       "\n",
       "    .dataframe tbody tr th {\n",
       "        vertical-align: top;\n",
       "    }\n",
       "\n",
       "    .dataframe thead th {\n",
       "        text-align: right;\n",
       "    }\n",
       "</style>\n",
       "<table border=\"1\" class=\"dataframe\">\n",
       "  <thead>\n",
       "    <tr style=\"text-align: right;\">\n",
       "      <th></th>\n",
       "      <th>temperature</th>\n",
       "      <th>humidity</th>\n",
       "    </tr>\n",
       "  </thead>\n",
       "  <tbody>\n",
       "    <tr>\n",
       "      <th>0</th>\n",
       "      <td>23.3</td>\n",
       "      <td>43</td>\n",
       "    </tr>\n",
       "    <tr>\n",
       "      <th>1</th>\n",
       "      <td>24.4</td>\n",
       "      <td>44</td>\n",
       "    </tr>\n",
       "    <tr>\n",
       "      <th>2</th>\n",
       "      <td>22.1</td>\n",
       "      <td>50</td>\n",
       "    </tr>\n",
       "    <tr>\n",
       "      <th>3</th>\n",
       "      <td>22.0</td>\n",
       "      <td>44</td>\n",
       "    </tr>\n",
       "    <tr>\n",
       "      <th>4</th>\n",
       "      <td>31.3</td>\n",
       "      <td>46</td>\n",
       "    </tr>\n",
       "  </tbody>\n",
       "</table>\n",
       "</div>"
      ],
      "text/plain": [
       "   temperature  humidity\n",
       "0         23.3        43\n",
       "1         24.4        44\n",
       "2         22.1        50\n",
       "3         22.0        44\n",
       "4         31.3        46"
      ]
     },
     "execution_count": 63,
     "metadata": {},
     "output_type": "execute_result"
    }
   ],
   "source": [
    "data = {\n",
    "    \"temperature\": [23.3, 24.4, 22.1, 22, 31.3],\n",
    "    \"humidity\": [43, 44, 50, 44, 46],\n",
    "}\n",
    "\n",
    "df = pd.DataFrame(data)\n",
    "\n",
    "df\n"
   ]
  },
  {
   "cell_type": "code",
   "execution_count": 66,
   "metadata": {},
   "outputs": [
    {
     "name": "stdout",
     "output_type": "stream",
     "text": [
      "<class 'pandas.core.frame.DataFrame'>\n",
      "RangeIndex: 5 entries, 0 to 4\n",
      "Data columns (total 3 columns):\n",
      " #   Column       Non-Null Count  Dtype         \n",
      "---  ------       --------------  -----         \n",
      " 0   temperature  5 non-null      float64       \n",
      " 1   humidity     5 non-null      int64         \n",
      " 2   Timestamp    5 non-null      datetime64[ns]\n",
      "dtypes: datetime64[ns](1), float64(1), int64(1)\n",
      "memory usage: 252.0 bytes\n"
     ]
    },
    {
     "data": {
      "text/html": [
       "<div>\n",
       "<style scoped>\n",
       "    .dataframe tbody tr th:only-of-type {\n",
       "        vertical-align: middle;\n",
       "    }\n",
       "\n",
       "    .dataframe tbody tr th {\n",
       "        vertical-align: top;\n",
       "    }\n",
       "\n",
       "    .dataframe thead th {\n",
       "        text-align: right;\n",
       "    }\n",
       "</style>\n",
       "<table border=\"1\" class=\"dataframe\">\n",
       "  <thead>\n",
       "    <tr style=\"text-align: right;\">\n",
       "      <th></th>\n",
       "      <th>temperature</th>\n",
       "      <th>humidity</th>\n",
       "      <th>Timestamp</th>\n",
       "    </tr>\n",
       "  </thead>\n",
       "  <tbody>\n",
       "    <tr>\n",
       "      <th>0</th>\n",
       "      <td>23.3</td>\n",
       "      <td>43</td>\n",
       "      <td>2023-01-15 12:00:00</td>\n",
       "    </tr>\n",
       "    <tr>\n",
       "      <th>1</th>\n",
       "      <td>24.4</td>\n",
       "      <td>44</td>\n",
       "      <td>2023-01-16 12:00:00</td>\n",
       "    </tr>\n",
       "    <tr>\n",
       "      <th>2</th>\n",
       "      <td>22.1</td>\n",
       "      <td>50</td>\n",
       "      <td>2023-01-17 12:00:00</td>\n",
       "    </tr>\n",
       "    <tr>\n",
       "      <th>3</th>\n",
       "      <td>22.0</td>\n",
       "      <td>44</td>\n",
       "      <td>2023-01-18 12:00:00</td>\n",
       "    </tr>\n",
       "    <tr>\n",
       "      <th>4</th>\n",
       "      <td>31.3</td>\n",
       "      <td>46</td>\n",
       "      <td>2023-01-19 12:00:00</td>\n",
       "    </tr>\n",
       "  </tbody>\n",
       "</table>\n",
       "</div>"
      ],
      "text/plain": [
       "   temperature  humidity           Timestamp\n",
       "0         23.3        43 2023-01-15 12:00:00\n",
       "1         24.4        44 2023-01-16 12:00:00\n",
       "2         22.1        50 2023-01-17 12:00:00\n",
       "3         22.0        44 2023-01-18 12:00:00\n",
       "4         31.3        46 2023-01-19 12:00:00"
      ]
     },
     "execution_count": 66,
     "metadata": {},
     "output_type": "execute_result"
    }
   ],
   "source": [
    "# function to_datetime()\n",
    "\n",
    "date_strings = [\"2023-01-15 12:00:00\", \"2023-01-16 12:00:00\", \"2023-01-17 12:00:00\", \"2023-01-18 12:00:00\", \"2023-01-19 12:00:00\"]\n",
    "\n",
    "timestamps = pd.to_datetime(date_strings)\n",
    "\n",
    "df_ts = df.copy()\n",
    "df_ts[\"Timestamp\"] = timestamps\n",
    "\n",
    "df_ts.info()\n",
    "df_ts"
   ]
  },
  {
   "cell_type": "code",
   "execution_count": 68,
   "metadata": {},
   "outputs": [
    {
     "name": "stdout",
     "output_type": "stream",
     "text": [
      "<class 'pandas.core.frame.DataFrame'>\n",
      "RangeIndex: 5 entries, 0 to 4\n",
      "Data columns (total 3 columns):\n",
      " #   Column       Non-Null Count  Dtype         \n",
      "---  ------       --------------  -----         \n",
      " 0   temperature  5 non-null      float64       \n",
      " 1   humidity     5 non-null      int64         \n",
      " 2   Timestamp    5 non-null      datetime64[ns]\n",
      "dtypes: datetime64[ns](1), float64(1), int64(1)\n",
      "memory usage: 252.0 bytes\n"
     ]
    },
    {
     "data": {
      "text/html": [
       "<div>\n",
       "<style scoped>\n",
       "    .dataframe tbody tr th:only-of-type {\n",
       "        vertical-align: middle;\n",
       "    }\n",
       "\n",
       "    .dataframe tbody tr th {\n",
       "        vertical-align: top;\n",
       "    }\n",
       "\n",
       "    .dataframe thead th {\n",
       "        text-align: right;\n",
       "    }\n",
       "</style>\n",
       "<table border=\"1\" class=\"dataframe\">\n",
       "  <thead>\n",
       "    <tr style=\"text-align: right;\">\n",
       "      <th></th>\n",
       "      <th>temperature</th>\n",
       "      <th>humidity</th>\n",
       "      <th>Timestamp</th>\n",
       "    </tr>\n",
       "  </thead>\n",
       "  <tbody>\n",
       "    <tr>\n",
       "      <th>0</th>\n",
       "      <td>23.3</td>\n",
       "      <td>43</td>\n",
       "      <td>2023-01-15 12:00:00</td>\n",
       "    </tr>\n",
       "    <tr>\n",
       "      <th>1</th>\n",
       "      <td>24.4</td>\n",
       "      <td>44</td>\n",
       "      <td>2023-01-16 12:00:00</td>\n",
       "    </tr>\n",
       "    <tr>\n",
       "      <th>2</th>\n",
       "      <td>22.1</td>\n",
       "      <td>50</td>\n",
       "      <td>2023-01-17 12:00:00</td>\n",
       "    </tr>\n",
       "    <tr>\n",
       "      <th>3</th>\n",
       "      <td>22.0</td>\n",
       "      <td>44</td>\n",
       "      <td>2023-01-18 12:00:00</td>\n",
       "    </tr>\n",
       "    <tr>\n",
       "      <th>4</th>\n",
       "      <td>31.3</td>\n",
       "      <td>46</td>\n",
       "      <td>2023-01-19 12:00:00</td>\n",
       "    </tr>\n",
       "  </tbody>\n",
       "</table>\n",
       "</div>"
      ],
      "text/plain": [
       "   temperature  humidity           Timestamp\n",
       "0         23.3        43 2023-01-15 12:00:00\n",
       "1         24.4        44 2023-01-16 12:00:00\n",
       "2         22.1        50 2023-01-17 12:00:00\n",
       "3         22.0        44 2023-01-18 12:00:00\n",
       "4         31.3        46 2023-01-19 12:00:00"
      ]
     },
     "execution_count": 68,
     "metadata": {},
     "output_type": "execute_result"
    }
   ],
   "source": [
    "# class Timestamp\n",
    "\n",
    "timestamps = []\n",
    "\n",
    "for i in range(15, 20):\n",
    "    timestamp = pd.Timestamp(year=2023, month=1, day=i, hour=12)\n",
    "    timestamps.append(timestamp)\n",
    "\n",
    "df_ts = df.copy()\n",
    "df_ts[\"Timestamp\"] = timestamps\n",
    "\n",
    "df_ts.info()\n",
    "df_ts"
   ]
  },
  {
   "cell_type": "code",
   "execution_count": 70,
   "metadata": {},
   "outputs": [
    {
     "name": "stdout",
     "output_type": "stream",
     "text": [
      "<class 'pandas.core.frame.DataFrame'>\n",
      "RangeIndex: 5 entries, 0 to 4\n",
      "Data columns (total 3 columns):\n",
      " #   Column       Non-Null Count  Dtype         \n",
      "---  ------       --------------  -----         \n",
      " 0   temperature  5 non-null      float64       \n",
      " 1   humidity     5 non-null      int64         \n",
      " 2   Timestamp    5 non-null      datetime64[ns]\n",
      "dtypes: datetime64[ns](1), float64(1), int64(1)\n",
      "memory usage: 252.0 bytes\n"
     ]
    },
    {
     "data": {
      "text/html": [
       "<div>\n",
       "<style scoped>\n",
       "    .dataframe tbody tr th:only-of-type {\n",
       "        vertical-align: middle;\n",
       "    }\n",
       "\n",
       "    .dataframe tbody tr th {\n",
       "        vertical-align: top;\n",
       "    }\n",
       "\n",
       "    .dataframe thead th {\n",
       "        text-align: right;\n",
       "    }\n",
       "</style>\n",
       "<table border=\"1\" class=\"dataframe\">\n",
       "  <thead>\n",
       "    <tr style=\"text-align: right;\">\n",
       "      <th></th>\n",
       "      <th>temperature</th>\n",
       "      <th>humidity</th>\n",
       "      <th>Timestamp</th>\n",
       "    </tr>\n",
       "  </thead>\n",
       "  <tbody>\n",
       "    <tr>\n",
       "      <th>0</th>\n",
       "      <td>23.3</td>\n",
       "      <td>43</td>\n",
       "      <td>2023-01-15 12:00:00</td>\n",
       "    </tr>\n",
       "    <tr>\n",
       "      <th>1</th>\n",
       "      <td>24.4</td>\n",
       "      <td>44</td>\n",
       "      <td>2023-01-16 12:00:00</td>\n",
       "    </tr>\n",
       "    <tr>\n",
       "      <th>2</th>\n",
       "      <td>22.1</td>\n",
       "      <td>50</td>\n",
       "      <td>2023-01-17 12:00:00</td>\n",
       "    </tr>\n",
       "    <tr>\n",
       "      <th>3</th>\n",
       "      <td>22.0</td>\n",
       "      <td>44</td>\n",
       "      <td>2023-01-18 12:00:00</td>\n",
       "    </tr>\n",
       "    <tr>\n",
       "      <th>4</th>\n",
       "      <td>31.3</td>\n",
       "      <td>46</td>\n",
       "      <td>2023-01-19 12:00:00</td>\n",
       "    </tr>\n",
       "  </tbody>\n",
       "</table>\n",
       "</div>"
      ],
      "text/plain": [
       "   temperature  humidity           Timestamp\n",
       "0         23.3        43 2023-01-15 12:00:00\n",
       "1         24.4        44 2023-01-16 12:00:00\n",
       "2         22.1        50 2023-01-17 12:00:00\n",
       "3         22.0        44 2023-01-18 12:00:00\n",
       "4         31.3        46 2023-01-19 12:00:00"
      ]
     },
     "execution_count": 70,
     "metadata": {},
     "output_type": "execute_result"
    }
   ],
   "source": [
    "# function date_range()\n",
    "timestamps = pd.date_range(start=\"2023-01-15 12:00:00\", end=\"2023-01-19 12:00:00\", freq=\"D\")\n",
    "\n",
    "df_ts = df.copy()\n",
    "df_ts[\"Timestamp\"] = timestamps\n",
    "\n",
    "df_ts.info()\n",
    "df_ts"
   ]
  },
  {
   "cell_type": "markdown",
   "metadata": {},
   "source": [
    "### Select by timestamp"
   ]
  },
  {
   "cell_type": "code",
   "execution_count": 79,
   "metadata": {},
   "outputs": [
    {
     "data": {
      "text/html": [
       "<div>\n",
       "<style scoped>\n",
       "    .dataframe tbody tr th:only-of-type {\n",
       "        vertical-align: middle;\n",
       "    }\n",
       "\n",
       "    .dataframe tbody tr th {\n",
       "        vertical-align: top;\n",
       "    }\n",
       "\n",
       "    .dataframe thead th {\n",
       "        text-align: right;\n",
       "    }\n",
       "</style>\n",
       "<table border=\"1\" class=\"dataframe\">\n",
       "  <thead>\n",
       "    <tr style=\"text-align: right;\">\n",
       "      <th></th>\n",
       "      <th>temperature</th>\n",
       "      <th>humidity</th>\n",
       "    </tr>\n",
       "    <tr>\n",
       "      <th>timestamp</th>\n",
       "      <th></th>\n",
       "      <th></th>\n",
       "    </tr>\n",
       "  </thead>\n",
       "  <tbody>\n",
       "    <tr>\n",
       "      <th>2023-01-01 12:00:00</th>\n",
       "      <td>23.3</td>\n",
       "      <td>43</td>\n",
       "    </tr>\n",
       "    <tr>\n",
       "      <th>2023-02-01 12:00:00</th>\n",
       "      <td>24.4</td>\n",
       "      <td>44</td>\n",
       "    </tr>\n",
       "    <tr>\n",
       "      <th>2023-03-01 12:00:00</th>\n",
       "      <td>22.1</td>\n",
       "      <td>50</td>\n",
       "    </tr>\n",
       "    <tr>\n",
       "      <th>2023-04-01 12:00:00</th>\n",
       "      <td>22.0</td>\n",
       "      <td>44</td>\n",
       "    </tr>\n",
       "    <tr>\n",
       "      <th>2023-05-01 12:00:00</th>\n",
       "      <td>31.3</td>\n",
       "      <td>46</td>\n",
       "    </tr>\n",
       "  </tbody>\n",
       "</table>\n",
       "</div>"
      ],
      "text/plain": [
       "                     temperature  humidity\n",
       "timestamp                                 \n",
       "2023-01-01 12:00:00         23.3        43\n",
       "2023-02-01 12:00:00         24.4        44\n",
       "2023-03-01 12:00:00         22.1        50\n",
       "2023-04-01 12:00:00         22.0        44\n",
       "2023-05-01 12:00:00         31.3        46"
      ]
     },
     "execution_count": 79,
     "metadata": {},
     "output_type": "execute_result"
    }
   ],
   "source": [
    "data = {\n",
    "    \"temperature\": [23.3, 24.4, 22.1, 22, 31.3],\n",
    "    \"humidity\": [43, 44, 50, 44, 46],\n",
    "    \"timestamp\" : [pd.Timestamp(year=2023, month=i, day=1, hour=12) for i in range(1,6)]\n",
    "}\n",
    "\n",
    "df = pd.DataFrame(data)\n",
    "df.set_index(\"timestamp\", inplace=True)\n",
    "\n",
    "df"
   ]
  },
  {
   "cell_type": "code",
   "execution_count": 80,
   "metadata": {},
   "outputs": [
    {
     "data": {
      "text/html": [
       "<div>\n",
       "<style scoped>\n",
       "    .dataframe tbody tr th:only-of-type {\n",
       "        vertical-align: middle;\n",
       "    }\n",
       "\n",
       "    .dataframe tbody tr th {\n",
       "        vertical-align: top;\n",
       "    }\n",
       "\n",
       "    .dataframe thead th {\n",
       "        text-align: right;\n",
       "    }\n",
       "</style>\n",
       "<table border=\"1\" class=\"dataframe\">\n",
       "  <thead>\n",
       "    <tr style=\"text-align: right;\">\n",
       "      <th></th>\n",
       "      <th>temperature</th>\n",
       "      <th>humidity</th>\n",
       "    </tr>\n",
       "    <tr>\n",
       "      <th>timestamp</th>\n",
       "      <th></th>\n",
       "      <th></th>\n",
       "    </tr>\n",
       "  </thead>\n",
       "  <tbody>\n",
       "    <tr>\n",
       "      <th>2023-02-01 12:00:00</th>\n",
       "      <td>24.4</td>\n",
       "      <td>44</td>\n",
       "    </tr>\n",
       "  </tbody>\n",
       "</table>\n",
       "</div>"
      ],
      "text/plain": [
       "                     temperature  humidity\n",
       "timestamp                                 \n",
       "2023-02-01 12:00:00         24.4        44"
      ]
     },
     "execution_count": 80,
     "metadata": {},
     "output_type": "execute_result"
    }
   ],
   "source": [
    "# select by date\n",
    "\n",
    "df_sel = df.loc[\"2023-02-01\"]\n",
    "\n",
    "df_sel"
   ]
  },
  {
   "cell_type": "code",
   "execution_count": 81,
   "metadata": {},
   "outputs": [
    {
     "data": {
      "text/html": [
       "<div>\n",
       "<style scoped>\n",
       "    .dataframe tbody tr th:only-of-type {\n",
       "        vertical-align: middle;\n",
       "    }\n",
       "\n",
       "    .dataframe tbody tr th {\n",
       "        vertical-align: top;\n",
       "    }\n",
       "\n",
       "    .dataframe thead th {\n",
       "        text-align: right;\n",
       "    }\n",
       "</style>\n",
       "<table border=\"1\" class=\"dataframe\">\n",
       "  <thead>\n",
       "    <tr style=\"text-align: right;\">\n",
       "      <th></th>\n",
       "      <th>temperature</th>\n",
       "      <th>humidity</th>\n",
       "    </tr>\n",
       "    <tr>\n",
       "      <th>timestamp</th>\n",
       "      <th></th>\n",
       "      <th></th>\n",
       "    </tr>\n",
       "  </thead>\n",
       "  <tbody>\n",
       "    <tr>\n",
       "      <th>2023-03-01 12:00:00</th>\n",
       "      <td>22.1</td>\n",
       "      <td>50</td>\n",
       "    </tr>\n",
       "  </tbody>\n",
       "</table>\n",
       "</div>"
      ],
      "text/plain": [
       "                     temperature  humidity\n",
       "timestamp                                 \n",
       "2023-03-01 12:00:00         22.1        50"
      ]
     },
     "execution_count": 81,
     "metadata": {},
     "output_type": "execute_result"
    }
   ],
   "source": [
    "# select by partial date\n",
    "df_sel = df.loc[\"2023-03\"]\n",
    "\n",
    "df_sel"
   ]
  },
  {
   "cell_type": "code",
   "execution_count": 83,
   "metadata": {},
   "outputs": [
    {
     "data": {
      "text/html": [
       "<div>\n",
       "<style scoped>\n",
       "    .dataframe tbody tr th:only-of-type {\n",
       "        vertical-align: middle;\n",
       "    }\n",
       "\n",
       "    .dataframe tbody tr th {\n",
       "        vertical-align: top;\n",
       "    }\n",
       "\n",
       "    .dataframe thead th {\n",
       "        text-align: right;\n",
       "    }\n",
       "</style>\n",
       "<table border=\"1\" class=\"dataframe\">\n",
       "  <thead>\n",
       "    <tr style=\"text-align: right;\">\n",
       "      <th></th>\n",
       "      <th>temperature</th>\n",
       "      <th>humidity</th>\n",
       "    </tr>\n",
       "    <tr>\n",
       "      <th>timestamp</th>\n",
       "      <th></th>\n",
       "      <th></th>\n",
       "    </tr>\n",
       "  </thead>\n",
       "  <tbody>\n",
       "    <tr>\n",
       "      <th>2023-02-01 12:00:00</th>\n",
       "      <td>24.4</td>\n",
       "      <td>44</td>\n",
       "    </tr>\n",
       "    <tr>\n",
       "      <th>2023-03-01 12:00:00</th>\n",
       "      <td>22.1</td>\n",
       "      <td>50</td>\n",
       "    </tr>\n",
       "    <tr>\n",
       "      <th>2023-04-01 12:00:00</th>\n",
       "      <td>22.0</td>\n",
       "      <td>44</td>\n",
       "    </tr>\n",
       "  </tbody>\n",
       "</table>\n",
       "</div>"
      ],
      "text/plain": [
       "                     temperature  humidity\n",
       "timestamp                                 \n",
       "2023-02-01 12:00:00         24.4        44\n",
       "2023-03-01 12:00:00         22.1        50\n",
       "2023-04-01 12:00:00         22.0        44"
      ]
     },
     "execution_count": 83,
     "metadata": {},
     "output_type": "execute_result"
    }
   ],
   "source": [
    "# select by slicing\n",
    "df_sel = df.loc[\"2023-01-02\":\"2023-04-12\"]\n",
    "\n",
    "df_sel"
   ]
  },
  {
   "cell_type": "code",
   "execution_count": 89,
   "metadata": {},
   "outputs": [
    {
     "name": "stdout",
     "output_type": "stream",
     "text": [
      "<class 'pandas.core.indexes.datetimes.DatetimeIndex'>\n",
      "<class 'numpy.ndarray'>\n",
      "[False False False  True  True]\n"
     ]
    },
    {
     "data": {
      "text/html": [
       "<div>\n",
       "<style scoped>\n",
       "    .dataframe tbody tr th:only-of-type {\n",
       "        vertical-align: middle;\n",
       "    }\n",
       "\n",
       "    .dataframe tbody tr th {\n",
       "        vertical-align: top;\n",
       "    }\n",
       "\n",
       "    .dataframe thead th {\n",
       "        text-align: right;\n",
       "    }\n",
       "</style>\n",
       "<table border=\"1\" class=\"dataframe\">\n",
       "  <thead>\n",
       "    <tr style=\"text-align: right;\">\n",
       "      <th></th>\n",
       "      <th>temperature</th>\n",
       "      <th>humidity</th>\n",
       "    </tr>\n",
       "    <tr>\n",
       "      <th>timestamp</th>\n",
       "      <th></th>\n",
       "      <th></th>\n",
       "    </tr>\n",
       "  </thead>\n",
       "  <tbody>\n",
       "    <tr>\n",
       "      <th>2023-04-01 12:00:00</th>\n",
       "      <td>22.0</td>\n",
       "      <td>44</td>\n",
       "    </tr>\n",
       "    <tr>\n",
       "      <th>2023-05-01 12:00:00</th>\n",
       "      <td>31.3</td>\n",
       "      <td>46</td>\n",
       "    </tr>\n",
       "  </tbody>\n",
       "</table>\n",
       "</div>"
      ],
      "text/plain": [
       "                     temperature  humidity\n",
       "timestamp                                 \n",
       "2023-04-01 12:00:00         22.0        44\n",
       "2023-05-01 12:00:00         31.3        46"
      ]
     },
     "execution_count": 89,
     "metadata": {},
     "output_type": "execute_result"
    }
   ],
   "source": [
    "# select by boolean array\n",
    "print(type(df.index))\n",
    "print(type(df.index > \"2023-03-12\"))\n",
    "print(df.index > \"2023-03-12\")\n",
    "\n",
    "df_sel = df[df.index > \"2023-03-12\"]\n",
    "\n",
    "df_sel"
   ]
  },
  {
   "cell_type": "markdown",
   "metadata": {},
   "source": [
    "### Manipulate time serie"
   ]
  },
  {
   "cell_type": "code",
   "execution_count": 101,
   "metadata": {},
   "outputs": [
    {
     "data": {
      "text/html": [
       "<div>\n",
       "<style scoped>\n",
       "    .dataframe tbody tr th:only-of-type {\n",
       "        vertical-align: middle;\n",
       "    }\n",
       "\n",
       "    .dataframe tbody tr th {\n",
       "        vertical-align: top;\n",
       "    }\n",
       "\n",
       "    .dataframe thead th {\n",
       "        text-align: right;\n",
       "    }\n",
       "</style>\n",
       "<table border=\"1\" class=\"dataframe\">\n",
       "  <thead>\n",
       "    <tr style=\"text-align: right;\">\n",
       "      <th></th>\n",
       "      <th>temperature</th>\n",
       "      <th>humidity</th>\n",
       "    </tr>\n",
       "    <tr>\n",
       "      <th>timestamp</th>\n",
       "      <th></th>\n",
       "      <th></th>\n",
       "    </tr>\n",
       "  </thead>\n",
       "  <tbody>\n",
       "    <tr>\n",
       "      <th>2023-01-01 12:00:00</th>\n",
       "      <td>23.3</td>\n",
       "      <td>43</td>\n",
       "    </tr>\n",
       "    <tr>\n",
       "      <th>2023-01-02 12:00:00</th>\n",
       "      <td>24.4</td>\n",
       "      <td>44</td>\n",
       "    </tr>\n",
       "    <tr>\n",
       "      <th>2023-01-03 12:00:00</th>\n",
       "      <td>22.1</td>\n",
       "      <td>50</td>\n",
       "    </tr>\n",
       "    <tr>\n",
       "      <th>2023-01-04 12:00:00</th>\n",
       "      <td>22.0</td>\n",
       "      <td>44</td>\n",
       "    </tr>\n",
       "    <tr>\n",
       "      <th>2023-01-05 12:00:00</th>\n",
       "      <td>31.3</td>\n",
       "      <td>46</td>\n",
       "    </tr>\n",
       "  </tbody>\n",
       "</table>\n",
       "</div>"
      ],
      "text/plain": [
       "                     temperature  humidity\n",
       "timestamp                                 \n",
       "2023-01-01 12:00:00         23.3        43\n",
       "2023-01-02 12:00:00         24.4        44\n",
       "2023-01-03 12:00:00         22.1        50\n",
       "2023-01-04 12:00:00         22.0        44\n",
       "2023-01-05 12:00:00         31.3        46"
      ]
     },
     "execution_count": 101,
     "metadata": {},
     "output_type": "execute_result"
    }
   ],
   "source": [
    "data = {\n",
    "    \"temperature\": [23.3, 24.4, 22.1, 22, 31.3],\n",
    "    \"humidity\": [43, 44, 50, 44, 46],\n",
    "    \"timestamp\" : [pd.Timestamp(year=2023, month=1, day=i, hour=12) for i in range(1,6)]\n",
    "}\n",
    "\n",
    "df = pd.DataFrame(data)\n",
    "df.set_index(\"timestamp\", inplace=True)\n",
    "\n",
    "df"
   ]
  },
  {
   "cell_type": "code",
   "execution_count": 102,
   "metadata": {},
   "outputs": [
    {
     "data": {
      "text/html": [
       "<div>\n",
       "<style scoped>\n",
       "    .dataframe tbody tr th:only-of-type {\n",
       "        vertical-align: middle;\n",
       "    }\n",
       "\n",
       "    .dataframe tbody tr th {\n",
       "        vertical-align: top;\n",
       "    }\n",
       "\n",
       "    .dataframe thead th {\n",
       "        text-align: right;\n",
       "    }\n",
       "</style>\n",
       "<table border=\"1\" class=\"dataframe\">\n",
       "  <thead>\n",
       "    <tr style=\"text-align: right;\">\n",
       "      <th></th>\n",
       "      <th>temperature</th>\n",
       "      <th>humidity</th>\n",
       "    </tr>\n",
       "    <tr>\n",
       "      <th>timestamp</th>\n",
       "      <th></th>\n",
       "      <th></th>\n",
       "    </tr>\n",
       "  </thead>\n",
       "  <tbody>\n",
       "    <tr>\n",
       "      <th>2023-01-01 12:00:00</th>\n",
       "      <td>23.3</td>\n",
       "      <td>43</td>\n",
       "    </tr>\n",
       "    <tr>\n",
       "      <th>2023-01-02 00:00:00</th>\n",
       "      <td>24.4</td>\n",
       "      <td>44</td>\n",
       "    </tr>\n",
       "    <tr>\n",
       "      <th>2023-01-02 12:00:00</th>\n",
       "      <td>24.4</td>\n",
       "      <td>44</td>\n",
       "    </tr>\n",
       "    <tr>\n",
       "      <th>2023-01-03 00:00:00</th>\n",
       "      <td>22.1</td>\n",
       "      <td>50</td>\n",
       "    </tr>\n",
       "    <tr>\n",
       "      <th>2023-01-03 12:00:00</th>\n",
       "      <td>22.1</td>\n",
       "      <td>50</td>\n",
       "    </tr>\n",
       "    <tr>\n",
       "      <th>2023-01-04 00:00:00</th>\n",
       "      <td>22.0</td>\n",
       "      <td>44</td>\n",
       "    </tr>\n",
       "    <tr>\n",
       "      <th>2023-01-04 12:00:00</th>\n",
       "      <td>22.0</td>\n",
       "      <td>44</td>\n",
       "    </tr>\n",
       "    <tr>\n",
       "      <th>2023-01-05 00:00:00</th>\n",
       "      <td>31.3</td>\n",
       "      <td>46</td>\n",
       "    </tr>\n",
       "    <tr>\n",
       "      <th>2023-01-05 12:00:00</th>\n",
       "      <td>31.3</td>\n",
       "      <td>46</td>\n",
       "    </tr>\n",
       "  </tbody>\n",
       "</table>\n",
       "</div>"
      ],
      "text/plain": [
       "                     temperature  humidity\n",
       "timestamp                                 \n",
       "2023-01-01 12:00:00         23.3        43\n",
       "2023-01-02 00:00:00         24.4        44\n",
       "2023-01-02 12:00:00         24.4        44\n",
       "2023-01-03 00:00:00         22.1        50\n",
       "2023-01-03 12:00:00         22.1        50\n",
       "2023-01-04 00:00:00         22.0        44\n",
       "2023-01-04 12:00:00         22.0        44\n",
       "2023-01-05 00:00:00         31.3        46\n",
       "2023-01-05 12:00:00         31.3        46"
      ]
     },
     "execution_count": 102,
     "metadata": {},
     "output_type": "execute_result"
    }
   ],
   "source": [
    "# resample\n",
    "df_resampled = df.resample(\"12h\").bfill()\n",
    "\n",
    "df_resampled"
   ]
  },
  {
   "cell_type": "code",
   "execution_count": 110,
   "metadata": {},
   "outputs": [
    {
     "data": {
      "text/html": [
       "<div>\n",
       "<style scoped>\n",
       "    .dataframe tbody tr th:only-of-type {\n",
       "        vertical-align: middle;\n",
       "    }\n",
       "\n",
       "    .dataframe tbody tr th {\n",
       "        vertical-align: top;\n",
       "    }\n",
       "\n",
       "    .dataframe thead th {\n",
       "        text-align: right;\n",
       "    }\n",
       "</style>\n",
       "<table border=\"1\" class=\"dataframe\">\n",
       "  <thead>\n",
       "    <tr style=\"text-align: right;\">\n",
       "      <th></th>\n",
       "      <th>temperature</th>\n",
       "      <th>humidity</th>\n",
       "      <th>Hour</th>\n",
       "    </tr>\n",
       "    <tr>\n",
       "      <th>timestamp</th>\n",
       "      <th></th>\n",
       "      <th></th>\n",
       "      <th></th>\n",
       "    </tr>\n",
       "  </thead>\n",
       "  <tbody>\n",
       "    <tr>\n",
       "      <th>2023-01-01 12:00:00</th>\n",
       "      <td>23.3</td>\n",
       "      <td>43</td>\n",
       "      <td>12</td>\n",
       "    </tr>\n",
       "    <tr>\n",
       "      <th>2023-01-02 12:00:00</th>\n",
       "      <td>24.4</td>\n",
       "      <td>44</td>\n",
       "      <td>12</td>\n",
       "    </tr>\n",
       "    <tr>\n",
       "      <th>2023-01-03 12:00:00</th>\n",
       "      <td>22.1</td>\n",
       "      <td>50</td>\n",
       "      <td>12</td>\n",
       "    </tr>\n",
       "    <tr>\n",
       "      <th>2023-01-04 12:00:00</th>\n",
       "      <td>22.0</td>\n",
       "      <td>44</td>\n",
       "      <td>12</td>\n",
       "    </tr>\n",
       "    <tr>\n",
       "      <th>2023-01-05 12:00:00</th>\n",
       "      <td>31.3</td>\n",
       "      <td>46</td>\n",
       "      <td>12</td>\n",
       "    </tr>\n",
       "  </tbody>\n",
       "</table>\n",
       "</div>"
      ],
      "text/plain": [
       "                     temperature  humidity  Hour\n",
       "timestamp                                       \n",
       "2023-01-01 12:00:00         23.3        43    12\n",
       "2023-01-02 12:00:00         24.4        44    12\n",
       "2023-01-03 12:00:00         22.1        50    12\n",
       "2023-01-04 12:00:00         22.0        44    12\n",
       "2023-01-05 12:00:00         31.3        46    12"
      ]
     },
     "execution_count": 110,
     "metadata": {},
     "output_type": "execute_result"
    }
   ],
   "source": [
    "# extract hours\n",
    "df_hour = df.copy()\n",
    "\n",
    "df_hour[\"Hour\"] = df_hour.index.hour\n",
    "\n",
    "df_hour"
   ]
  },
  {
   "cell_type": "code",
   "execution_count": 112,
   "metadata": {},
   "outputs": [
    {
     "name": "stdout",
     "output_type": "stream",
     "text": [
      "<class 'pandas.core.frame.DataFrame'>\n",
      "DatetimeIndex: 5 entries, 2023-01-01 12:00:00 to 2023-01-05 12:00:00\n",
      "Data columns (total 3 columns):\n",
      " #   Column        Non-Null Count  Dtype  \n",
      "---  ------        --------------  -----  \n",
      " 0   temperature   5 non-null      float64\n",
      " 1   humidity      5 non-null      int64  \n",
      " 2   ts_formatted  5 non-null      object \n",
      "dtypes: float64(1), int64(1), object(1)\n",
      "memory usage: 160.0+ bytes\n"
     ]
    },
    {
     "data": {
      "text/html": [
       "<div>\n",
       "<style scoped>\n",
       "    .dataframe tbody tr th:only-of-type {\n",
       "        vertical-align: middle;\n",
       "    }\n",
       "\n",
       "    .dataframe tbody tr th {\n",
       "        vertical-align: top;\n",
       "    }\n",
       "\n",
       "    .dataframe thead th {\n",
       "        text-align: right;\n",
       "    }\n",
       "</style>\n",
       "<table border=\"1\" class=\"dataframe\">\n",
       "  <thead>\n",
       "    <tr style=\"text-align: right;\">\n",
       "      <th></th>\n",
       "      <th>temperature</th>\n",
       "      <th>humidity</th>\n",
       "      <th>ts_formatted</th>\n",
       "    </tr>\n",
       "    <tr>\n",
       "      <th>timestamp</th>\n",
       "      <th></th>\n",
       "      <th></th>\n",
       "      <th></th>\n",
       "    </tr>\n",
       "  </thead>\n",
       "  <tbody>\n",
       "    <tr>\n",
       "      <th>2023-01-01 12:00:00</th>\n",
       "      <td>23.3</td>\n",
       "      <td>43</td>\n",
       "      <td>2023-01-01</td>\n",
       "    </tr>\n",
       "    <tr>\n",
       "      <th>2023-01-02 12:00:00</th>\n",
       "      <td>24.4</td>\n",
       "      <td>44</td>\n",
       "      <td>2023-01-02</td>\n",
       "    </tr>\n",
       "    <tr>\n",
       "      <th>2023-01-03 12:00:00</th>\n",
       "      <td>22.1</td>\n",
       "      <td>50</td>\n",
       "      <td>2023-01-03</td>\n",
       "    </tr>\n",
       "    <tr>\n",
       "      <th>2023-01-04 12:00:00</th>\n",
       "      <td>22.0</td>\n",
       "      <td>44</td>\n",
       "      <td>2023-01-04</td>\n",
       "    </tr>\n",
       "    <tr>\n",
       "      <th>2023-01-05 12:00:00</th>\n",
       "      <td>31.3</td>\n",
       "      <td>46</td>\n",
       "      <td>2023-01-05</td>\n",
       "    </tr>\n",
       "  </tbody>\n",
       "</table>\n",
       "</div>"
      ],
      "text/plain": [
       "                     temperature  humidity ts_formatted\n",
       "timestamp                                              \n",
       "2023-01-01 12:00:00         23.3        43   2023-01-01\n",
       "2023-01-02 12:00:00         24.4        44   2023-01-02\n",
       "2023-01-03 12:00:00         22.1        50   2023-01-03\n",
       "2023-01-04 12:00:00         22.0        44   2023-01-04\n",
       "2023-01-05 12:00:00         31.3        46   2023-01-05"
      ]
     },
     "execution_count": 112,
     "metadata": {},
     "output_type": "execute_result"
    }
   ],
   "source": [
    "# timestamp to string\n",
    "\n",
    "df_ts_str = df.copy()\n",
    "\n",
    "df_ts_str[\"ts_formatted\"] = df_ts_str.index.strftime(\"%Y-%m-%d\")\n",
    "\n",
    "df_ts_str.info()\n",
    "df_ts_str"
   ]
  },
  {
   "cell_type": "code",
   "execution_count": 113,
   "metadata": {},
   "outputs": [
    {
     "data": {
      "text/html": [
       "<div>\n",
       "<style scoped>\n",
       "    .dataframe tbody tr th:only-of-type {\n",
       "        vertical-align: middle;\n",
       "    }\n",
       "\n",
       "    .dataframe tbody tr th {\n",
       "        vertical-align: top;\n",
       "    }\n",
       "\n",
       "    .dataframe thead th {\n",
       "        text-align: right;\n",
       "    }\n",
       "</style>\n",
       "<table border=\"1\" class=\"dataframe\">\n",
       "  <thead>\n",
       "    <tr style=\"text-align: right;\">\n",
       "      <th></th>\n",
       "      <th>temperature</th>\n",
       "      <th>humidity</th>\n",
       "      <th>ts_formatted</th>\n",
       "    </tr>\n",
       "    <tr>\n",
       "      <th>timestamp</th>\n",
       "      <th></th>\n",
       "      <th></th>\n",
       "      <th></th>\n",
       "    </tr>\n",
       "  </thead>\n",
       "  <tbody>\n",
       "    <tr>\n",
       "      <th>2023-01-05 12:00:00</th>\n",
       "      <td>31.3</td>\n",
       "      <td>46</td>\n",
       "      <td>2023-01-05</td>\n",
       "    </tr>\n",
       "    <tr>\n",
       "      <th>2023-01-04 12:00:00</th>\n",
       "      <td>22.0</td>\n",
       "      <td>44</td>\n",
       "      <td>2023-01-04</td>\n",
       "    </tr>\n",
       "    <tr>\n",
       "      <th>2023-01-03 12:00:00</th>\n",
       "      <td>22.1</td>\n",
       "      <td>50</td>\n",
       "      <td>2023-01-03</td>\n",
       "    </tr>\n",
       "    <tr>\n",
       "      <th>2023-01-02 12:00:00</th>\n",
       "      <td>24.4</td>\n",
       "      <td>44</td>\n",
       "      <td>2023-01-02</td>\n",
       "    </tr>\n",
       "    <tr>\n",
       "      <th>2023-01-01 12:00:00</th>\n",
       "      <td>23.3</td>\n",
       "      <td>43</td>\n",
       "      <td>2023-01-01</td>\n",
       "    </tr>\n",
       "  </tbody>\n",
       "</table>\n",
       "</div>"
      ],
      "text/plain": [
       "                     temperature  humidity ts_formatted\n",
       "timestamp                                              \n",
       "2023-01-05 12:00:00         31.3        46   2023-01-05\n",
       "2023-01-04 12:00:00         22.0        44   2023-01-04\n",
       "2023-01-03 12:00:00         22.1        50   2023-01-03\n",
       "2023-01-02 12:00:00         24.4        44   2023-01-02\n",
       "2023-01-01 12:00:00         23.3        43   2023-01-01"
      ]
     },
     "execution_count": 113,
     "metadata": {},
     "output_type": "execute_result"
    }
   ],
   "source": [
    "# sort by date string values\n",
    "\n",
    "df_sorted = df_ts_str.sort_values(by=\"ts_formatted\", ascending=False)\n",
    "\n",
    "df_sorted"
   ]
  }
 ],
 "metadata": {
  "kernelspec": {
   "display_name": "Python 3",
   "language": "python",
   "name": "python3"
  },
  "language_info": {
   "codemirror_mode": {
    "name": "ipython",
    "version": 3
   },
   "file_extension": ".py",
   "mimetype": "text/x-python",
   "name": "python",
   "nbconvert_exporter": "python",
   "pygments_lexer": "ipython3",
   "version": "3.11.2"
  }
 },
 "nbformat": 4,
 "nbformat_minor": 2
}
